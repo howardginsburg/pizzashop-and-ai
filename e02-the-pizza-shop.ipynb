{
 "cells": [
  {
   "cell_type": "markdown",
   "metadata": {},
   "source": [
    "# E2 The hero: Andrew Ng's pizza shop owner from TED\n",
    "\n",
    "[![](assets/andrew_ng.jpg)](assets/thepizzastore720.mp4)\n",
    "\n",
    "In his TED 2022 talk, Andrew Ng describes \"How AI could empower any business ([TED 2022](https://www.ted.com/talks/andrew_ng_how_ai_could_empower_any_business))\" as  means to help us all understand that the new kind of AI technology could be put into service for anybody — including Andrew's favorite pizza shop.\n",
    "\n"
   ]
  },
  {
   "cell_type": "markdown",
   "metadata": {},
   "source": [
    "## 🧑‍🍳 Getting to know the pizza shop owner\n",
    "\n",
    "We want to get a sense of the challenges of the pizza shop owner, so we take the time to interview them to best understand their Strengths, Weaknesses, Opportunities, and Threats -- so-called \"SWOT Analysis.\" The interview questions are as follows:\n",
    "\n",
    "1. **Strengths**\n",
    "    - What unique recipes or ingredients does the pizza shop use?\n",
    "    - What are the skills and experience of the staff?\n",
    "    - Does the pizza shop have a strong reputation in the local area?\n",
    "    - Are there any unique features of the shop or its location that attract customers?\n",
    "2. **Weaknesses**\n",
    "    - What are the operational challenges of the pizza shop? (e.g., slow service, high staff turnover)\n",
    "    - Are there financial constraints that limit growth or improvements?\n",
    "    - Are there any gaps in the product offering?\n",
    "    - Are there customer complaints or negative reviews that need to be addressed?\n",
    "3. **Opportunities**\n",
    "    - Is there potential for new products or services (e.g., catering, delivery)?\n",
    "    - Are there under-served customer segments or market areas?\n",
    "    - Can new technologies or systems enhance the business operations?\n",
    "    - Are there partnerships or local events that can be leveraged for marketing?\n",
    "4. **Threats**\n",
    "    - Who are the major competitors and what are they offering?\n",
    "    - Are there potential negative impacts due to changes in the local area (e.g., construction, closure of nearby businesses)?\n",
    "    - Are there economic or industry trends that could impact the business negatively (e.g., increased ingredient costs)?\n",
    "    - Is there any risk due to changes in regulations or legislation (e.g., health and safety, employment)?"
   ]
  },
  {
   "cell_type": "markdown",
   "metadata": {},
   "source": [
    "## 🧐 The SWOT results that came back\n",
    "\n",
    "### 🔖 Strengths and Weaknesses\n",
    "\n",
    "There's a lot for the pizza shop owner to build upon (their strengths) and there are some ongoing concerns (their weaknesses) that may slow the pizza shop owner's business over time. \n",
    "\n",
    "| **Strengths**                                     | **Weaknesses**                                               |\n",
    "| --- | --- |\n",
    "| Unique garlic pizza recipe that wins top awards  | High staff turnover                                          |\n",
    "| Owner trained in Sicily at some of the best pizzerias                          | Floods in the area damaged the seating areas that are in need of repair  |\n",
    "| Strong local reputation                           | Absence of popular calzones from menu                        |\n",
    "| Prime location on university campus               | Negative reviews from younger demographic for lack of hip ingredients |\n",
    "\n",
    "Meanwhile there's money being left on the table (their opportunities) with calamities (their threats) waiting in the wings to possibly happen and may knock their pizza shop out cold.\n",
    "\n",
    "### 🔖 Opportunities and Threats\n",
    "\n",
    "| **Opportunities**                                 | **Threats**                                                  |\n",
    "| --- | ---|\n",
    "| Untapped catering potential                       | Rising competition from cheaper pizza businesses nearby |\n",
    "| Growing local tech startup community              | There's nearby street construction that will impact foot traffic |\n",
    "| Unexplored online presence and order capabilities | Rising cost of cheese                                        |\n",
    "| Upcoming annual food fair                         | No immediate local regulatory changes but it's election season |"
   ]
  },
  {
   "cell_type": "markdown",
   "metadata": {},
   "source": [
    "## 💪 Let's improve the pizza shop owner's business\n",
    "\n",
    "### Building on strengths\n",
    "\n",
    "We can choose to build on a few of the pizza shop owner's existing strengths to grow their business. This is generally the most prudent course of action because it's what's typically considered \"a good offensive maneuver\" — because after all, you're more likely to win where you're winning the most. \n",
    "\n",
    "| STRENGTH 1 | STRENGTH 2 |\n",
    "|---|---|\n",
    "| The best garlic pizza in the business | The store owner was trained in Sicily |\n",
    "| ![](assets/garlicpizza.png) | ![](assets/measuring.png) |\n",
    "\n",
    "We can also help make the business more efficient by addressing a few of their weaknesses. This is more of a defensive approach which plays well when a business has a working offense. Starting with one's strengths and then addressing a weakness tends to be a better tactic — but then again, sometimes a business' weakness can kill it so quickly that its strengths never get dialed up in time. Keep in mind that the circumstances are always fluid, and so being *agile* will always matter.\n",
    "\n",
    "| WEAKNESS 1 | WEAKNESS 2 |\n",
    "|---|---|\n",
    "| High turnover in under-skilled employees | Calzones are trending but not on the menu | \n",
    "| ![](assets/workersleaving.png) | ![](assets/calzones.png) |\n",
    "\n",
    "Lastly, with the right balance of leveraging strengths and addressing weaknesses, there may be room for the business to investigate opportunities to grow the business by reaching into new markets with product modifications and/or by launching entirely new products. And as the business attempts to take on more uncertainty and risk, it's prudent for the business to imagine and prepare for how to make itself more resilient. By being more resilient, it becomes possible to take on more risk to reap more rewards. In absence of designing itself for resilience, the business can take on too much risk and fold when an unexpected failure occurs.\n",
    "\n",
    "| OPPORTUNITY 1 | THREAT 1 |\n",
    "|---|---|\n",
    "| The spring neighborhood fair is coming | Cheese prices are skyrocketing in price |\n",
    "| ![](assets/townfair.png) | ![](assets/cheese.png) |"
   ]
  }
 ],
 "metadata": {
  "language_info": {
   "name": "python"
  },
  "orig_nbformat": 4
 },
 "nbformat": 4,
 "nbformat_minor": 2
}
