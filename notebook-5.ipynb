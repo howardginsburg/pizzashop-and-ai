{
 "cells": [
  {
   "cell_type": "markdown",
   "metadata": {},
   "source": [
    "# 🧑‍🍳 Don’t forget to save the generated drippings, or “the gravy”"
   ]
  },
  {
   "cell_type": "markdown",
   "metadata": {},
   "source": [
    "## 🔥 Get a kernel ready with a vector memory store\n",
    "\n",
    "We're going to create a kernel that includes an embedding generation service — so that we can more easily absorb the knowledge that we're ✨ generating with the LLM for later reuse. BTW this is a common pattern we've seen with much larger businesses using Semantic Kernel today, but could apply at a smaller scale for the pizza shop owner:\n",
    "\n",
    "1. Gather documents that are pertinent to the business in both structured and unstructured forms.\n",
    "2. Create custom plugins to analyze and/or broaden the business' knowledge base for use by LLMs.\n",
    "3. Move all the information into a vector database after converting it via embedding models.\n",
    "\n",
    "Let's get more familiar with how embeddings work by ✨ generating more information that we can later work with."
   ]
  },
  {
   "cell_type": "code",
   "execution_count": 1,
   "metadata": {},
   "outputs": [
    {
     "name": "stderr",
     "output_type": "stream",
     "text": [
      "/Users/johnmaeda/Documents/GitHub/pizzashop-and-ai/.venv/lib/python3.9/site-packages/urllib3/__init__.py:34: NotOpenSSLWarning: urllib3 v2.0 only supports OpenSSL 1.1.1+, currently the 'ssl' module is compiled with 'LibreSSL 2.8.3'. See: https://github.com/urllib3/urllib3/issues/3020\n",
      "  warnings.warn(\n"
     ]
    }
   ],
   "source": [
    "from IPython.display import display, Markdown\n",
    "import semantic_kernel as sk\n",
    "from semantic_kernel.connectors.ai.open_ai import OpenAIChatCompletion, OpenAITextEmbedding\n",
    "from semantic_kernel.connectors.ai.open_ai import AzureChatCompletion, AzureTextEmbedding\n",
    "from semantic_kernel.connectors.memory.chroma import ChromaMemoryStore\n",
    "\n",
    "kernel = sk.Kernel()\n",
    "\n",
    "useAzureOpenAI = False\n",
    "\n",
    "# Configure AI services used by the kernel\n",
    "if useAzureOpenAI:\n",
    "    deployment, api_key, endpoint = sk.azure_openai_settings_from_dot_env()\n",
    "    kernel.add_text_completion_service(\"azureopenai-completion\", AzureChatCompletion(deployment, endpoint, api_key))\n",
    "    kernel.add_text_embedding_generation_service(\"azureopenai-embedding\", AzureTextEmbedding(\"text-embedding-ada-002\", api_key, endpoint))\n",
    "else:\n",
    "    api_key, org_id = sk.openai_settings_from_dot_env()\n",
    "    kernel.add_text_completion_service(\"openai-completion\", OpenAIChatCompletion(\"gpt-3.5-turbo-0301\", api_key, org_id))\n",
    "    kernel.add_text_embedding_generation_service(\"openai-embedding\", OpenAITextEmbedding(\"text-embedding-ada-002\", api_key, org_id))\n",
    "\n",
    "kernel.register_memory_store(memory_store=ChromaMemoryStore(persist_directory='mymemories'))"
   ]
  },
  {
   "cell_type": "markdown",
   "metadata": {},
   "source": [
    "Note that a new directory `mymemories` should be visible. If you want to start this set of lessons from the very beginning, delete the directory `mymemories` before you run the code above.\n",
    "\n",
    "You can delete the directory `mymemories` if you'd like to start over again at some point in the future. "
   ]
  },
  {
   "cell_type": "code",
   "execution_count": 6,
   "metadata": {},
   "outputs": [
    {
     "name": "stdout",
     "output_type": "stream",
     "text": [
      "⚠️ Memory cleared and reset\n"
     ]
    }
   ],
   "source": [
    "import shutil\n",
    "\n",
    "### ONLY DELETE THE DIRECTORY IF YOU WANT TO CLEAR THE MEMORY\n",
    "### OTHERWISE, SET delete_dir = True\n",
    "\n",
    "delete_dir = False\n",
    "\n",
    "if (delete_dir):\n",
    "    dir_path = \"mymemories\"\n",
    "    shutil.rmtree(dir_path)\n",
    "    kernel.register_memory_store(memory_store=ChromaMemoryStore(persist_directory=dir_path))\n",
    "    print(\"⚠️ Memory cleared and reset\")"
   ]
  },
  {
   "cell_type": "markdown",
   "metadata": {},
   "source": [
    "## 😶‍🌫️ Convert our SWOT into embeddings and store them in a memory collection.\n",
    "\n",
    "We store the SWOT information in \"conventional\" arrays in Python that are not \"semantic\" in nature. That said, they're still eminently useful for the kind of computations we'll play with.\n",
    "\n",
    "And to store the information semantically, we use the text embedding model added to the kernel to convert text into long vectors of numbers. We only need to do this once. But note that unless we have a \"vector database\" wired into the kernel, the embedding calculations do not last beyond this notebook. That's why it's called a \"volatile\" memory store."
   ]
  },
  {
   "cell_type": "code",
   "execution_count": 2,
   "metadata": {},
   "outputs": [
    {
     "name": "stdout",
     "output_type": "stream",
     "text": [
      "✅ SWOT analysis for the pizza shop is resident in native memory\n"
     ]
    },
    {
     "name": "stderr",
     "output_type": "stream",
     "text": [
      "Insert of existing embedding ID: strength-0\n",
      "Add of existing embedding ID: strength-0\n",
      "Insert of existing embedding ID: strength-1\n",
      "Add of existing embedding ID: strength-1\n",
      "Insert of existing embedding ID: strength-2\n",
      "Add of existing embedding ID: strength-2\n",
      "Insert of existing embedding ID: strength-3\n",
      "Add of existing embedding ID: strength-3\n",
      "Insert of existing embedding ID: weakness-0\n",
      "Add of existing embedding ID: weakness-0\n",
      "Insert of existing embedding ID: weakness-1\n",
      "Add of existing embedding ID: weakness-1\n",
      "Insert of existing embedding ID: weakness-2\n",
      "Add of existing embedding ID: weakness-2\n",
      "Insert of existing embedding ID: weakness-3\n",
      "Add of existing embedding ID: weakness-3\n",
      "Insert of existing embedding ID: opportunity-0\n",
      "Add of existing embedding ID: opportunity-0\n",
      "Insert of existing embedding ID: opportunity-1\n",
      "Add of existing embedding ID: opportunity-1\n",
      "Insert of existing embedding ID: opportunity-2\n",
      "Add of existing embedding ID: opportunity-2\n",
      "Insert of existing embedding ID: opportunity-3\n",
      "Add of existing embedding ID: opportunity-3\n",
      "Insert of existing embedding ID: threat-0\n",
      "Add of existing embedding ID: threat-0\n",
      "Insert of existing embedding ID: threat-1\n",
      "Add of existing embedding ID: threat-1\n",
      "Insert of existing embedding ID: threat-2\n",
      "Add of existing embedding ID: threat-2\n",
      "Insert of existing embedding ID: threat-3\n",
      "Add of existing embedding ID: threat-3\n"
     ]
    },
    {
     "name": "stdout",
     "output_type": "stream",
     "text": [
      "😶‍🌫️ Embeddings for SWOT have been generated\n"
     ]
    }
   ],
   "source": [
    "strength_questions = [\"What unique recipes or ingredients does the pizza shop use?\",\"What are the skills and experience of the staff?\",\"Does the pizza shop have a strong reputation in the local area?\",\"Are there any unique features of the shop or its location that attract customers?\", \"Does the pizza shop have a strong reputation in the local area?\", \"Are there any unique features of the shop or its location that attract customers?\"]\n",
    "weakness_questions = [\"What are the operational challenges of the pizza shop? (e.g., slow service, high staff turnover)\",\"Are there financial constraints that limit growth or improvements?\",\"Are there any gaps in the product offering?\",\"Are there customer complaints or negative reviews that need to be addressed?\"]\n",
    "opportunities_questions = [\"Is there potential for new products or services (e.g., catering, delivery)?\",\"Are there under-served customer segments or market areas?\",\"Can new technologies or systems enhance the business operations?\",\"Are there partnerships or local events that can be leveraged for marketing?\"]\n",
    "threats_questions = [\"Who are the major competitors and what are they offering?\",\"Are there potential negative impacts due to changes in the local area (e.g., construction, closure of nearby businesses)?\",\"Are there economic or industry trends that could impact the business negatively (e.g., increased ingredient costs)?\",\"Is there any risk due to changes in regulations or legislation (e.g., health and safety, employment)?\"]\n",
    "\n",
    "strengths = [ \"Unique garlic pizza recipe that wins top awards\",\"Owner trained in Sicily at some of the best pizzerias\",\"Strong local reputation\",\"Prime location on university campus\" ]\n",
    "weaknesses = [ \"High staff turnover\",\"Floods in the area damaged the seating areas that are in need of repair\",\"Absence of popular calzones from menu\",\"Negative reviews from younger demographic for lack of hip ingredients\" ]\n",
    "opportunities = [ \"Untapped catering potential\",\"Growing local tech startup community\",\"Unexplored online presence and order capabilities\",\"Upcoming annual food fair\" ]\n",
    "threats = [ \"Competition from cheaper pizza businesses nearby\",\"There's nearby street construction that will impact foot traffic\",\"Rising cost of cheese will increase the cost of pizzas\",\"No immediate local regulatory changes but it's election season\" ]\n",
    "\n",
    "print(\"✅ SWOT analysis for the pizza shop is resident in native memory\")\n",
    "\n",
    "memoryCollectionName = \"SWOT\"\n",
    "\n",
    "for i in range(len(strengths)):\n",
    "    await kernel.memory.save_information_async(memoryCollectionName, id=f\"strength-{i}\", text=f\"Internal business strength (S in SWOT) that makes customers happy and satisfied Q&A: Q: {strength_questions[i]} A: {strengths[i]}\")\n",
    "for i in range(len(weaknesses)):\n",
    "    await kernel.memory.save_information_async(memoryCollectionName, id=f\"weakness-{i}\", text=f\"Internal business weakness (W in SWOT) that makes customers unhappy and dissatisfied Q&A: Q: {weakness_questions[i]} A: {weaknesses[i]}\")\n",
    "for i in range(len(opportunities)):\n",
    "    await kernel.memory.save_information_async(memoryCollectionName, id=f\"opportunity-{i}\", text=f\"External opportunity (O in SWOT) for the business to gain entirely new customers Q&A: Q: {opportunities_questions[i]} A: {opportunities[i]}\")\n",
    "for i in range(len(threats)):\n",
    "    await kernel.memory.save_information_async(memoryCollectionName, id=f\"threat-{i}\", text=f\"External threat (T in SWOT) to the business that impacts its survival Q&A: Q: {threats_questions[i]} A: {threats[i]}\")\n",
    "\n",
    "print(\"😶‍🌫️ Embeddings for SWOT have been generated\")"
   ]
  },
  {
   "cell_type": "markdown",
   "metadata": {},
   "source": [
    "Keep in mind that weaknesses and threats are v similar but strengths and weaknesses usually pertain to internal factors; whereas opportunities and threats pertain to external factors. Play around with the `potential_question` variable below to get a sense of how the embedding model does with comparing your `potential_question` to the vectors that have been computed and stored in the step above."
   ]
  },
  {
   "cell_type": "code",
   "execution_count": 3,
   "metadata": {},
   "outputs": [
    {
     "data": {
      "text/markdown": [
       "### ❓ Potential question: what are easiest ways to make more money?"
      ],
      "text/plain": [
       "<IPython.core.display.Markdown object>"
      ]
     },
     "metadata": {},
     "output_type": "display_data"
    },
    {
     "name": "stdout",
     "output_type": "stream",
     "text": [
      "  > 🧲 Similarity result 1:\n",
      "  >> ID: costefficiency\n",
      "  Text: ## Suggestions for how to gain cost efficiencies\n",
      "| Title | Strength | Weakness | Description |\n",
      "| ----- | -------- | -------- | ----------- |\n",
      "| Cross-training staff | Strong local reputation | High staff turnover | By cross-training staff in different roles, the business can reduce the need for hiring new staff and save on recruitment and training costs. |\n",
      "| Menu optimization | Unique garlic pizza recipe that wins top awards | Absence of popular calzones from menu | By analyzing sales data and customer feedback, the business can optimize its menu to focus on its strengths and add popular items like calzones to attract more customers. This can also help reduce food waste and inventory costs. |\n",
      "| Online reputation management | Prime location on university campus | Negative reviews from younger demographic for lack of hip ingredients | By actively monitoring and responding to online reviews, the business can improve its reputation and address any concerns or criticisms from customers. This can help attract more customers and increase revenue. |  Relevance: 0.7886473267648292\n",
      "\n",
      "  > 🧲 Similarity result 2:\n",
      "  >> ID: timeefficiency\n",
      "  Text: ## Suggestions for how to gain time efficiencies\n",
      "| Title | Strength | Weakness | Description |\n",
      "| ----- | -------- | -------- | ----------- |\n",
      "| Online ordering system | Strong local reputation | High staff turnover | Implementing an online ordering system can reduce the need for staff to take orders over the phone or in person, freeing up their time for other tasks. This can help alleviate the impact of high staff turnover. |\n",
      "| Streamlined kitchen processes | Unique garlic pizza recipe that wins top awards | Absence of popular calzones from menu | By streamlining kitchen processes, such as prepping ingredients in advance and optimizing cooking times, the business can reduce the time it takes to prepare each dish. This can allow for the addition of popular calzones to the menu without sacrificing quality or increasing wait times. |\n",
      "| Cross-training staff | Owner trained in Sicily at some of the best pizzerias | Floods in the area damaged the seating areas that are in need of repair | By cross-training staff to handle multiple tasks, such as cooking, serving, and cleaning, the business can ensure that it can continue to operate even if certain areas of the restaurant are temporarily out of commission due to flooding or other issues. This can help mitigate the impact of damage to the seating areas. |  Relevance: 0.7742112953696816\n",
      "\n",
      "  > 🧲 Similarity result 3:\n",
      "  >> ID: opportunity-0\n",
      "  Text: External opportunity (O in SWOT) for the business to gain entirely new customers Q&A: Q: Is there potential for new products or services (e.g., catering, delivery)? A: Untapped catering potential  Relevance: 0.7689356452897221\n",
      "\n",
      "  > 🧲 Similarity result 4:\n",
      "  >> ID: opportunity-3\n",
      "  Text: External opportunity (O in SWOT) for the business to gain entirely new customers Q&A: Q: Are there partnerships or local events that can be leveraged for marketing? A: Upcoming annual food fair  Relevance: 0.7672511644842115\n",
      "\n",
      "  > 🧲 Similarity result 5:\n",
      "  >> ID: opportunity-1\n",
      "  Text: External opportunity (O in SWOT) for the business to gain entirely new customers Q&A: Q: Are there under-served customer segments or market areas? A: Growing local tech startup community  Relevance: 0.763338533334014\n",
      "\n"
     ]
    }
   ],
   "source": [
    "potential_question = \"what are easiest ways to make more money?\"\n",
    "counter = 0\n",
    "\n",
    "memories = await kernel.memory.search_async(memoryCollectionName, potential_question, limit=5, min_relevance_score=0.5)\n",
    "\n",
    "display(Markdown(f\"### ❓ Potential question: {potential_question}\"))\n",
    "\n",
    "for memory in memories:\n",
    "    if counter == 0:\n",
    "        related_memory = memory.text\n",
    "    counter += 1\n",
    "    print(f\"  > 🧲 Similarity result {counter}:\\n  >> ID: {memory.id}\\n  Text: {memory.text}  Relevance: {memory.relevance}\\n\")"
   ]
  },
  {
   "cell_type": "markdown",
   "metadata": {},
   "source": [
    "The idea of having a semantic memory bank like this means a lot can be done with your LLM AI because you have a \"vat\" of knowledge available to you that can be sourced for processing through the LLM. And yes, you're using the SIMILARITY engine now!\n",
    "\n",
    "![](assets/similarity.png)"
   ]
  },
  {
   "cell_type": "markdown",
   "metadata": {},
   "source": [
    "## Storing all the Business Thinking into semantic memory\n",
    "\n",
    "Let's take everything we have gathered thus far and put it into the semantic memory bank"
   ]
  },
  {
   "cell_type": "code",
   "execution_count": 9,
   "metadata": {},
   "outputs": [
    {
     "name": "stdout",
     "output_type": "stream",
     "text": [
      "✨ Computing cost efficiency...\n",
      "✨ Computing time efficiency...\n",
      "✨ Computing business strategies overview...\n",
      "😶‍🌫️ 🎉 Memory is now flush with information :+)\n"
     ]
    }
   ],
   "source": [
    "pluginsDirectory = \"./plugins-sk\"\n",
    "\n",
    "pluginBT = kernel.import_semantic_skill_from_directory(pluginsDirectory, \"BusinessThinking\");\n",
    "\n",
    "my_context = kernel.create_new_context()\n",
    "\n",
    "the_business = 'makes pizzas'\n",
    "my_context['input'] = the_business\n",
    "my_context['strengths'] = \", \".join(strengths)\n",
    "my_context['weaknesses'] = \", \".join(weaknesses)\n",
    "my_context['opportunities'] = \", \".join(opportunities)\n",
    "my_context['threats'] = \", \".join(threats)\n",
    "\n",
    "print(\"✨ Computing cost efficiency...\")\n",
    "costefficiency_result = await kernel.run_async(pluginBT[\"SeekCostEfficiency\"], input_context=my_context)\n",
    "costefficiency_str = str(\"## Suggestions for how to gain cost efficiencies\\n\" + str(costefficiency_result))\n",
    "await kernel.memory.save_information_async(memoryCollectionName, id=\"costefficiency\", text=costefficiency_str)\n",
    "\n",
    "print(\"✨ Computing time efficiency...\")\n",
    "timeefficiency_result = await kernel.run_async(pluginBT[\"SeekTimeEfficiency\"], input_context=my_context)\n",
    "timeefficiency_str = \"## Suggestions for how to gain time efficiencies\\n\"+str(timeefficiency_result)\n",
    "await kernel.memory.save_information_async(memoryCollectionName, id=\"timeefficiency\", text=timeefficiency_str)\n",
    "\n",
    "print(\"✨ Computing business strategies overview...\")\n",
    "bizstrat_result = await kernel.run_async(pluginBT[\"BasicStrategies\"], input_context=my_context)\n",
    "bizstrat_str = \"# Business strategy thinking based on SWOT analysis\\n\"+str(bizstrat_result)\n",
    "await kernel.memory.save_information_async(memoryCollectionName, id=\"bizstrat\", text=bizstrat_str)\n",
    "\n",
    "customer_comments = \"\"\"\n",
    "Customer 1: The seats look really raggedy.\n",
    "Customer 2: The garlic pizza is the best on this earth.\n",
    "Customer 3: I've noticed that there's a new server every time I visit, and they're clueless.\n",
    "Customer 4: Why aren't there calzones?\n",
    "Customer 5: I love the garlic pizza and can't get it anywhere else.\n",
    "Customer 6: The garlic pizza is exceptional.\n",
    "Customer 7: Pizza can get a little messy so I prefer a calzone's neatness.\n",
    "Customer 8: Why is the pizza so expensive?\n",
    "Customer 9: There's no way to do online ordering.\n",
    "Customer 10: Why is the seating so uncomfortable and dirty?\n",
    "\"\"\"\n",
    "\n",
    "print(\"😶‍🌫️ 🎉 Memory is now flush with information :+)\")"
   ]
  },
  {
   "cell_type": "markdown",
   "metadata": {},
   "source": [
    "## 🧐 Put the accumulated memory to good use for \"what if\" scenarios\n",
    "\n",
    "We can now put this information to work with the `FriendlyConsultant` plugin and have a special presentation generated on any \"what if\" scenario topic that we choose."
   ]
  },
  {
   "cell_type": "code",
   "execution_count": 10,
   "metadata": {},
   "outputs": [
    {
     "name": "stdout",
     "output_type": "stream",
     "text": [
      "✨ Leveraging information available to address 'How can the business owner save time?'...\n",
      "  > 🧲 Hit 1: timeefficiency \n",
      "  > 🧲 Hit 2: costefficiency \n",
      "  > 🧲 Hit 3: opportunity-2 \n",
      "✨ Synthesizing human-readable business-style presentation...\n"
     ]
    },
    {
     "data": {
      "text/markdown": [
       "# ✨ Generated presentation ...\n",
       "---\n",
       "# Business Strategy Consultant Presentation\n",
       "## How to Save Time for the Business Owner\n",
       "\n",
       "---\n",
       "## The Question\n",
       "How can the business owner save time?\n",
       "\n",
       "---\n",
       "## Three Key Concerns\n",
       "1. Reducing the need for staff to take orders\n",
       "2. Streamlining kitchen processes\n",
       "3. Cross-training staff\n",
       "\n",
       "---\n",
       "## Concern 1: Reducing the need for staff to take orders\n",
       "### Explanation\n",
       "Implementing an online ordering system can reduce the need for staff to take orders over the phone or in person, freeing up their time for other tasks. This can help alleviate the impact of high staff turnover.\n",
       "\n",
       "### Example\n",
       "The business can implement an online ordering system that allows customers to place orders through the website or mobile app. This can reduce the need for staff to take orders over the phone or in person, freeing up their time for other tasks.\n",
       "\n",
       "---\n",
       "## Concern 2: Streamlining kitchen processes\n",
       "### Explanation\n",
       "By streamlining kitchen processes, such as prepping ingredients in advance and optimizing cooking times, the business can reduce the time it takes to prepare each dish. This can allow for the addition of popular calzones to the menu without sacrificing quality or increasing wait times.\n",
       "\n",
       "### Example\n",
       "The business can analyze its kitchen processes and identify areas where time can be saved. For example, prepping ingredients in advance can reduce the time it takes to prepare each dish. Optimizing cooking times can also help reduce wait times for customers.\n",
       "\n",
       "---\n",
       "## Concern 3: Cross-training staff\n",
       "### Explanation\n",
       "By cross-training staff to handle multiple tasks, such as cooking, serving, and cleaning, the business can ensure that it can continue to operate even if certain areas of the restaurant are temporarily out of commission due to flooding or other issues. This can help mitigate the impact of damage to the seating areas.\n",
       "\n",
       "### Example\n",
       "The business can provide cross-training to its staff to ensure that they are able to handle multiple tasks. For example, a server can also be trained to cook or clean, allowing them to fill in if needed. This can help ensure that the business can continue to operate even if certain areas of the restaurant are temporarily out of commission.\n",
       "\n",
       "---\n",
       "## Summary\n",
       "To save time for the business owner, the consultant recommends implementing an online ordering system, streamlining kitchen processes, and cross-training staff. These strategies can help reduce the need for staff to take orders, reduce the time it takes to prepare each dish, and ensure that the business can continue to operate even if certain areas of the restaurant are temporarily out of commission."
      ],
      "text/plain": [
       "<IPython.core.display.Markdown object>"
      ]
     },
     "metadata": {},
     "output_type": "display_data"
    }
   ],
   "source": [
    "what_if_scenario = \"How can the business owner save time?\"\n",
    "counter = 0\n",
    "\n",
    "gathered_context = []\n",
    "max_memories = 3\n",
    "memories = await kernel.memory.search_async(memoryCollectionName, what_if_scenario, limit=max_memories, min_relevance_score=0.77)\n",
    "\n",
    "print(f\"✨ Leveraging information available to address '{what_if_scenario}'...\")\n",
    "\n",
    "for memory in memories:\n",
    "    if counter == 0:\n",
    "        related_memory = memory.text\n",
    "    counter += 1\n",
    "    gathered_context.append(memory.text + \"\\n\")\n",
    "    print(f\"  > 🧲 Hit {counter}: {memory.id} \")\n",
    "\n",
    "skillsDirectory = \"./plugins-sk\"\n",
    "print(f\"✨ Synthesizing human-readable business-style presentation...\")\n",
    "pluginFC = kernel.import_semantic_skill_from_directory(skillsDirectory, \"FriendlyConsultant\");\n",
    "\n",
    "my_context = kernel.create_new_context()\n",
    "my_context['input'] = what_if_scenario\n",
    "my_context['context'] = \"\\n\".join(gathered_context)\n",
    "\n",
    "preso_result = await kernel.run_async(pluginFC[\"Presentation\"], input_context=my_context)\n",
    "\n",
    "display(Markdown(\"# ✨ Generated presentation ...\\n\"+str(preso_result)))\n",
    "\n"
   ]
  },
  {
   "cell_type": "markdown",
   "metadata": {},
   "source": [
    "## 📘 A quick review before we head deeper into the pizza shop owner's challenges\n",
    "\n",
    "1. Functions in SK enable encapsulating complicated AI computations in neat black box abstractons. \n",
    "2. Functions can be chained together with other functions and orchestrated serially by the kernel.  \n",
    "3. Vector memory stores hold unstructured text data that is semantically searchable. \n",
    "4. Gathering relevant chunks of text improves a prompt's behavior — context has the power to guide.\n",
    "\n",
    "## 🔖 Reminder: You have now accessed both the COMPLETION and SIMILARITY engines. \n",
    "\n",
    "Huzzah! In doing so, you've unlocked the popular \"RAG\" (Retrieval Augmented Generation) pattern.\n",
    "\n",
    "![](assets/ragpattern.png)"
   ]
  }
 ],
 "metadata": {
  "kernelspec": {
   "display_name": ".venv",
   "language": "python",
   "name": "python3"
  },
  "language_info": {
   "codemirror_mode": {
    "name": "ipython",
    "version": 3
   },
   "file_extension": ".py",
   "mimetype": "text/x-python",
   "name": "python",
   "nbconvert_exporter": "python",
   "pygments_lexer": "ipython3",
   "version": "3.9.6"
  },
  "orig_nbformat": 4
 },
 "nbformat": 4,
 "nbformat_minor": 2
}
