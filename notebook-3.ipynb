{
 "cells": [
  {
   "cell_type": "markdown",
   "metadata": {},
   "source": [
    "# 🧑‍🍳 Organizing the tools you make for later reuse"
   ]
  },
  {
   "cell_type": "markdown",
   "metadata": {},
   "source": [
    "## 📜 A few simple working rules for a modern business\n",
    "\n",
    "Every business benefits from four courses of action to be used together or in combination:\n",
    "\n",
    "1. Grow the existing business\n",
    "2. Save money and time\n",
    "3. Add completely new business\n",
    "4. Prepare for the unknown\n",
    "\n",
    "Growth as built upon a business' existing strengths is always a great place to start. And by finding any kinds of savings, those benefits can either be banked or reinvested. Sometimes a new line of business can be pursued with successful growth or savings initiatives. And as we all learned from the pandemic era, there's a certain benefit to businesses that are resilient to unexpected shifts that sit out their control. This leads us to a simplified way of thinking how best to tackle one's business challenges:\n",
    "\n",
    "* Strengths: Build upon them and grow\n",
    "* Weaknesses: Don't damage the core\n",
    "* Opportunities: Make a few bets\n",
    "* Threats: Be ready for undesirable changes"
   ]
  },
  {
   "cell_type": "markdown",
   "metadata": {},
   "source": [
    "## 🔥 Get a kernel ready\n",
    "\n",
    "Create a kernel so that you're ready to cook!"
   ]
  },
  {
   "cell_type": "code",
   "execution_count": 1,
   "metadata": {},
   "outputs": [
    {
     "name": "stdout",
     "output_type": "stream",
     "text": [
      "A kernel is now ready.\n"
     ]
    },
    {
     "name": "stderr",
     "output_type": "stream",
     "text": [
      "/Users/johnmaeda/Documents/GitHub/pizzashop-and-ai/.venv/lib/python3.9/site-packages/urllib3/__init__.py:34: NotOpenSSLWarning: urllib3 v2.0 only supports OpenSSL 1.1.1+, currently the 'ssl' module is compiled with 'LibreSSL 2.8.3'. See: https://github.com/urllib3/urllib3/issues/3020\n",
      "  warnings.warn(\n"
     ]
    }
   ],
   "source": [
    "import semantic_kernel as sk\n",
    "from semantic_kernel.connectors.ai.open_ai import AzureChatCompletion, OpenAIChatCompletion\n",
    "from IPython.display import display, Markdown\n",
    "\n",
    "kernel = sk.Kernel()\n",
    "\n",
    "useAzureOpenAI = False\n",
    "\n",
    "if useAzureOpenAI:\n",
    "    deployment, api_key, endpoint = sk.azure_openai_settings_from_dot_env()\n",
    "    kernel.add_text_completion_service(\"azureopenai\", AzureChatCompletion(deployment, endpoint, api_key))\n",
    "else:\n",
    "    api_key, org_id = sk.openai_settings_from_dot_env()\n",
    "    kernel.add_text_completion_service(\"openai\", OpenAIChatCompletion(\"gpt-3.5-turbo-0301\", api_key, org_id))\n",
    "\n",
    "print(\"A kernel is now ready.\")    "
   ]
  },
  {
   "cell_type": "markdown",
   "metadata": {},
   "source": [
    "## 🧐 Conceive of a BusinessThinking plugin — a collection of semantic functions\n",
    "\n",
    "The `BusinessThinking` plugin demonstrates how to tackle a SWOT in an effective manner for the business owner. We can start by seeking cost efficiencies that can help the pizza shop owner save money to either: 1/ reinvest into the business, or 2/ use for whatever the pizza shop owner needs.\n",
    "\n",
    "```directory\n",
    "plugins-sk/\n",
    "│\n",
    "└─── BusinessThinking/\n",
    "     |\n",
    "     └─── BasicStrategies/\n",
    "     |    └─── config.json\n",
    "     |    └─── skprompt.txt\n",
    "     |\n",
    "     └─── SeekCostEfficiency/\n",
    "     |    └─── config.json\n",
    "     |    └─── skprompt.txt\n",
    "     |\n",
    "     └─── SeekTimeEfficiency/\n",
    "          └─── config.json\n",
    "          └─── skprompt.txt\n",
    "```"
   ]
  },
  {
   "cell_type": "markdown",
   "metadata": {},
   "source": [
    "### 💸 Save the business some money"
   ]
  },
  {
   "cell_type": "code",
   "execution_count": 2,
   "metadata": {},
   "outputs": [
    {
     "data": {
      "text/markdown": [
       "### ✨ Suggestions for how to gain cost efficiencies\n",
       "| Title | Strength | Weakness | Description |\n",
       "| ----- | -------- | -------- | ----------- |\n",
       "| Cross-training staff | Strong local reputation | High staff turnover | By cross-training staff, the business can reduce the need for hiring new employees and save on recruitment and training costs. It also increases the flexibility of the workforce and ensures that operations can continue even if some staff members leave. |\n",
       "| Menu optimization | Unique garlic pizza recipe that wins top awards | Absence of popular calzones from menu | By optimizing the menu, the business can focus on its strengths and eliminate items that are not popular or profitable. This can reduce food waste, simplify operations, and improve efficiency in the kitchen. The business can also consider adding new items that complement its existing strengths and appeal to a wider audience. |\n",
       "| Online reputation management | Prime location on university campus | Negative reviews from younger demographic for lack of hip ingredients | By actively managing its online reputation, the business can address negative reviews and improve its image among younger customers. This can include responding to reviews, engaging with customers on social media, and promoting positive feedback. By improving its reputation, the business can attract more customers and increase revenue. |"
      ],
      "text/plain": [
       "<IPython.core.display.Markdown object>"
      ]
     },
     "metadata": {},
     "output_type": "display_data"
    }
   ],
   "source": [
    "strengths = [ \"Unique garlic pizza recipe that wins top awards\",\"Owner trained in Sicily at some of the best pizzerias\",\"Strong local reputation\",\"Prime location on university campus\" ]\n",
    "weaknesses = [ \"High staff turnover\",\"Floods in the area damaged the seating areas that are in need of repair\",\"Absence of popular calzones from menu\",\"Negative reviews from younger demographic for lack of hip ingredients\" ]\n",
    "opportunities = [ \"Untapped catering potential\",\"Growing local tech startup community\",\"Unexplored online presence and order capabilities\",\"Upcoming annual food fair\" ]\n",
    "threats = [ \"Competition from cheaper pizza businesses nearby\",\"There's nearby street construction that will impact foot traffic\",\"Rising cost of cheese will increase the cost of pizzas\",\"No immediate local regulatory changes but it's election season\" ]\n",
    "\n",
    "pluginsDirectory = \"./plugins-sk\"\n",
    "\n",
    "pluginBT = kernel.import_semantic_skill_from_directory(pluginsDirectory, \"BusinessThinking\");\n",
    "\n",
    "my_context = kernel.create_new_context()\n",
    "my_context['input'] = 'makes pizzas'\n",
    "my_context['strengths'] = \", \".join(strengths)\n",
    "my_context['weaknesses'] = \", \".join(weaknesses)\n",
    "\n",
    "costefficiency_result = await kernel.run_async(pluginBT[\"SeekCostEfficiency\"], input_context=my_context)\n",
    "\n",
    "costefficiency_str = str(\"### ✨ Suggestions for how to gain cost efficiencies\\n\" + str(costefficiency_result))\n",
    "display(Markdown(costefficiency_str))"
   ]
  },
  {
   "cell_type": "markdown",
   "metadata": {},
   "source": [
    "### ⌛️ Save the business some time"
   ]
  },
  {
   "cell_type": "markdown",
   "metadata": {},
   "source": [
    "Another thing the pizza shop owner wants to figure out is how to get more time back for themself. Often times that time gained can be used for the pizza shop to reinvest in the same way that money saved can be re-leveraged."
   ]
  },
  {
   "cell_type": "code",
   "execution_count": null,
   "metadata": {},
   "outputs": [],
   "source": [
    "pluginBT = kernel.import_semantic_skill_from_directory(pluginsDirectory, \"BusinessThinking\");\n",
    "\n",
    "my_context = kernel.create_new_context()\n",
    "my_context['input'] = 'makes pizzas'\n",
    "my_context['strengths'] = \", \".join(strengths)\n",
    "my_context['weaknesses'] = \", \".join(weaknesses)\n",
    "\n",
    "timeefficiency_result = await kernel.run_async(pluginBT[\"SeekTimeEfficiency\"], input_context=my_context)\n",
    "\n",
    "timeefficiency_str = \"### ✨ Suggestions for how to gain time efficiencies\\n\"+str(timeefficiency_result)\n",
    "display(Markdown(timeefficiency_str))"
   ]
  },
  {
   "cell_type": "markdown",
   "metadata": {},
   "source": [
    "## 🦅 Get a holistic view via the SWOT analysis\n",
    "\n",
    "And yet another way to seek improvements in the business is starting from the SWOT and finding not only efficiency, but new revenue and more resilience as well."
   ]
  },
  {
   "cell_type": "code",
   "execution_count": null,
   "metadata": {},
   "outputs": [],
   "source": [
    "pluginBT = kernel.import_semantic_skill_from_directory(pluginsDirectory, \"BusinessThinking\");\n",
    "\n",
    "my_context = kernel.create_new_context()\n",
    "my_context['input'] = 'makes pizzas'\n",
    "my_context['strengths'] = \", \".join(strengths)\n",
    "my_context['weaknesses'] = \", \".join(weaknesses)\n",
    "my_context['opportunities'] = \", \".join(opportunities)\n",
    "my_context['threats'] = \", \".join(threats)\n",
    "\n",
    "bizstrat_result = await kernel.run_async(pluginBT[\"BasicStrategies\"], input_context=my_context)\n",
    "\n",
    "bizstrat_str = \"## ✨ Business strategy thinking based on SWOT analysis\\n\"+str(bizstrat_result)\n",
    "display(Markdown(bizstrat_str))"
   ]
  },
  {
   "cell_type": "markdown",
   "metadata": {},
   "source": [
    "Let's not forget that the pizza shop owner is really busy. And they don't have the time, nor money, to address many of these intriguing ideas. That said, the time and money required to have this list of ideas has come essentially for free to the pizza shop owner. So the next question is, \n",
    "\n",
    ">\"What ideas could they immediately put into action and learn if they could really work?\"\n",
    "\n",
    "Another way to think of it is the famous \"bucket of time\" and \"bucket of money\" depiction of a business owner.\n",
    "\n",
    "![](assets/shopkeeper.png)\n",
    "\n",
    "They're always leaking the bucket with amount of time they wish they had AND their bucket of money. With this extremely practical mindedness at heart, let's go and help the pizza shop owner!"
   ]
  },
  {
   "cell_type": "markdown",
   "metadata": {},
   "source": [
    "## 🧐 So. What?\n",
    "\n",
    "When you're speeding through the straightaway of ✨ AI magic, it's easy to take for granted the analyses that are coming back. It's easy to believe that everything coming out of an LLM can be a form of hallucination that may not help the pizza shop owner at all. After all, it seems a little too easy. But that's the moment we're living in today. The technology is magic. But what's even more magical is what it can do for a pizza shop owner's life and livelihood. That's the point that Andrew made in his talk at TED. And it's the key to making sure that this new kind of AI can make a real impact on real people.\n",
    "\n",
    "As a developer, you're unlikely to have the time to understand different business verticals — or go deep into the life of a pizza shop owner. And of course there's nothing that can substitute a face-to-face user research-minded tour of the real thing. But the LLMs have a good b-school game going on with a variety of use cases that they've managed to absorb because business people can't stop bragging about how useful they are (wink). Let's keep going to see if you can connect your technomuscles to solving the pizza owner's challenges.\n",
    "\n",
    "## 🔖 Reminder: Staying focused on the business problems at hand will guide your ability to solve meaningful problems for people."
   ]
  }
 ],
 "metadata": {
  "kernelspec": {
   "display_name": ".venv",
   "language": "python",
   "name": "python3"
  },
  "language_info": {
   "codemirror_mode": {
    "name": "ipython",
    "version": 3
   },
   "file_extension": ".py",
   "mimetype": "text/x-python",
   "name": "python",
   "nbconvert_exporter": "python",
   "pygments_lexer": "ipython3",
   "version": "3.9.6"
  },
  "orig_nbformat": 4
 },
 "nbformat": 4,
 "nbformat_minor": 2
}
