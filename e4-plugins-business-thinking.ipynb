{
 "cells": [
  {
   "cell_type": "markdown",
   "metadata": {},
   "source": [
    "# E4 Business strategy thinking applied to the pizza shop owner's SWOT"
   ]
  },
  {
   "cell_type": "markdown",
   "metadata": {},
   "source": [
    "## 📜 A few simple working rules for a modern business\n",
    "\n",
    "Every business benefits from four courses of action to be used together or in combination:\n",
    "\n",
    "1. Grow the existing business\n",
    "2. Save money and time\n",
    "3. Add completely new business\n",
    "4. Prepare for the unknown\n",
    "\n",
    "Growth as built upon a business' existing strengths is always a great place to start. And by finding any kinds of savings, those benefits can either be banked or reinvested. Sometimes a new line of business can be pursued with successful growth or savings initiatives. And as we all learned from the pandemic era, there's a certain benefit to businesses that are resilient to unexpected shifts that sit out their control. This leads us to a simplified way of thinking how best to tackle one's business challenges:\n",
    "\n",
    "* Strengths: Build upon them and grow\n",
    "* Weaknesses: Don't damage the core\n",
    "* Opportunities: Make a few bets\n",
    "* Threats: Be ready for undesirable changes"
   ]
  },
  {
   "cell_type": "markdown",
   "metadata": {},
   "source": [
    "## 🔥 Now let's get a kernel ready\n",
    "\n",
    "We're going to create a kernel that includes an embedding generation service — so that we can best construct the context that will be used."
   ]
  },
  {
   "cell_type": "code",
   "execution_count": null,
   "metadata": {},
   "outputs": [],
   "source": [
    "!python -m pip install semantic-kernel==0.3.8.dev0"
   ]
  },
  {
   "cell_type": "code",
   "execution_count": null,
   "metadata": {},
   "outputs": [],
   "source": [
    "import semantic_kernel as sk\n",
    "from semantic_kernel.connectors.ai.open_ai import OpenAIChatCompletion, OpenAITextEmbedding\n",
    "from semantic_kernel.connectors.ai.open_ai import AzureChatCompletion, AzureTextEmbedding\n",
    "\n",
    "kernel = sk.Kernel()\n",
    "\n",
    "useAzureOpenAI = False\n",
    "\n",
    "# Configure AI services used by the kernel\n",
    "if useAzureOpenAI:\n",
    "    deployment, api_key, endpoint = sk.azure_openai_settings_from_dot_env()\n",
    "    kernel.add_text_completion_service(\"dv\", AzureChatCompletion(deployment, endpoint, api_key))\n",
    "else:\n",
    "    api_key, org_id = sk.openai_settings_from_dot_env()\n",
    "    kernel.add_text_completion_service(\"dv\", OpenAIChatCompletion(\"gpt-3.5-turbo-0301\", api_key, org_id))"
   ]
  },
  {
   "cell_type": "markdown",
   "metadata": {},
   "source": [
    "## 🧐 There's commonsense in a basic SWOT analysis\n",
    "\n",
    "The `BusinessThinking` plugin demonstrates how to tackle a SWOT in an effective manner for the business owner. We can start by seeking cost efficiencies that can help the pizza shop owner save money to either: 1/ reinvest into the business, or 2/ use for whatever the pizza shop owner needs."
   ]
  },
  {
   "cell_type": "code",
   "execution_count": null,
   "metadata": {},
   "outputs": [],
   "source": [
    "from IPython.display import display, Markdown\n",
    "\n",
    "strengths = [ \"Unique garlic pizza recipe that wins top awards\",\"Owner trained in Sicily at some of the best pizzerias\",\"Strong local reputation\",\"Prime location on university campus\" ]\n",
    "weaknesses = [ \"High staff turnover\",\"Floods in the area damaged the seating areas that are in need of repair\",\"Absence of popular calzones from menu\",\"Negative reviews from younger demographic for lack of hip ingredients\" ]\n",
    "opportunities = [ \"Untapped catering potential\",\"Growing local tech startup community\",\"Unexplored online presence and order capabilities\",\"Upcoming annual food fair\" ]\n",
    "threats = [ \"Competition from cheaper pizza businesses nearby\",\"There's nearby street construction that will impact foot traffic\",\"Rising cost of cheese will increase the cost of pizzas\",\"No immediate local regulatory changes but it's election season\" ]\n",
    "\n",
    "skillsDirectory = \"./plugins-sk\"\n",
    "\n",
    "pluginBT = kernel.import_semantic_skill_from_directory(skillsDirectory, \"BusinessThinking\");\n",
    "\n",
    "my_context = kernel.create_new_context()\n",
    "my_context['input'] = 'makes pizzas'\n",
    "my_context['strengths'] = \", \".join(strengths)\n",
    "my_context['weaknesses'] = \", \".join(weaknesses)\n",
    "\n",
    "costefficiency_result = await kernel.run_async(pluginBT[\"SeekCostEfficiency\"], input_context=my_context)\n",
    "\n",
    "costefficiency_str = str(\"### 🤖 Suggestions for how to gain cost efficiencies\\n\" + str(costefficiency_result))\n",
    "display(Markdown(costefficiency_str))"
   ]
  },
  {
   "cell_type": "markdown",
   "metadata": {},
   "source": [
    "Another thing the pizza shop owner wants to figure out is how to get more time back for themself. Often times that time gained can be used for the pizza shop to reinvest in the same way that money saved can be re-leveraged."
   ]
  },
  {
   "cell_type": "code",
   "execution_count": null,
   "metadata": {},
   "outputs": [],
   "source": [
    "from IPython.display import display, Markdown\n",
    "\n",
    "skillsDirectory = \"./plugins-sk\"\n",
    "\n",
    "pluginBT = kernel.import_semantic_skill_from_directory(skillsDirectory, \"BusinessThinking\");\n",
    "\n",
    "my_context = kernel.create_new_context()\n",
    "my_context['input'] = 'makes pizzas'\n",
    "my_context['strengths'] = \", \".join(strengths)\n",
    "my_context['weaknesses'] = \", \".join(weaknesses)\n",
    "\n",
    "timeefficiency_result = await kernel.run_async(pluginBT[\"SeekTimeEfficiency\"], input_context=my_context)\n",
    "\n",
    "timeefficiency_str = \"### 🤖 Suggestions for how to gain time efficiencies\\n\"+str(timeefficiency_result)\n",
    "display(Markdown(timeefficiency_str))"
   ]
  },
  {
   "cell_type": "markdown",
   "metadata": {},
   "source": [
    "## A holistic view via the SWOT analysis\n",
    "\n",
    "And yet another way to seek improvements in the business is starting from the SWOT and finding not only efficiency, but new revenue and more resilience as well."
   ]
  },
  {
   "cell_type": "code",
   "execution_count": null,
   "metadata": {},
   "outputs": [],
   "source": [
    "from IPython.display import display, Markdown\n",
    "\n",
    "skillsDirectory = \"./plugins-sk\"\n",
    "\n",
    "pluginBT = kernel.import_semantic_skill_from_directory(skillsDirectory, \"BusinessThinking\");\n",
    "\n",
    "my_context = kernel.create_new_context()\n",
    "my_context['input'] = 'makes pizzas'\n",
    "my_context['strengths'] = \", \".join(strengths)\n",
    "my_context['weaknesses'] = \", \".join(weaknesses)\n",
    "my_context['opportunities'] = \", \".join(opportunities)\n",
    "my_context['threats'] = \", \".join(threats)\n",
    "\n",
    "bizstrat_result = await kernel.run_async(pluginBT[\"BasicStrategies\"], input_context=my_context)\n",
    "\n",
    "bizstrat_str = \"## 🤖 Business strategy thinking based on SWOT analysis\\n\"+str(bizstrat_result)\n",
    "display(Markdown(bizstrat_str))"
   ]
  },
  {
   "cell_type": "markdown",
   "metadata": {},
   "source": [
    "Let's not forget that the pizza shop owner is really busy. And they don't have the time, nor money, to address many of these intriguing ideas. That said, the time and money required to have this list of ideas has come essentially for free to the pizza shop owner. So the next question is, \n",
    "\n",
    ">\"What ideas could they immediately put into action and learn if they could really work?\"\n",
    "\n",
    "Another way to think of it is the famous \"bucket of time\" and \"bucket of money\" depiction of a business owner.\n",
    "\n",
    "![](assets/shopkeeper.png)\n",
    "\n",
    "They're always leaking the bucket with amount of time they wish they had AND their bucket of money. With this extremely practical mindedness at heart, let's go and help the pizza shop owner!"
   ]
  }
 ],
 "metadata": {
  "kernelspec": {
   "display_name": ".venv",
   "language": "python",
   "name": "python3"
  },
  "language_info": {
   "codemirror_mode": {
    "name": "ipython",
    "version": 3
   },
   "file_extension": ".py",
   "mimetype": "text/x-python",
   "name": "python",
   "nbconvert_exporter": "python",
   "pygments_lexer": "ipython3",
   "version": "3.9.6"
  },
  "orig_nbformat": 4
 },
 "nbformat": 4,
 "nbformat_minor": 2
}
