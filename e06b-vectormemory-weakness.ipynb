{
 "cells": [
  {
   "cell_type": "markdown",
   "metadata": {},
   "source": [
    "# E7 Vector memory and examining weaknesses"
   ]
  },
  {
   "cell_type": "markdown",
   "metadata": {},
   "source": [
    "## 🔖 Having strengths means also having weaknesses\n",
    "\n",
    "You may recall our original SWOT and having identified a few weaknesses in the pizza store business.\n",
    "\n",
    "| WEAKNESS 1 | WEAKNESS 2 |\n",
    "|---|---|\n",
    "| High turnover in under-skilled employees | Calzones are trending but not on the menu | \n",
    "| ![](assets/workersleaving.png) | ![](assets/calzones.png) |\n",
    "\n",
    "Let's take on the calzones challenge by leverageing all of the knowledge we have gathered to ask the question of how we might best pursue calzones at our shop. \n",
    "\n",
    "## 🔥 We grab a kernel and also tie into our local Chroma vector database\n"
   ]
  },
  {
   "cell_type": "code",
   "execution_count": 1,
   "metadata": {},
   "outputs": [
    {
     "name": "stderr",
     "output_type": "stream",
     "text": [
      "/Users/johnmaeda/Documents/GitHub/pizzashop-and-ai/.venv/lib/python3.9/site-packages/urllib3/__init__.py:34: NotOpenSSLWarning: urllib3 v2.0 only supports OpenSSL 1.1.1+, currently the 'ssl' module is compiled with 'LibreSSL 2.8.3'. See: https://github.com/urllib3/urllib3/issues/3020\n",
      "  warnings.warn(\n"
     ]
    }
   ],
   "source": [
    "import semantic_kernel as sk\n",
    "from IPython.display import display, Markdown\n",
    "from semantic_kernel.connectors.ai.open_ai import OpenAIChatCompletion, OpenAITextEmbedding\n",
    "from semantic_kernel.connectors.ai.open_ai import AzureChatCompletion, AzureTextEmbedding\n",
    "from semantic_kernel.connectors.memory.chroma import ChromaMemoryStore\n",
    "\n",
    "kernel = sk.Kernel()\n",
    "\n",
    "useAzureOpenAI = False\n",
    "\n",
    "# Configure AI services used by the kernel\n",
    "if useAzureOpenAI:\n",
    "    deployment, api_key, endpoint = sk.azure_openai_settings_from_dot_env()\n",
    "    kernel.add_text_completion_service(\"dv\", AzureChatCompletion(deployment, endpoint, api_key))\n",
    "    kernel.add_text_embedding_generation_service(\"ada\", AzureTextEmbedding(\"text-embedding-ada-002\", api_key, endpoint))\n",
    "else:\n",
    "    api_key, org_id = sk.openai_settings_from_dot_env()\n",
    "    kernel.add_text_completion_service(\"dv\", OpenAIChatCompletion(\"gpt-4\", api_key, org_id))\n",
    "#    kernel.add_text_completion_service(\"dv\", OpenAIChatCompletion(\"gpt-3.5-turbo-0301\", api_key, org_id))\n",
    "    kernel.add_text_embedding_generation_service(\"ada\", OpenAITextEmbedding(\"text-embedding-ada-002\", api_key, org_id))\n",
    "\n",
    "kernel.register_memory_store(memory_store=ChromaMemoryStore(persist_directory='mymemories'))\n",
    "\n",
    "memoryCollectionName = \"SWOT\""
   ]
  },
  {
   "cell_type": "markdown",
   "metadata": {},
   "source": [
    "## 🎲 How might we expand the menu with calzones successfully?"
   ]
  },
  {
   "cell_type": "code",
   "execution_count": null,
   "metadata": {},
   "outputs": [],
   "source": [
    "what_if_scenario = \"How to expand menu with calzones successfully?\"\n",
    "counter = 0\n",
    "\n",
    "gathered_context = []\n",
    "max_memories = 3\n",
    "memories = await kernel.memory.search_async(memoryCollectionName, what_if_scenario, limit=max_memories, min_relevance_score=0.77)\n",
    "\n",
    "print(f\"🤖 Leveraging information available to address '{what_if_scenario}'...\")\n",
    "\n",
    "for memory in memories:\n",
    "    if counter == 0:\n",
    "        related_memory = memory.text\n",
    "    counter += 1\n",
    "    gathered_context.append(memory.text + \"\\n\")\n",
    "    print(f\"  > 😶‍🌫️ Hit {counter}: {memory.id} \")\n",
    "\n",
    "skillsDirectory = \"./plugins-sk\"\n",
    "print(f\"🤖 Synthesizing consultative advice...\")\n",
    "pluginFC = kernel.import_semantic_skill_from_directory(skillsDirectory, \"FriendlyConsultant\");\n",
    "\n",
    "my_context = kernel.create_new_context()\n",
    "my_context['input'] = what_if_scenario\n",
    "my_context['context'] = \"\\n\".join(gathered_context)\n",
    "\n",
    "preso_result = await kernel.run_async(pluginFC[\"OneConsultation\"], input_context=my_context)\n",
    "\n",
    "display(Markdown(f\"# 🤖 Generated response: {what_if_scenario} ...\\n\"+str(preso_result)))"
   ]
  },
  {
   "cell_type": "markdown",
   "metadata": {},
   "source": [
    "### 🤖 Cached response from GPT-4\n",
    "\n",
    "To successfully expand your menu with calzones, you should consider the following steps:\n",
    "\n",
    "1. Recipe Development: Use your award-winning garlic pizza recipe as a base for your calzones. You already have a unique selling point with your garlic pizza, so incorporating this into your calzones could be a great way to differentiate your product from others. You could also consider introducing 'hip' ingredients that appeal to the younger demographic.\n",
    "2. Staff Training: Ensure your staff are well trained in the new calzone recipes. This will ensure consistency in product quality and help reduce any potential increase in preparation time.\n",
    "3. Test Run: Before fully committing to the new menu item, consider introducing calzones as a limited-time offer. This will allow you to gauge customer response and make any necessary adjustments based on feedback.\n",
    "4. Marketing: Once you're ready to fully launch your calzones, make sure to market them effectively. Highlight the unique aspects of your calzones, such as the award-winning garlic base and the 'hip' ingredients.\n",
    "5. Cost Analysis: Keep a close eye on the cost of the new ingredients and the impact on your overall profit margin. If the calzones are popular and sell well, they could help offset the cost of the new ingredients and increase overall sales.\n",
    "6. Seating Area Renovation: As you're expanding your menu, it might also be a good time to renovate your seating area. A fresh, new look could attract more customers and provide a better dining experience, complementing your expanded menu.\n",
    "7. Remember, the key to successful menu expansion is to stay true to your brand while also meeting the demands of your customers. Good luck!"
   ]
  }
 ],
 "metadata": {
  "kernelspec": {
   "display_name": ".venv",
   "language": "python",
   "name": "python3"
  },
  "language_info": {
   "codemirror_mode": {
    "name": "ipython",
    "version": 3
   },
   "file_extension": ".py",
   "mimetype": "text/x-python",
   "name": "python",
   "nbconvert_exporter": "python",
   "pygments_lexer": "ipython3",
   "version": "3.9.6"
  },
  "orig_nbformat": 4
 },
 "nbformat": 4,
 "nbformat_minor": 2
}
