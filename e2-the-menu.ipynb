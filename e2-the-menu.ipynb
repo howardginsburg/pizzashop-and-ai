{
 "cells": [
  {
   "cell_type": "markdown",
   "metadata": {},
   "source": [
    "# The Pizza Shop Owner\n",
    "\n",
    "[![](assets/andrew_ng.jpg)](assets/thepizzastore720.mp4)\n",
    "\n",
    "In his TED 2022 talk, Andrew Ng describes \"How AI could empower any business ([TED 2022](https://www.ted.com/talks/andrew_ng_how_ai_could_empower_any_business))\" as  means to help us all understand that the new kind of AI technology could be put into service for anybody — including Andrew's favorite pizza shop.\n",
    "\n"
   ]
  },
  {
   "cell_type": "markdown",
   "metadata": {},
   "source": [
    "## Getting to know the pizza shop owner\n",
    "\n",
    "We want to get a sense of the challenges of the pizza shop owner, so we take the time to interview them to best understand their Strengths, Weaknesses, Opportunities, and Threats -- so-called \"SWOT Analysis.\" The interview questions are as follows:\n",
    "\n",
    "1. **Strengths**\n",
    "    - What unique recipes or ingredients does the pizza shop use?\n",
    "    - What are the skills and experience of the staff?\n",
    "    - Does the pizza shop have a strong reputation in the local area?\n",
    "    - Are there any unique features of the shop or its location that attract customers?\n",
    "2. **Weaknesses**\n",
    "    - What are the operational challenges of the pizza shop? (e.g., slow service, high staff turnover)\n",
    "    - Are there financial constraints that limit growth or improvements?\n",
    "    - Are there any gaps in the product offering?\n",
    "    - Are there customer complaints or negative reviews that need to be addressed?\n",
    "3. **Opportunities**\n",
    "    - Is there potential for new products or services (e.g., catering, delivery)?\n",
    "    - Are there under-served customer segments or market areas?\n",
    "    - Can new technologies or systems enhance the business operations?\n",
    "    - Are there partnerships or local events that can be leveraged for marketing?\n",
    "4. **Threats**\n",
    "    - Who are the major competitors and what are they offering?\n",
    "    - Are there potential negative impacts due to changes in the local area (e.g., construction, closure of nearby businesses)?\n",
    "    - Are there economic or industry trends that could impact the business negatively (e.g., increased ingredient costs)?\n",
    "    - Is there any risk due to changes in regulations or legislation (e.g., health and safety, employment)?"
   ]
  },
  {
   "cell_type": "markdown",
   "metadata": {},
   "source": [
    "## The results that came back\n",
    "\n",
    "| **Strengths**                                     | **Weaknesses**                                               |\n",
    "| --- | --- |\n",
    "| Unique garlic pizza recipe                        | High staff turnover                                          |\n",
    "| Owner trained in Sicily                           | Existing business debt due to previous floods                |\n",
    "| Strong local reputation                           | Absence of popular calzones from menu                        |\n",
    "| Prime location on university campus               | Negative reviews from younger demographic for lack of hip ingredients |\n",
    "| **Opportunities**                                 | **Threats**                                                  |\n",
    "| Untapped catering potential                       | Increasing competition from younger, cheaper pizza businesses |\n",
    "| Growing local tech startup community              | Older businesses struggling to compete                       |\n",
    "| Unexplored online presence and order capabilities | Rising cost of cheese                                        |\n",
    "| Upcoming annual food fair                         | No immediate local regulatory changes, but potential future concerns |\n"
   ]
  },
  {
   "cell_type": "markdown",
   "metadata": {},
   "source": [
    "## Quick business 101 lesson\n",
    "\n",
    "Every business benefits from four courses of action to be used together or in combination:\n",
    "\n",
    "1. Grow the existing business\n",
    "2. Save money and time\n",
    "3. Add completely new business\n",
    "4. Prepare for the unknown\n",
    "\n",
    "Growth as built upon a business' existing strengths is always a great place to start. And by finding any kinds of savings, those benefits can either be banked or reinvested. Sometimes a new line of business can be pursued with successful growth or savings initiatives. And as we all learned from the pandemic era, there's a certain benefit to businesses that are resilient to unexpected shifts that sit out their control. This leads us to a simplified way of thinking how best to tackle one's business challenges:\n",
    "\n",
    "* Strengths: Build upon them and grow\n",
    "* Weaknesses: Don't damage the core\n",
    "* Opportunities: Make a few bets\n",
    "* Threats: Be ready for undesirable changes"
   ]
  },
  {
   "cell_type": "markdown",
   "metadata": {},
   "source": [
    "## Let's improve the pizza shop owner's business\n",
    "\n",
    "We can choose to build on a few of the pizza shop owner's existing strengths to grow their buisness. And we can help make the business more efficient by addressing a few of their weaknesses. Lastly, we will investigate an opportunity to grow the business; and also touch upon a way to enable the business to be more resilient. \n",
    "\n",
    "| Strength | Strength |\n",
    "|---|---|\n",
    "| The best garlic pizza in the business | The store owner was trained in Sicily |\n",
    "| ![](assets/garlicpizza.png) | ![](assets/measuring.png) |\n",
    "\n",
    "| Weakness | Weakness |\n",
    "|---|---|\n",
    "| High turnover in under-skilled employees | Calzones are trending but not on the menu | \n",
    "| ![](assets/workersleaving.png) | ![](assets/calzones.png) |\n",
    "\n",
    "| Opportunity | Threat |\n",
    "|---|---|\n",
    "| The spring neighborhood fair is coming | Cheese prices are skyrocketing in price |\n",
    "| ![](assets/townfair.png) | ![](assets/cheese.png) |"
   ]
  }
 ],
 "metadata": {
  "language_info": {
   "name": "python"
  },
  "orig_nbformat": 4
 },
 "nbformat": 4,
 "nbformat_minor": 2
}
