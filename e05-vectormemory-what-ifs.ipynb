{
 "cells": [
  {
   "cell_type": "markdown",
   "metadata": {},
   "source": [
    "# E5 Using vector memory store to assemble coherent \"what-if\" scenarios"
   ]
  },
  {
   "cell_type": "markdown",
   "metadata": {},
   "source": [
    "## 🔥 Get a kernel ready with a vector memory store\n",
    "\n",
    "We're going to create a kernel that includes an embedding generation service — so that we can more easily absorb the knowledge that we're ✨ generating with the LLM for later reuse. BTW this is a common pattern we've seen with much larger businesses using Semantic Kernel today, but could apply at a smaller scale for the pizza shop owner:\n",
    "\n",
    "1. Gather documents that are pertinent to the business in both structured and unstructured forms.\n",
    "2. Create custom plugins to analyze and/or broaden the business' knowledge base for use by LLMs.\n",
    "3. Move all the information into a vector database after converting it via embedding models.\n",
    "\n",
    "Let's get more familiar with how embeddings work by ✨ generating more information that we can later work with."
   ]
  },
  {
   "cell_type": "code",
   "execution_count": 13,
   "metadata": {},
   "outputs": [],
   "source": [
    "from IPython.display import display, Markdown\n",
    "import semantic_kernel as sk\n",
    "from semantic_kernel.connectors.ai.open_ai import OpenAIChatCompletion, OpenAITextEmbedding\n",
    "from semantic_kernel.connectors.ai.open_ai import AzureChatCompletion, AzureTextEmbedding\n",
    "from semantic_kernel.connectors.memory.chroma import ChromaMemoryStore\n",
    "\n",
    "kernel = sk.Kernel()\n",
    "\n",
    "useAzureOpenAI = False\n",
    "\n",
    "# Configure AI services used by the kernel\n",
    "if useAzureOpenAI:\n",
    "    deployment, api_key, endpoint = sk.azure_openai_settings_from_dot_env()\n",
    "    kernel.add_text_completion_service(\"dv\", AzureChatCompletion(deployment, endpoint, api_key))\n",
    "    kernel.add_text_embedding_generation_service(\"ada\", AzureTextEmbedding(\"text-embedding-ada-002\", api_key, endpoint))\n",
    "else:\n",
    "    api_key, org_id = sk.openai_settings_from_dot_env()\n",
    "    kernel.add_text_completion_service(\"dv\", OpenAIChatCompletion(\"gpt-3.5-turbo-0301\", api_key, org_id))\n",
    "    kernel.add_text_embedding_generation_service(\"ada\", OpenAITextEmbedding(\"text-embedding-ada-002\", api_key, org_id))\n",
    "\n",
    "kernel.register_memory_store(memory_store=ChromaMemoryStore(persist_directory='mymemories'))"
   ]
  },
  {
   "cell_type": "markdown",
   "metadata": {},
   "source": [
    "Note that a new directory `mymemories` should be visible. If you want to start this set of lessons from the very beginning, delete the directory `mymemories` before you run the code above."
   ]
  },
  {
   "cell_type": "markdown",
   "metadata": {},
   "source": [
    "## 😶‍🌫️ Convert our SWOT into embeddings and store them in a memory collection.\n",
    "\n",
    "We store the SWOT information in \"conventional\" arrays in Python that are not \"semantic\" in nature. That said, they're still eminently useful for the kind of computations we'll play with.\n",
    "\n",
    "And to store the information semantically, we use the text embedding model added to the kernel to convert text into long vectors of numbers. We only need to do this once. But note that unless we have a \"vector database\" wired into the kernel, the embedding calculations do not last beyond this notebook. That's why it's called a \"volatile\" memory store."
   ]
  },
  {
   "cell_type": "code",
   "execution_count": 14,
   "metadata": {},
   "outputs": [
    {
     "name": "stdout",
     "output_type": "stream",
     "text": [
      "✅ SWOT analysis for the pizza shop is resident in native memory\n",
      "😶‍🌫️ Embeddings for SWOT have been generated\n"
     ]
    }
   ],
   "source": [
    "strength_questions = [\"What unique recipes or ingredients does the pizza shop use?\",\"What are the skills and experience of the staff?\",\"Does the pizza shop have a strong reputation in the local area?\",\"Are there any unique features of the shop or its location that attract customers?\", \"Does the pizza shop have a strong reputation in the local area?\", \"Are there any unique features of the shop or its location that attract customers?\"]\n",
    "weakness_questions = [\"What are the operational challenges of the pizza shop? (e.g., slow service, high staff turnover)\",\"Are there financial constraints that limit growth or improvements?\",\"Are there any gaps in the product offering?\",\"Are there customer complaints or negative reviews that need to be addressed?\"]\n",
    "opportunities_questions = [\"Is there potential for new products or services (e.g., catering, delivery)?\",\"Are there under-served customer segments or market areas?\",\"Can new technologies or systems enhance the business operations?\",\"Are there partnerships or local events that can be leveraged for marketing?\"]\n",
    "threats_questions = [\"Who are the major competitors and what are they offering?\",\"Are there potential negative impacts due to changes in the local area (e.g., construction, closure of nearby businesses)?\",\"Are there economic or industry trends that could impact the business negatively (e.g., increased ingredient costs)?\",\"Is there any risk due to changes in regulations or legislation (e.g., health and safety, employment)?\"]\n",
    "\n",
    "strengths = [ \"Unique garlic pizza recipe that wins top awards\",\"Owner trained in Sicily at some of the best pizzerias\",\"Strong local reputation\",\"Prime location on university campus\" ]\n",
    "weaknesses = [ \"High staff turnover\",\"Floods in the area damaged the seating areas that are in need of repair\",\"Absence of popular calzones from menu\",\"Negative reviews from younger demographic for lack of hip ingredients\" ]\n",
    "opportunities = [ \"Untapped catering potential\",\"Growing local tech startup community\",\"Unexplored online presence and order capabilities\",\"Upcoming annual food fair\" ]\n",
    "threats = [ \"Competition from cheaper pizza businesses nearby\",\"There's nearby street construction that will impact foot traffic\",\"Rising cost of cheese will increase the cost of pizzas\",\"No immediate local regulatory changes but it's election season\" ]\n",
    "\n",
    "print(\"✅ SWOT analysis for the pizza shop is resident in native memory\")\n",
    "\n",
    "memoryCollectionName = \"SWOT\"\n",
    "\n",
    "for i in range(len(strengths)):\n",
    "    await kernel.memory.save_information_async(memoryCollectionName, id=f\"strength-{i}\", text=f\"Internal business strength (S in SWOT) that makes customers happy and satisfied Q&A: Q: {strength_questions[i]} A: {strengths[i]}\")\n",
    "for i in range(len(weaknesses)):\n",
    "    await kernel.memory.save_information_async(memoryCollectionName, id=f\"weakness-{i}\", text=f\"Internal business weakness (W in SWOT) that makes customers unhappy and dissatisfied Q&A: Q: {weakness_questions[i]} A: {weaknesses[i]}\")\n",
    "for i in range(len(opportunities)):\n",
    "    await kernel.memory.save_information_async(memoryCollectionName, id=f\"opportunity-{i}\", text=f\"External opportunity (O in SWOT) for the business to gain entirely new customers Q&A: Q: {opportunities_questions[i]} A: {opportunities[i]}\")\n",
    "for i in range(len(threats)):\n",
    "    await kernel.memory.save_information_async(memoryCollectionName, id=f\"threat-{i}\", text=f\"External threat (T in SWOT) to the business that impacts its survival Q&A: Q: {threats_questions[i]} A: {threats[i]}\")\n",
    "\n",
    "print(\"😶‍🌫️ Embeddings for SWOT have been generated\")"
   ]
  },
  {
   "cell_type": "markdown",
   "metadata": {},
   "source": [
    "Keep in mind that weaknesses and threats are v similar but strengths and weaknesses usually pertain to internal factors; whereas opportunities and threats pertain to external factors. Play around with the `potential_question` variable below to get a sense of how the embedding model does with comparing your `potential_question` to the vectors that have been computed and stored in the step above."
   ]
  },
  {
   "cell_type": "code",
   "execution_count": 15,
   "metadata": {},
   "outputs": [
    {
     "data": {
      "text/markdown": [
       "### ❓ Potential question: what are easiest ways to make more money?"
      ],
      "text/plain": [
       "<IPython.core.display.Markdown object>"
      ]
     },
     "metadata": {},
     "output_type": "display_data"
    },
    {
     "name": "stdout",
     "output_type": "stream",
     "text": [
      "  > 😶‍🌫️ Similarity result 1:\n",
      "  >> ID: opportunity-0\n",
      "  Text: External opportunity (O in SWOT) for the business to gain entirely new customers Q&A: Q: Is there potential for new products or services (e.g., catering, delivery)? A: Untapped catering potential  Relevance: 0.7689356452897221\n",
      "\n",
      "  > 😶‍🌫️ Similarity result 2:\n",
      "  >> ID: opportunity-3\n",
      "  Text: External opportunity (O in SWOT) for the business to gain entirely new customers Q&A: Q: Are there partnerships or local events that can be leveraged for marketing? A: Upcoming annual food fair  Relevance: 0.7671651870349453\n",
      "\n",
      "  > 😶‍🌫️ Similarity result 3:\n",
      "  >> ID: opportunity-1\n",
      "  Text: External opportunity (O in SWOT) for the business to gain entirely new customers Q&A: Q: Are there under-served customer segments or market areas? A: Growing local tech startup community  Relevance: 0.7633657305250338\n",
      "\n",
      "  > 😶‍🌫️ Similarity result 4:\n",
      "  >> ID: opportunity-2\n",
      "  Text: External opportunity (O in SWOT) for the business to gain entirely new customers Q&A: Q: Can new technologies or systems enhance the business operations? A: Unexplored online presence and order capabilities  Relevance: 0.7627856621317861\n",
      "\n",
      "  > 😶‍🌫️ Similarity result 5:\n",
      "  >> ID: threat-0\n",
      "  Text: External threat (T in SWOT) to the business that impacts its survival Q&A: Q: Who are the major competitors and what are they offering? A: Competition from cheaper pizza businesses nearby  Relevance: 0.745648677339699\n",
      "\n"
     ]
    }
   ],
   "source": [
    "potential_question = \"what are easiest ways to make more money?\"\n",
    "counter = 0\n",
    "\n",
    "memories = await kernel.memory.search_async(memoryCollectionName, potential_question, limit=5, min_relevance_score=0.5)\n",
    "\n",
    "display(Markdown(f\"### ❓ Potential question: {potential_question}\"))\n",
    "\n",
    "for memory in memories:\n",
    "    if counter == 0:\n",
    "        related_memory = memory.text\n",
    "    counter += 1\n",
    "    print(f\"  > 😶‍🌫️ Similarity result {counter}:\\n  >> ID: {memory.id}\\n  Text: {memory.text}  Relevance: {memory.relevance}\\n\")"
   ]
  },
  {
   "cell_type": "markdown",
   "metadata": {},
   "source": [
    "The idea of having a semantic memory bank like this means a lot can be done with your LLM AI because you have a \"vat\" of knowledge available to you that can be sourced for processing through the LLM."
   ]
  },
  {
   "cell_type": "markdown",
   "metadata": {},
   "source": [
    "## Storing all the Business Thinking and Design Thinking into semantic memory\n",
    "\n",
    "Let's take everything we have gathered thus far and put it into the semantic memory bank"
   ]
  },
  {
   "cell_type": "code",
   "execution_count": 16,
   "metadata": {},
   "outputs": [
    {
     "name": "stdout",
     "output_type": "stream",
     "text": [
      "✨ Computing cost efficiency...\n",
      "✨ Computing time efficiency...\n",
      "✨ Computing business strategies overview...\n",
      "✨ Computing design thinking interim results from customer comments ...\n",
      "😶‍🌫️ 🎉 Memory is now flush with information :+)\n"
     ]
    }
   ],
   "source": [
    "pluginsDirectory = \"./plugins-sk\"\n",
    "\n",
    "pluginBT = kernel.import_semantic_skill_from_directory(skillsDirectory, \"BusinessThinking\");\n",
    "\n",
    "my_context = kernel.create_new_context()\n",
    "\n",
    "the_business = 'makes pizzas'\n",
    "my_context['input'] = the_business\n",
    "my_context['strengths'] = \", \".join(strengths)\n",
    "my_context['weaknesses'] = \", \".join(weaknesses)\n",
    "my_context['opportunities'] = \", \".join(opportunities)\n",
    "my_context['threats'] = \", \".join(threats)\n",
    "\n",
    "print(\"✨ Computing cost efficiency...\")\n",
    "costefficiency_result = await kernel.run_async(pluginBT[\"SeekCostEfficiency\"], input_context=my_context)\n",
    "costefficiency_str = str(\"## Suggestions for how to gain cost efficiencies\\n\" + str(costefficiency_result))\n",
    "await kernel.memory.save_information_async(memoryCollectionName, id=\"costefficiency\", text=costefficiency_str)\n",
    "\n",
    "print(\"✨ Computing time efficiency...\")\n",
    "timeefficiency_result = await kernel.run_async(pluginBT[\"SeekTimeEfficiency\"], input_context=my_context)\n",
    "timeefficiency_str = \"## Suggestions for how to gain time efficiencies\\n\"+str(timeefficiency_result)\n",
    "await kernel.memory.save_information_async(memoryCollectionName, id=\"timeefficiency\", text=timeefficiency_str)\n",
    "\n",
    "print(\"✨ Computing business strategies overview...\")\n",
    "bizstrat_result = await kernel.run_async(pluginBT[\"BasicStrategies\"], input_context=my_context)\n",
    "bizstrat_str = \"# Business strategy thinking based on SWOT analysis\\n\"+str(bizstrat_result)\n",
    "await kernel.memory.save_information_async(memoryCollectionName, id=\"bizstrat\", text=bizstrat_str)\n",
    "\n",
    "customer_comments = \"\"\"\n",
    "Customer 1: The seats look really raggedy.\n",
    "Customer 2: The garlic pizza is the best on this earth.\n",
    "Customer 3: I've noticed that there's a new server every time I visit, and they're clueless.\n",
    "Customer 4: Why aren't there calzones?\n",
    "Customer 5: I love the garlic pizza and can't get it anywhere else.\n",
    "Customer 6: The garlic pizza is exceptional.\n",
    "Customer 7: Pizza can get a little messy so I prefer a calzone's neatness.\n",
    "Customer 8: Why is the pizza so expensive?\n",
    "Customer 9: There's no way to do online ordering.\n",
    "Customer 10: Why is the seating so uncomfortable and dirty?\n",
    "\"\"\"\n",
    "\n",
    "print(\"✨ Computing design thinking interim results from customer comments ...\")\n",
    "pluginDT = kernel.import_semantic_skill_from_directory(skillsDirectory, \"DesignThinking\");\n",
    "my_result = await kernel.run_async(pluginDT[\"Empathize\"], pluginDT[\"Define\"], input_str=customer_comments)\n",
    "designthinking_str = \"# Categorized observations\\n\"+str(my_result)\n",
    "await kernel.memory.save_information_async(memoryCollectionName, id=\"designthinking\", text=designthinking_str)\n",
    "\n",
    "print(\"😶‍🌫️ 🎉 Memory is now flush with information :+)\")"
   ]
  },
  {
   "cell_type": "markdown",
   "metadata": {},
   "source": [
    "## 🧐 Put the accumulated memory to good use for \"what if\" scenarios\n",
    "\n",
    "We can now put this information to work with the `FriendlyConsultant` plugin and have a special presentation generated on any \"what if\" scenario topic that we choose."
   ]
  },
  {
   "cell_type": "code",
   "execution_count": 17,
   "metadata": {},
   "outputs": [
    {
     "name": "stdout",
     "output_type": "stream",
     "text": [
      "✨ Leveraging information available to address 'How can the business owner save time?'...\n",
      "  > 😶‍🌫️ Hit 1: timeefficiency \n",
      "  > 😶‍🌫️ Hit 2: costefficiency \n",
      "  > 😶‍🌫️ Hit 3: opportunity-2 \n",
      "✨ Synthesizing human-readable business-style presentation...\n"
     ]
    },
    {
     "data": {
      "text/markdown": [
       "# ✨ Generated presentation ...\n",
       "---\n",
       "# Business Strategy Consultant Presentation\n",
       "## How to Save Time for the Business Owner\n",
       "\n",
       "---\n",
       "## The Question\n",
       "How can the business owner save time?\n",
       "\n",
       "---\n",
       "## Three Key Concerns\n",
       "1. Reduce workload and turnover rate\n",
       "2. Free up time for experimentation with new menu items\n",
       "3. Bridge the gap between traditional Sicilian style and desire for more modern, hip ingredients\n",
       "\n",
       "---\n",
       "## Concern 1: Reduce workload and turnover rate\n",
       "**Explanation:** Implementing an online ordering system can reduce the need for staff to take orders, decreasing the workload and turnover rate.\n",
       "\n",
       "**Example:** The business has a strong local reputation, but high staff turnover. By implementing an online ordering system, customers can place orders without the need for staff to take them, freeing up time for staff to focus on other tasks and reducing the workload. This can also lead to a decrease in turnover rate as staff may feel less overwhelmed and stressed.\n",
       "\n",
       "---\n",
       "## Concern 2: Free up time for experimentation with new menu items\n",
       "**Explanation:** By streamlining kitchen processes, such as prepping ingredients and organizing workstations, the business can free up time to experiment with new menu items like calzones.\n",
       "\n",
       "**Example:** The business has a unique garlic pizza recipe that wins top awards, but the absence of popular calzones from the menu may be limiting customer satisfaction and sales. By streamlining kitchen processes, staff can free up time to experiment with new menu items like calzones. This can lead to increased customer satisfaction and sales.\n",
       "\n",
       "---\n",
       "## Concern 3: Bridge the gap between traditional Sicilian style and desire for more modern, hip ingredients\n",
       "**Explanation:** A comprehensive employee training program can help bridge the gap between the owner's traditional Sicilian style and the desire for more modern, hip ingredients, improving customer satisfaction and reducing negative reviews.\n",
       "\n",
       "**Example:** The owner has been trained in Sicily at some of the best pizzerias, but negative reviews from younger demographics for lack of hip ingredients may be limiting customer satisfaction. By developing a comprehensive employee training program that emphasizes the unique garlic pizza recipe and provides opportunities for advancement, staff can learn how to bridge the gap between traditional Sicilian style and the desire for more modern, hip ingredients. This can lead to improved customer satisfaction and reduced negative reviews.\n",
       "\n",
       "---\n",
       "## Summary\n",
       "To save time for the business owner, the consultant recommends implementing an online ordering system to reduce workload and turnover rate, streamlining kitchen processes to free up time for experimentation with new menu items, and developing a comprehensive employee training program to bridge the gap between traditional Sicilian style and the desire for more modern, hip ingredients. These suggestions can lead to increased customer satisfaction, sales, and a more efficient business operation. Additionally, exploring new technologies or systems such as an online presence and order capabilities can provide an external opportunity for the business to gain entirely new customers."
      ],
      "text/plain": [
       "<IPython.core.display.Markdown object>"
      ]
     },
     "metadata": {},
     "output_type": "display_data"
    }
   ],
   "source": [
    "what_if_scenario = \"How can the business owner save time?\"\n",
    "counter = 0\n",
    "\n",
    "gathered_context = []\n",
    "max_memories = 3\n",
    "memories = await kernel.memory.search_async(memoryCollectionName, what_if_scenario, limit=max_memories, min_relevance_score=0.77)\n",
    "\n",
    "print(f\"✨ Leveraging information available to address '{what_if_scenario}'...\")\n",
    "\n",
    "for memory in memories:\n",
    "    if counter == 0:\n",
    "        related_memory = memory.text\n",
    "    counter += 1\n",
    "    gathered_context.append(memory.text + \"\\n\")\n",
    "    print(f\"  > 😶‍🌫️ Hit {counter}: {memory.id} \")\n",
    "\n",
    "skillsDirectory = \"./plugins-sk\"\n",
    "print(f\"✨ Synthesizing human-readable business-style presentation...\")\n",
    "pluginFC = kernel.import_semantic_skill_from_directory(skillsDirectory, \"FriendlyConsultant\");\n",
    "\n",
    "my_context = kernel.create_new_context()\n",
    "my_context['input'] = what_if_scenario\n",
    "my_context['context'] = \"\\n\".join(gathered_context)\n",
    "\n",
    "preso_result = await kernel.run_async(pluginFC[\"Presentation\"], input_context=my_context)\n",
    "\n",
    "display(Markdown(\"# ✨ Generated presentation ...\\n\"+str(preso_result)))\n",
    "\n"
   ]
  },
  {
   "cell_type": "markdown",
   "metadata": {},
   "source": [
    "## 📘 A quick review before we head deeper into the pizza shop owner's challenges\n",
    "\n",
    "1. Functions in SK enable encapsulating complicated AI computations in neat black box abstractons. \n",
    "2. Functions can be chained together with other functions and orchestrated serially by the kernel.  \n",
    "3. Vector memory stores hold unstructured text data that is semantically searchable. \n",
    "4. Gathering relevant chunks of text improves a prompt's behavior — context has the power to guide."
   ]
  }
 ],
 "metadata": {
  "kernelspec": {
   "display_name": ".venv",
   "language": "python",
   "name": "python3"
  },
  "language_info": {
   "codemirror_mode": {
    "name": "ipython",
    "version": 3
   },
   "file_extension": ".py",
   "mimetype": "text/x-python",
   "name": "python",
   "nbconvert_exporter": "python",
   "pygments_lexer": "ipython3",
   "version": "3.9.6"
  },
  "orig_nbformat": 4
 },
 "nbformat": 4,
 "nbformat_minor": 2
}
