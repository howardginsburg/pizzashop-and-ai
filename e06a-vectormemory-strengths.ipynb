{
 "cells": [
  {
   "cell_type": "markdown",
   "metadata": {},
   "source": [
    "# E6a Vector memory lets you manipulate information in a new kind of way"
   ]
  },
  {
   "cell_type": "markdown",
   "metadata": {},
   "source": [
    "## A quick business review (because the technology alone is not enough)\n",
    "\n",
    "Every business benefits from four courses of action to be used together or in combination:\n",
    "\n",
    "1. Grow the existing business\n",
    "2. Save money and time\n",
    "3. Add completely new business\n",
    "4. Prepare for the unknown\n",
    "\n",
    "![](assets/shopkeeper.png)\n",
    "\n",
    "The business owner is always leaking time and money from their valuable buckets of time and money. Let's help them succeed!"
   ]
  },
  {
   "cell_type": "markdown",
   "metadata": {},
   "source": [
    "## 🔥 Get a kernel ready using our vector memory store\n",
    "\n",
    "We're going to create a kernel that uses our new vector memory store that's flush with information we can start using."
   ]
  },
  {
   "cell_type": "code",
   "execution_count": 1,
   "metadata": {},
   "outputs": [
    {
     "name": "stderr",
     "output_type": "stream",
     "text": [
      "/Users/johnmaeda/Documents/GitHub/pizzashop-and-ai/.venv/lib/python3.9/site-packages/urllib3/__init__.py:34: NotOpenSSLWarning: urllib3 v2.0 only supports OpenSSL 1.1.1+, currently the 'ssl' module is compiled with 'LibreSSL 2.8.3'. See: https://github.com/urllib3/urllib3/issues/3020\n",
      "  warnings.warn(\n"
     ]
    }
   ],
   "source": [
    "import semantic_kernel as sk\n",
    "from IPython.display import display, Markdown\n",
    "\n",
    "from semantic_kernel.connectors.ai.open_ai import OpenAIChatCompletion, OpenAITextEmbedding\n",
    "from semantic_kernel.connectors.ai.open_ai import AzureChatCompletion, AzureTextEmbedding\n",
    "from semantic_kernel.connectors.memory.chroma import ChromaMemoryStore\n",
    "\n",
    "kernel = sk.Kernel()\n",
    "\n",
    "useAzureOpenAI = False\n",
    "\n",
    "# Configure AI services used by the kernel\n",
    "if useAzureOpenAI:\n",
    "    deployment, api_key, endpoint = sk.azure_openai_settings_from_dot_env()\n",
    "    kernel.add_text_completion_service(\"dv\", AzureChatCompletion(deployment, endpoint, api_key))\n",
    "    kernel.add_text_embedding_generation_service(\"ada\", AzureTextEmbedding(\"text-embedding-ada-002\", api_key, endpoint))\n",
    "else:\n",
    "    api_key, org_id = sk.openai_settings_from_dot_env()\n",
    "#    kernel.add_text_completion_service(\"dv\", OpenAIChatCompletion(\"gpt-4\", api_key, org_id))\n",
    "    kernel.add_text_completion_service(\"dv\", OpenAIChatCompletion(\"gpt-3.5-turbo-0301\", api_key, org_id))\n",
    "    kernel.add_text_embedding_generation_service(\"ada\", OpenAITextEmbedding(\"text-embedding-ada-002\", api_key, org_id))\n",
    "\n",
    "kernel.register_memory_store(memory_store=ChromaMemoryStore(persist_directory='mymemories'))\n",
    "\n",
    "memoryCollectionName = \"SWOT\""
   ]
  },
  {
   "cell_type": "markdown",
   "metadata": {},
   "source": [
    "## 🔖 Recall two of the business' strengths in the SWOT\n",
    "\n",
    "In our early SWOT analysis, we distilled two possible differentiated strengths with this pizza store.\n",
    "\n",
    "| STRENGTH 1 | STRENGTH 2 |\n",
    "|---|---|\n",
    "| The best garlic pizza in the business | The store owner was trained in Sicily |\n",
    "| ![](assets/garlicpizza.png) | ![](assets/measuring.png) |"
   ]
  },
  {
   "cell_type": "markdown",
   "metadata": {},
   "source": [
    "We take our original tool and modify it to drive a `ResearchInterview` semantic function that leverages our vat of context."
   ]
  },
  {
   "cell_type": "code",
   "execution_count": 2,
   "metadata": {},
   "outputs": [
    {
     "name": "stdout",
     "output_type": "stream",
     "text": [
      "✨ Leveraging information available to address 'The business makes the best garlic pizza and the owner was trained in Sicily.'...\n",
      "  > 😶‍🌫️ Hit 1: costefficiency \n",
      "  > 😶‍🌫️ Hit 2: strength-1 \n",
      "  > 😶‍🌫️ Hit 3: Recipe and process for making the signature garlic pizza \n",
      "✨ Synthesizing question list suitable for a research interview...\n"
     ]
    },
    {
     "data": {
      "text/markdown": [
       "## ✨ Generated list of questions to address 'The business makes the best garlic pizza and the owner was trained in Sicily.'...\n",
       "1. Can you provide more information about the owner's training in Sicily? How has this training influenced the business's operations and success?\n",
       "2. How did the business develop its unique garlic pizza recipe? Has it undergone any changes or improvements over time?\n",
       "3. Can you provide more information about the staff turnover rate? What steps has the business taken to address this issue?\n",
       "4. How does the business currently train new staff members? Are there any areas that could be improved or streamlined?\n",
       "5. How does the business currently gather customer feedback? Has it identified any areas for improvement or expansion in its menu or operations?\n",
       "6. Can you provide more information about the negative reviews from younger demographics? How has the business responded to these reviews in the past?\n",
       "7. How does the business currently manage its online reputation? Are there any areas that could be improved or expanded upon?\n",
       "8. How does the business currently measure customer satisfaction? Are there any areas that consistently receive high or low ratings?"
      ],
      "text/plain": [
       "<IPython.core.display.Markdown object>"
      ]
     },
     "metadata": {},
     "output_type": "display_data"
    }
   ],
   "source": [
    "topic = \"The business makes the best garlic pizza and the owner was trained in Sicily.\"\n",
    "swot_quality = \"Strengths\"\n",
    "counter = 0\n",
    "\n",
    "gathered_context = []\n",
    "max_memories = 3\n",
    "memories = await kernel.memory.search_async(memoryCollectionName, topic, limit=max_memories, min_relevance_score=0.75)\n",
    "\n",
    "print(f\"✨ Leveraging information available to address '{topic}'...\")\n",
    "\n",
    "for memory in memories:\n",
    "    if counter == 0:\n",
    "        related_memory = memory.text\n",
    "    counter += 1\n",
    "    gathered_context.append(memory.text + \"\\n\")\n",
    "    print(f\"  > 😶‍🌫️ Hit {counter}: {memory.id} \")\n",
    "\n",
    "pluginDirectory = \"./plugins-sk\"\n",
    "print(f\"✨ Synthesizing question list suitable for a research interview...\")\n",
    "pluginFC = kernel.import_semantic_skill_from_directory(pluginDirectory, \"FriendlyConsultant\");\n",
    "\n",
    "my_context = kernel.create_new_context()\n",
    "my_context['input'] = topic\n",
    "my_context['context'] = \"\\n\".join(gathered_context)\n",
    "my_context['swot_quality'] = swot_quality\n",
    "\n",
    "interview_result = await kernel.run_async(pluginFC[\"ResearchInterview\"], input_context=my_context)\n",
    "\n",
    "display(Markdown(f\"## ✨ Generated list of questions to address '{topic}'...\\n\"+str(interview_result)))\n"
   ]
  },
  {
   "cell_type": "markdown",
   "metadata": {},
   "source": [
    "## 📄 With the list of questions in hand, let's get answers\n",
    "\n",
    "We'll use the `Presentation` semantic function to generate a logical \"idea pitch\" or \"solution pitch\" to tackle a business challenge."
   ]
  },
  {
   "cell_type": "code",
   "execution_count": 6,
   "metadata": {},
   "outputs": [
    {
     "name": "stdout",
     "output_type": "stream",
     "text": [
      "🤖 Leveraging information available to address 'How to protect the uniqueness of the garlic pizza recipe'...\n",
      "  > 😶‍🌫️ Hit 1: costefficiency \n",
      "  > 😶‍🌫️ Hit 2: timeefficiency \n",
      "  > 😶‍🌫️ Hit 3: strength-0 \n",
      "😶‍🌫️ New context for 'How to protect the uniqueness of the garlic pizza recipe' appended to vector database...\n"
     ]
    },
    {
     "data": {
      "text/markdown": [
       "# 🤖 Generated ...\n",
       "---\n",
       "# Protecting the Uniqueness of the Garlic Pizza Recipe\n",
       "\n",
       "This presentation will provide suggestions for how to protect the uniqueness of the garlic pizza recipe for a business striving to improve itself. \n",
       "\n",
       "---\n",
       "## The Question\n",
       "\n",
       "How can the business protect the uniqueness of the garlic pizza recipe?\n",
       "\n",
       "---\n",
       "## Key Concerns\n",
       "\n",
       "1. Maintaining the secret recipe\n",
       "2. Preventing recipe theft\n",
       "3. Protecting against competitors copying the recipe\n",
       "\n",
       "---\n",
       "## Concern 1: Maintaining the Secret Recipe\n",
       "\n",
       "**Explanation:** The unique garlic pizza recipe is a key strength of the business, and it is important to maintain the secret recipe to protect the business's competitive advantage.\n",
       "\n",
       "**Example:** The business can limit access to the recipe by only allowing the owner to prepare the garlic pizza. The recipe can be stored in a secure location and only shared with trusted employees who have signed a non-disclosure agreement.\n",
       "\n",
       "---\n",
       "## Concern 2: Preventing Recipe Theft\n",
       "\n",
       "**Explanation:** Recipe theft is a common issue in the food industry, and it is important to take steps to prevent the recipe from being stolen.\n",
       "\n",
       "**Example:** The business can implement security measures such as surveillance cameras and access controls to prevent unauthorized access to the recipe. The recipe can also be trademarked or patented to provide legal protection.\n",
       "\n",
       "---\n",
       "## Concern 3: Protecting Against Competitors Copying the Recipe\n",
       "\n",
       "**Explanation:** Competitors may try to copy the unique garlic pizza recipe, which can impact the business's competitive advantage.\n",
       "\n",
       "**Example:** The business can differentiate itself by emphasizing the unique aspects of the garlic pizza recipe, such as the owner's training in Sicily and the special blend of cheeses used. The business can also monitor competitors and take legal action if necessary to protect the recipe.\n",
       "\n",
       "---\n",
       "## Summary\n",
       "\n",
       "To protect the uniqueness of the garlic pizza recipe, the business should maintain the secret recipe, prevent recipe theft, and protect against competitors copying the recipe. By taking these steps, the business can maintain its competitive advantage and continue to provide customers with a unique and delicious pizza experience."
      ],
      "text/plain": [
       "<IPython.core.display.Markdown object>"
      ]
     },
     "metadata": {},
     "output_type": "display_data"
    }
   ],
   "source": [
    "interview_transcript=\"\"\"\n",
    "Q: What specific training did the owner receive in Sicily and how has it been applied to the business?\n",
    "A: The owner learned how to use a special kind of brick oven to make pizzas in Sicily.\n",
    "\n",
    "Q: How has the unique garlic pizza recipe contributed to the success of the business?\n",
    "A: Over half of the pizzas sold are the signature garlic pizza.\n",
    "\n",
    "Q: What awards has the garlic pizza recipe won and how have these awards impacted the business?\n",
    "A: The owner won the \"best pizza of 2022\" award from the local newspaper.\n",
    "\n",
    "Q: How does the business currently utilize the owner's training and the unique garlic pizza recipe to its advantage?\n",
    "A: The owner trains all new employees on how to make the garlic pizza.\n",
    "\n",
    "Q: What feedback have customers given about the garlic pizza and the overall service of the business?\n",
    "A: Customers come back for the garlic pizza.\n",
    "\n",
    "Q: How does the business maintain the quality and consistency of the garlic pizza?\n",
    "A: The owner has a simple recipe of flour, water, eggs, and garlic in specific and repeatable proportions.\n",
    "\n",
    "Q: How does the business ensure that the skills and knowledge of the owner are passed on to the staff?\n",
    "A: Right now it is all in the owner's head and shared verbally.\n",
    "\n",
    "Q: What steps has the business taken to protect the unique garlic pizza recipe?\n",
    "A: The recipe requires a special blend of cheeses that only the owner knows.\n",
    "\n",
    "Q: How does the business plan to continue leveraging the owner's training and the unique garlic pizza recipe in the future?\n",
    "A: The owner is looking for an apprentice to train.\n",
    "\n",
    "Q: How does the business differentiate itself from competitors with similar offerings?\n",
    "A: The garlic pizza is unique to this business.\n",
    "\n",
    "Q: How does the business plan to address any potential weaknesses or threats that could impact the owner's training or the unique garlic pizza recipe?\n",
    "A: Currently there's no plan to do so.\n",
    "\"\"\"\n",
    "\n",
    "skillsDirectory = \"./plugins-sk\"\n",
    "\n",
    "topic = \"How to protect the uniqueness of the garlic pizza recipe\"\n",
    "counter = 0\n",
    "gathered_context = []\n",
    "max_memories = 3\n",
    "memories = await kernel.memory.search_async(memoryCollectionName, topic, limit=max_memories, min_relevance_score=0.75)\n",
    "pluginFC = kernel.import_semantic_skill_from_directory(skillsDirectory, \"FriendlyConsultant\");\n",
    "\n",
    "print(f\"🤖 Leveraging information available to address '{topic}'...\")\n",
    "\n",
    "for memory in memories:\n",
    "    if counter == 0:\n",
    "        related_memory = memory.text\n",
    "    counter += 1\n",
    "    gathered_context.append(memory.text + \"\\n\")\n",
    "    print(f\"  > 😶‍🌫️ Hit {counter}: {memory.id} \")\n",
    "\n",
    "my_context = kernel.create_new_context()\n",
    "my_context['input'] = topic\n",
    "my_context['context'] = \"\\n\".join(gathered_context) + \"\\n\" + interview_transcript\n",
    "\n",
    "preso_result = await kernel.run_async(pluginFC[\"Presentation\"], input_context=my_context)\n",
    "\n",
    "print(f\"😶‍🌫️ New context for '{topic}' appended to vector database...\")\n",
    "await kernel.memory.save_information_async(memoryCollectionName, id=f\"{topic}\", text=topic + \"\\n\\n\" + str(preso_result))\n",
    "\n",
    "display(Markdown(\"# ✨ Generated presentation...\\n\"+str(preso_result)))\n"
   ]
  },
  {
   "cell_type": "markdown",
   "metadata": {},
   "source": [
    "## 🍎 Training the trainers: Making it easy and painless\n",
    "\n",
    "Recognizing the importance of the garlic pizza, it makes sense for the owner to get the recipe out of their head and into a training program. The owner does the work of writing down his expert tips for making the signature garlic pizza dish."
   ]
  },
  {
   "cell_type": "code",
   "execution_count": 7,
   "metadata": {},
   "outputs": [
    {
     "name": "stdout",
     "output_type": "stream",
     "text": [
      "😶‍🌫️ New context for 'Recipe and process for making the signature garlic pizza' appended to vector database...\n"
     ]
    }
   ],
   "source": [
    "what_is_this = \"Recipe and process for making the signature garlic pizza\"\n",
    "expert_knowledge = \"\"\"\n",
    "Special Garlic Pizza Recipe:\n",
    "> Ingredients: flour, eggs, sugar, garlic, salt, yeast, water, olive oil, tomato sauce, mozzarella cheese, parmesan cheese, basil\n",
    "\n",
    "Special Cheese Blend Recipe:\n",
    "> Ingredients: mozzarella cheese, parmesan cheese, cheddar cheese\n",
    "\n",
    "Special Cooking Instructions:\n",
    "> 1. Mix flour, eggs, sugar, garlic, salt, yeast, water, and olive oil in a bowl\n",
    "> 2. Knead the dough\n",
    "> 3. Let the dough rise\n",
    "> 4. Roll out the dough\n",
    "> 5. Spread tomato sauce on the dough\n",
    "> 6. Sprinkle cheese blend and basil on the dough\n",
    "> 7. Bake the pizza in the brick oven at 350 degrees for 10 minutes\n",
    "> 8. Be sure to move the pizza around within the oven every 3 minutes\n",
    "\"\"\"\n",
    "\n",
    "print(f\"😶‍🌫️ New context for '{what_is_this}' appended to vector database...\")\n",
    "await kernel.memory.save_information_async(memoryCollectionName, id=f\"{what_is_this}\", text=what_is_this + \"\\n\\n\" + expert_knowledge)"
   ]
  },
  {
   "cell_type": "markdown",
   "metadata": {},
   "source": [
    "To turn this information into a simple training program, we turn to the `TrainingProgram` semantic function to sketch a possible approach."
   ]
  },
  {
   "cell_type": "code",
   "execution_count": 8,
   "metadata": {},
   "outputs": [
    {
     "name": "stdout",
     "output_type": "stream",
     "text": [
      "🤖 Leveraging information available to address 'How to make the signature garlic pizza and save time'...\n",
      "  > 😶‍🌫️ Hit 1: Recipe and process for making the signature garlic pizza \n",
      "  > 😶‍🌫️ Hit 2: costefficiency \n",
      "  > 😶‍🌫️ Hit 3: How to protect the uniqueness of the garlic pizza recipe \n",
      "  > 😶‍🌫️ Hit 4: timeefficiency \n",
      "  > 😶‍🌫️ Hit 5: strength-0 \n"
     ]
    },
    {
     "data": {
      "text/markdown": [
       "# ✨ Generated ...\n",
       "How to Make the Signature Garlic Pizza and Save Time\n",
       "\n",
       "Learning Objectives:\n",
       "1. Understand the importance of making the signature garlic pizza efficiently\n",
       "2. Learn the specific steps and procedures for making the garlic pizza\n",
       "3. Encourage participants to ask questions and seek help when needed\n",
       "\n",
       "Agenda:\n",
       "1. Introduction (5 minutes)\n",
       "- Welcome participants and explain the purpose of the training program\n",
       "- Explain the importance of making the signature garlic pizza efficiently\n",
       "\n",
       "2. Recipe and Process Overview (20 minutes)\n",
       "- Review the special garlic pizza recipe and special cheese blend recipe\n",
       "- Explain the special cooking instructions step-by-step\n",
       "- Demonstrate the process for making the garlic pizza\n",
       "\n",
       "3. Time-Saving Tips (20 minutes)\n",
       "- Identify areas where time can be saved in the process\n",
       "- Demonstrate techniques for streamlining the process, such as prepping ingredients in advance and organizing workstations\n",
       "- Encourage participants to share their own time-saving tips\n",
       "\n",
       "4. Q&A and Discussion (10 minutes)\n",
       "- Encourage participants to ask questions and seek help when needed\n",
       "- Discuss any challenges or issues that participants may have encountered when making the garlic pizza\n",
       "\n",
       "5. Conclusion (5 minutes)\n",
       "- Summarize the key takeaways from the training program\n",
       "- Encourage participants to apply what they have learned when making the garlic pizza in the future\n",
       "\n",
       "Total Time: 1 hour"
      ],
      "text/plain": [
       "<IPython.core.display.Markdown object>"
      ]
     },
     "metadata": {},
     "output_type": "display_data"
    }
   ],
   "source": [
    "pluginsDirectory = \"./plugins-sk\"\n",
    "\n",
    "topic = \"How to make the signature garlic pizza and save time\"\n",
    "counter = 0\n",
    "gathered_context = []\n",
    "max_memories = 5\n",
    "memories = await kernel.memory.search_async(memoryCollectionName, topic, limit=max_memories, min_relevance_score=0.75)\n",
    "pluginFC = kernel.import_semantic_skill_from_directory(pluginsDirectory, \"FriendlyConsultant\");\n",
    "\n",
    "print(f\"🤖 Leveraging information available to address '{topic}'...\")\n",
    "\n",
    "for memory in memories:\n",
    "    if counter == 0:\n",
    "        related_memory = memory.text\n",
    "    counter += 1\n",
    "    gathered_context.append(memory.text + \"\\n\")\n",
    "    print(f\"  > 😶‍🌫️ Hit {counter}: {memory.id} \")\n",
    "\n",
    "my_context = kernel.create_new_context()\n",
    "my_context['input'] = topic\n",
    "my_context['context'] = \"\\n\".join(gathered_context)\n",
    "\n",
    "training_result = await kernel.run_async(pluginFC[\"TrainingProgram\"], input_context=my_context)\n",
    "\n",
    "display(Markdown(\"# ✨ Generated ...\\n\"+str(training_result)))"
   ]
  }
 ],
 "metadata": {
  "kernelspec": {
   "display_name": ".venv",
   "language": "python",
   "name": "python3"
  },
  "language_info": {
   "codemirror_mode": {
    "name": "ipython",
    "version": 3
   },
   "file_extension": ".py",
   "mimetype": "text/x-python",
   "name": "python",
   "nbconvert_exporter": "python",
   "pygments_lexer": "ipython3",
   "version": "3.9.6"
  },
  "orig_nbformat": 4
 },
 "nbformat": 4,
 "nbformat_minor": 2
}
