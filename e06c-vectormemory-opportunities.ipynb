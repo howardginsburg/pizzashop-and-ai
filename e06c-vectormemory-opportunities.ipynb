{
 "cells": [
  {
   "cell_type": "markdown",
   "metadata": {},
   "source": [
    "# E6c Vector memory and examining one's opportunities"
   ]
  },
  {
   "cell_type": "markdown",
   "metadata": {},
   "source": [
    "## 🔖 To end this analysis on a high note, let's talk about oppoprtunities\n",
    "\n",
    "Recall our original SWOT as having identified a opportunities and threats to the pizza store business.\n",
    "\n",
    "| OPPORTUNITY 1 | THREAT 1 |\n",
    "|---|---|\n",
    "| The spring neighborhood fair is coming | Cheese prices are skyrocketing in price |\n",
    "| ![](assets/townfair.png) | ![](assets/cheese.png) |\n",
    "\n",
    "With the neighborhood fair coming up, there's an opportunity for the pizza shop to get known by an entirely new market.\n",
    "\n",
    "## 🔥 We grab a kernel and also tie into our local Chroma vector database\n"
   ]
  },
  {
   "cell_type": "code",
   "execution_count": 1,
   "metadata": {},
   "outputs": [
    {
     "name": "stderr",
     "output_type": "stream",
     "text": [
      "/Users/johnmaeda/Documents/GitHub/pizzashop-and-ai/.venv/lib/python3.9/site-packages/urllib3/__init__.py:34: NotOpenSSLWarning: urllib3 v2.0 only supports OpenSSL 1.1.1+, currently the 'ssl' module is compiled with 'LibreSSL 2.8.3'. See: https://github.com/urllib3/urllib3/issues/3020\n",
      "  warnings.warn(\n"
     ]
    }
   ],
   "source": [
    "import semantic_kernel as sk\n",
    "from IPython.display import display, Markdown\n",
    "from semantic_kernel.connectors.ai.open_ai import OpenAIChatCompletion, OpenAITextEmbedding\n",
    "from semantic_kernel.connectors.ai.open_ai import AzureChatCompletion, AzureTextEmbedding\n",
    "from semantic_kernel.connectors.memory.chroma import ChromaMemoryStore\n",
    "\n",
    "kernel = sk.Kernel()\n",
    "\n",
    "useAzureOpenAI = False\n",
    "\n",
    "# Configure AI services used by the kernel\n",
    "if useAzureOpenAI:\n",
    "    deployment, api_key, endpoint = sk.azure_openai_settings_from_dot_env()\n",
    "    kernel.add_text_completion_service(\"dv\", AzureChatCompletion(deployment, endpoint, api_key))\n",
    "    kernel.add_text_embedding_generation_service(\"ada\", AzureTextEmbedding(\"text-embedding-ada-002\", api_key, endpoint))\n",
    "else:\n",
    "    api_key, org_id = sk.openai_settings_from_dot_env()\n",
    "    kernel.add_text_completion_service(\"dv\", OpenAIChatCompletion(\"gpt-4\", api_key, org_id))\n",
    "#    kernel.add_text_completion_service(\"dv\", OpenAIChatCompletion(\"gpt-3.5-turbo-0301\", api_key, org_id))\n",
    "    kernel.add_text_embedding_generation_service(\"ada\", OpenAITextEmbedding(\"text-embedding-ada-002\", api_key, org_id))\n",
    "\n",
    "kernel.register_memory_store(memory_store=ChromaMemoryStore(persist_directory='mymemories'))\n",
    "\n",
    "memoryCollectionName = \"SWOT\""
   ]
  },
  {
   "cell_type": "markdown",
   "metadata": {},
   "source": [
    "## 🎲 How might we take on the opportunity of the neighborhood town fair coming up?"
   ]
  },
  {
   "cell_type": "code",
   "execution_count": 3,
   "metadata": {},
   "outputs": [
    {
     "name": "stdout",
     "output_type": "stream",
     "text": [
      "✨ Leveraging information available to address 'How to use the upcoming neighborhood town fair to attract new customers?'...\n",
      "  > 😶‍🌫️ Hit 1: opportunity-3 \n",
      "  > 😶‍🌫️ Hit 2: opportunity-1 \n",
      "  > 😶‍🌫️ Hit 3: opportunity-0 \n",
      "✨ Synthesizing consultative advice...\n"
     ]
    },
    {
     "data": {
      "text/markdown": [
       "# ✨ Generated response: How to use the upcoming neighborhood town fair to attract new customers? ...\n",
       "To attract new customers at the upcoming neighborhood town fair, the business should consider setting up a booth or stall to showcase its products or services. This could be particularly effective if the business is in the food industry, as the fair is a food fair. The business could offer free samples or discounts to attract potential customers.\n",
       "\n",
       "In addition, the business could also consider partnering with local tech startups for this event. This could be a mutually beneficial relationship, as the startups could provide technological solutions (like a mobile app for ordering) and the business could provide food services. This partnership could attract the tech-savvy crowd from the local tech startup community.\n",
       "\n",
       "Lastly, the business could also explore the untapped catering potential. At the fair, the business could advertise its new catering services. This could attract potential customers who are looking for catering services for their events or parties. \n",
       "\n",
       "Remember, the key is to be visible, engaging, and to offer something of value that would make potential customers want to try out your products or services."
      ],
      "text/plain": [
       "<IPython.core.display.Markdown object>"
      ]
     },
     "metadata": {},
     "output_type": "display_data"
    }
   ],
   "source": [
    "what_if_scenario = \"How to use the upcoming neighborhood town fair to attract new customers?\"\n",
    "counter = 0\n",
    "\n",
    "gathered_context = []\n",
    "max_memories = 3\n",
    "memories = await kernel.memory.search_async(memoryCollectionName, what_if_scenario, limit=max_memories, min_relevance_score=0.77)\n",
    "\n",
    "print(f\"✨ Leveraging information available to address '{what_if_scenario}'...\")\n",
    "\n",
    "for memory in memories:\n",
    "    if counter == 0:\n",
    "        related_memory = memory.text\n",
    "    counter += 1\n",
    "    gathered_context.append(memory.text + \"\\n\")\n",
    "    print(f\"  > 😶‍🌫️ Hit {counter}: {memory.id} \")\n",
    "\n",
    "pluginsDirectory = \"./plugins-sk\"\n",
    "print(f\"✨ Synthesizing consultative advice...\")\n",
    "pluginFC = kernel.import_semantic_skill_from_directory(pluginsDirectory, \"FriendlyConsultant\");\n",
    "\n",
    "my_context = kernel.create_new_context()\n",
    "my_context['input'] = what_if_scenario\n",
    "my_context['context'] = \"\\n\".join(gathered_context)\n",
    "\n",
    "preso_result = await kernel.run_async(pluginFC[\"OneConsultation\"], input_context=my_context)\n",
    "\n",
    "display(Markdown(f\"# ✨ Generated response: {what_if_scenario} ...\\n\"+str(preso_result)))"
   ]
  },
  {
   "cell_type": "markdown",
   "metadata": {},
   "source": [
    "### 🤖 Cached response from GPT-4\n",
    "\n",
    "To attract new customers at the upcoming neighborhood town fair, the business could consider setting up a booth or stall to showcase its products or services. Given the context of the annual food fair, if the business is a restaurant or food service, it could offer samples of its unique garlic pizza or newly introduced calzones. This would not only attract food lovers but also provide an opportunity to introduce the expanded menu to a wider audience.\n",
    "\n",
    "Additionally, the business could consider partnering with local tech startups for this event. This could involve offering special discounts or promotions to employees of these startups, or even hosting a tech-themed event or competition at the fair. This would attract the growing local tech community and could potentially lead to long-term partnerships.\n",
    "\n",
    "Furthermore, the business could leverage its strong local reputation and prime location on the university campus to attract students and staff to its booth at the fair. Offering student discounts or university-themed promotions could be an effective strategy.\n",
    "\n",
    "Finally, the business could use the fair as an opportunity to showcase its renovated seating area and staff retention program. This could involve displaying photos or videos at the booth, or inviting fair-goers to visit the business location. This would demonstrate the business's commitment to improving its customer experience and retaining quality staff."
   ]
  },
  {
   "cell_type": "markdown",
   "metadata": {},
   "source": [
    "### For planners, want to have the AI write invitation letters to audiences and also suggest signs and copy to use at the booth by explaining what can be done with the booth and available marketing space in the town newspaper as a local business."
   ]
  }
 ],
 "metadata": {
  "kernelspec": {
   "display_name": ".venv",
   "language": "python",
   "name": "python3"
  },
  "language_info": {
   "codemirror_mode": {
    "name": "ipython",
    "version": 3
   },
   "file_extension": ".py",
   "mimetype": "text/x-python",
   "name": "python",
   "nbconvert_exporter": "python",
   "pygments_lexer": "ipython3",
   "version": "3.9.6"
  },
  "orig_nbformat": 4
 },
 "nbformat": 4,
 "nbformat_minor": 2
}
