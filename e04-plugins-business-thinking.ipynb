{
 "cells": [
  {
   "cell_type": "markdown",
   "metadata": {},
   "source": [
    "# E4 Business strategy thinking applied to the pizza shop owner's SWOT"
   ]
  },
  {
   "cell_type": "markdown",
   "metadata": {},
   "source": [
    "## 📜 A few simple working rules for a modern business\n",
    "\n",
    "Every business benefits from four courses of action to be used together or in combination:\n",
    "\n",
    "1. Grow the existing business\n",
    "2. Save money and time\n",
    "3. Add completely new business\n",
    "4. Prepare for the unknown\n",
    "\n",
    "Growth as built upon a business' existing strengths is always a great place to start. And by finding any kinds of savings, those benefits can either be banked or reinvested. Sometimes a new line of business can be pursued with successful growth or savings initiatives. And as we all learned from the pandemic era, there's a certain benefit to businesses that are resilient to unexpected shifts that sit out their control. This leads us to a simplified way of thinking how best to tackle one's business challenges:\n",
    "\n",
    "* Strengths: Build upon them and grow\n",
    "* Weaknesses: Don't damage the core\n",
    "* Opportunities: Make a few bets\n",
    "* Threats: Be ready for undesirable changes"
   ]
  },
  {
   "cell_type": "markdown",
   "metadata": {},
   "source": [
    "## 🔥 Now let's get a kernel ready\n",
    "\n",
    "We're going to create a kernel that includes an embedding generation service — so that we can best construct the context that will be used."
   ]
  },
  {
   "cell_type": "code",
   "execution_count": 4,
   "metadata": {},
   "outputs": [],
   "source": [
    "import semantic_kernel as sk\n",
    "from semantic_kernel.connectors.ai.open_ai import OpenAIChatCompletion, OpenAITextEmbedding\n",
    "from semantic_kernel.connectors.ai.open_ai import AzureChatCompletion, AzureTextEmbedding\n",
    "\n",
    "kernel = sk.Kernel()\n",
    "\n",
    "useAzureOpenAI = False\n",
    "\n",
    "# Configure AI services used by the kernel\n",
    "if useAzureOpenAI:\n",
    "    deployment, api_key, endpoint = sk.azure_openai_settings_from_dot_env()\n",
    "    kernel.add_text_completion_service(\"dv\", AzureChatCompletion(deployment, endpoint, api_key))\n",
    "else:\n",
    "    api_key, org_id = sk.openai_settings_from_dot_env()\n",
    "    kernel.add_text_completion_service(\"dv\", OpenAIChatCompletion(\"gpt-3.5-turbo-0301\", api_key, org_id))"
   ]
  },
  {
   "cell_type": "markdown",
   "metadata": {},
   "source": [
    "## 🧐 There's commonsense in a basic SWOT analysis\n",
    "\n",
    "The `BusinessThinking` plugin demonstrates how to tackle a SWOT in an effective manner for the business owner. We can start by seeking cost efficiencies that can help the pizza shop owner save money to either: 1/ reinvest into the business, or 2/ use for whatever the pizza shop owner needs."
   ]
  },
  {
   "cell_type": "code",
   "execution_count": 5,
   "metadata": {},
   "outputs": [
    {
     "data": {
      "text/markdown": [
       "### ✨ Suggestions for how to gain cost efficiencies\n",
       "| Title | Strength | Weakness | Description |\n",
       "| ----- | -------- | -------- | ----------- |\n",
       "| Cross-training staff | Strong local reputation | High staff turnover | By cross-training staff in different roles, the business can reduce the need for constant hiring and training of new employees, saving on recruitment and training costs. |\n",
       "| Menu optimization | Unique garlic pizza recipe that wins top awards | Absence of popular calzones from menu | By analyzing sales data and customer feedback, the business can optimize their menu to focus on their most popular and profitable items, while also adding in-demand items like calzones to attract a wider customer base. This can reduce waste and increase revenue. |\n",
       "| Online reputation management | Prime location on university campus | Negative reviews from younger demographic for lack of hip ingredients | By actively monitoring and responding to online reviews and social media comments, the business can address negative feedback and improve their reputation among younger customers. This can lead to increased customer loyalty and positive word-of-mouth marketing, reducing the need for costly advertising. |"
      ],
      "text/plain": [
       "<IPython.core.display.Markdown object>"
      ]
     },
     "metadata": {},
     "output_type": "display_data"
    }
   ],
   "source": [
    "from IPython.display import display, Markdown\n",
    "\n",
    "strengths = [ \"Unique garlic pizza recipe that wins top awards\",\"Owner trained in Sicily at some of the best pizzerias\",\"Strong local reputation\",\"Prime location on university campus\" ]\n",
    "weaknesses = [ \"High staff turnover\",\"Floods in the area damaged the seating areas that are in need of repair\",\"Absence of popular calzones from menu\",\"Negative reviews from younger demographic for lack of hip ingredients\" ]\n",
    "opportunities = [ \"Untapped catering potential\",\"Growing local tech startup community\",\"Unexplored online presence and order capabilities\",\"Upcoming annual food fair\" ]\n",
    "threats = [ \"Competition from cheaper pizza businesses nearby\",\"There's nearby street construction that will impact foot traffic\",\"Rising cost of cheese will increase the cost of pizzas\",\"No immediate local regulatory changes but it's election season\" ]\n",
    "\n",
    "pluginsDirectory = \"./plugins-sk\"\n",
    "\n",
    "pluginBT = kernel.import_semantic_skill_from_directory(pluginsDirectory, \"BusinessThinking\");\n",
    "\n",
    "my_context = kernel.create_new_context()\n",
    "my_context['input'] = 'makes pizzas'\n",
    "my_context['strengths'] = \", \".join(strengths)\n",
    "my_context['weaknesses'] = \", \".join(weaknesses)\n",
    "\n",
    "costefficiency_result = await kernel.run_async(pluginBT[\"SeekCostEfficiency\"], input_context=my_context)\n",
    "\n",
    "costefficiency_str = str(\"### ✨ Suggestions for how to gain cost efficiencies\\n\" + str(costefficiency_result))\n",
    "display(Markdown(costefficiency_str))"
   ]
  },
  {
   "cell_type": "markdown",
   "metadata": {},
   "source": [
    "Another thing the pizza shop owner wants to figure out is how to get more time back for themself. Often times that time gained can be used for the pizza shop to reinvest in the same way that money saved can be re-leveraged."
   ]
  },
  {
   "cell_type": "code",
   "execution_count": 6,
   "metadata": {},
   "outputs": [
    {
     "data": {
      "text/markdown": [
       "### ✨ Suggestions for how to gain time efficiencies\n",
       "| Title | Strength | Weakness | Description |\n",
       "| ----- | -------- | -------- | ----------- |\n",
       "| Online ordering system | Strong local reputation | High staff turnover | Implementing an online ordering system can reduce the need for staff to take orders, freeing them up for other tasks and reducing the impact of high staff turnover. |\n",
       "| Cross-training employees | Owner trained in Sicily at some of the best pizzerias | High staff turnover | Cross-training employees to perform multiple tasks can ensure that the business can continue to operate efficiently even when staff turnover is high. |\n",
       "| Streamlining menu offerings | Unique garlic pizza recipe that wins top awards | Absence of popular calzones from menu, Negative reviews from younger demographic for lack of hip ingredients | Focusing on the most popular menu items and eliminating less popular items can reduce the time and resources needed to prepare a wide variety of dishes. This can also allow the business to focus on its strengths and maintain its reputation for award-winning pizza. |"
      ],
      "text/plain": [
       "<IPython.core.display.Markdown object>"
      ]
     },
     "metadata": {},
     "output_type": "display_data"
    }
   ],
   "source": [
    "from IPython.display import display, Markdown\n",
    "\n",
    "skillsDirectory = \"./plugins-sk\"\n",
    "\n",
    "pluginBT = kernel.import_semantic_skill_from_directory(skillsDirectory, \"BusinessThinking\");\n",
    "\n",
    "my_context = kernel.create_new_context()\n",
    "my_context['input'] = 'makes pizzas'\n",
    "my_context['strengths'] = \", \".join(strengths)\n",
    "my_context['weaknesses'] = \", \".join(weaknesses)\n",
    "\n",
    "timeefficiency_result = await kernel.run_async(pluginBT[\"SeekTimeEfficiency\"], input_context=my_context)\n",
    "\n",
    "timeefficiency_str = \"### ✨ Suggestions for how to gain time efficiencies\\n\"+str(timeefficiency_result)\n",
    "display(Markdown(timeefficiency_str))"
   ]
  },
  {
   "cell_type": "markdown",
   "metadata": {},
   "source": [
    "## A holistic view via the SWOT analysis\n",
    "\n",
    "And yet another way to seek improvements in the business is starting from the SWOT and finding not only efficiency, but new revenue and more resilience as well."
   ]
  },
  {
   "cell_type": "code",
   "execution_count": 7,
   "metadata": {},
   "outputs": [
    {
     "data": {
      "text/markdown": [
       "## ✨ Business strategy thinking based on SWOT analysis\n",
       "### Building on strengths can immediately improve the business\n",
       "\n",
       "| Title | Strength | Weakness | Description |\n",
       "| ----- | -------- | -------- | ----------- |\n",
       "| Expand menu with popular calzones | Unique garlic pizza recipe that wins top awards | Absence of popular calzones from menu | Add calzones to the menu to attract customers who prefer them over pizza |\n",
       "| Implement retention strategies | Owner trained in Sicily at some of the best pizzerias, Strong local reputation | High staff turnover | Create employee incentive programs, offer opportunities for growth and development, and improve workplace culture to reduce staff turnover |\n",
       "| Renovate seating areas | Unique garlic pizza recipe that wins top awards, Prime location on university campus | Floods in the area damaged the seating areas that are in need of repair | Renovate seating areas to improve the dining experience and attract more customers |\n",
       "\n",
       "### Taking advantage of opportunities whenever possible\n",
       "\n",
       "| Title | Opportunity | Description |\n",
       "| ----- | -------- | ----------- |\n",
       "| Expand catering services | Untapped catering potential | Offer catering services to local businesses, events, and organizations to increase revenue |\n",
       "| Develop online ordering capabilities | Unexplored online presence and order capabilities | Create a user-friendly website and mobile app for customers to order online, increasing convenience and accessibility |\n",
       "| Participate in annual food fair | Upcoming annual food fair | Showcase the unique garlic pizza recipe and attract new customers through tastings and promotions |\n",
       "\n",
       "### Building resilience to threats is always a good idea\n",
       "\n",
       "| Title | Threat | Description |\n",
       "| ----- | -------- | ----------- |\n",
       "| Diversify menu to include cheaper options | Competition from cheaper pizza businesses nearby | Offer lower-priced options to compete with nearby businesses |\n",
       "| Offer delivery services | There's nearby street construction that will impact foot traffic | Offer delivery services to customers who may not be able to visit the restaurant due to construction |\n",
       "| Explore alternative cheese options | Rising cost of cheese will increase the cost of pizzas | Research and experiment with alternative cheese options to reduce costs without sacrificing quality |"
      ],
      "text/plain": [
       "<IPython.core.display.Markdown object>"
      ]
     },
     "metadata": {},
     "output_type": "display_data"
    }
   ],
   "source": [
    "from IPython.display import display, Markdown\n",
    "\n",
    "skillsDirectory = \"./plugins-sk\"\n",
    "\n",
    "pluginBT = kernel.import_semantic_skill_from_directory(skillsDirectory, \"BusinessThinking\");\n",
    "\n",
    "my_context = kernel.create_new_context()\n",
    "my_context['input'] = 'makes pizzas'\n",
    "my_context['strengths'] = \", \".join(strengths)\n",
    "my_context['weaknesses'] = \", \".join(weaknesses)\n",
    "my_context['opportunities'] = \", \".join(opportunities)\n",
    "my_context['threats'] = \", \".join(threats)\n",
    "\n",
    "bizstrat_result = await kernel.run_async(pluginBT[\"BasicStrategies\"], input_context=my_context)\n",
    "\n",
    "bizstrat_str = \"## ✨ Business strategy thinking based on SWOT analysis\\n\"+str(bizstrat_result)\n",
    "display(Markdown(bizstrat_str))"
   ]
  },
  {
   "cell_type": "markdown",
   "metadata": {},
   "source": [
    "Let's not forget that the pizza shop owner is really busy. And they don't have the time, nor money, to address many of these intriguing ideas. That said, the time and money required to have this list of ideas has come essentially for free to the pizza shop owner. So the next question is, \n",
    "\n",
    ">\"What ideas could they immediately put into action and learn if they could really work?\"\n",
    "\n",
    "Another way to think of it is the famous \"bucket of time\" and \"bucket of money\" depiction of a business owner.\n",
    "\n",
    "![](assets/shopkeeper.png)\n",
    "\n",
    "They're always leaking the bucket with amount of time they wish they had AND their bucket of money. With this extremely practical mindedness at heart, let's go and help the pizza shop owner!"
   ]
  },
  {
   "cell_type": "markdown",
   "metadata": {},
   "source": [
    "## 🧐 So. What?\n",
    "\n",
    "When you're speeding through the straightaway of ✨ AI magic, it's easy to take for granted the analyses that are coming back. It's easy to believe that everything coming out of an LLM can be a form of hallucination that may not help the pizza shop owner at all. After all, it seems a little too easy. But that's the moment we're living in today. The technology is magic. But what's even more magical is what it can do for a pizza shop owner's life and livelihood. That's the point that Andrew made in his talk at TED. And it's the key to making sure that this new kind of AI can make a real impact on real people.\n",
    "\n",
    "As a developer, you're unlikely to have the time to understand different business verticals — or go deep into the life of a pizza shop owner. And of course there's nothing that can substitute a face-to-face user research-minded tour of the real thing. But the LLMs have a good b-school game going on with a variety of use cases that they've managed to absorb because business people can't stop bragging about how useful they are (wink). Let's keep going to see if you can connect your technomuscles to solving the pizza owner's challenges."
   ]
  }
 ],
 "metadata": {
  "kernelspec": {
   "display_name": ".venv",
   "language": "python",
   "name": "python3"
  },
  "language_info": {
   "codemirror_mode": {
    "name": "ipython",
    "version": 3
   },
   "file_extension": ".py",
   "mimetype": "text/x-python",
   "name": "python",
   "nbconvert_exporter": "python",
   "pygments_lexer": "ipython3",
   "version": "3.9.6"
  },
  "orig_nbformat": 4
 },
 "nbformat": 4,
 "nbformat_minor": 2
}
