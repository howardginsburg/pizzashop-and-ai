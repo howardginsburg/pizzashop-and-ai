{
 "cells": [
  {
   "cell_type": "markdown",
   "metadata": {},
   "source": [
    "# 🧑‍🍳 Cooking up flavorful SWOTs with the kernel\n",
    "\n",
    "## 🔥 Get a kernel ready"
   ]
  },
  {
   "cell_type": "code",
   "execution_count": null,
   "metadata": {},
   "outputs": [],
   "source": [
    "import semantic_kernel as sk\n",
    "from semantic_kernel.connectors.ai.open_ai import AzureChatCompletion, OpenAIChatCompletion\n",
    "from IPython.display import display, Markdown\n",
    "\n",
    "kernel = sk.Kernel()\n",
    "\n",
    "useAzureOpenAI = False\n",
    "\n",
    "if useAzureOpenAI:\n",
    "    deployment, api_key, endpoint = sk.azure_openai_settings_from_dot_env()\n",
    "    kernel.add_text_completion_service(\"azureopenai\", AzureChatCompletion(deployment, endpoint, api_key))\n",
    "else:\n",
    "    api_key, org_id = sk.openai_settings_from_dot_env()\n",
    "    kernel.add_text_completion_service(\"openai\", OpenAIChatCompletion(\"gpt-3.5-turbo-0301\", api_key, org_id))\n",
    "\n",
    "print(\"A kernel is now ready.\")    "
   ]
  },
  {
   "cell_type": "markdown",
   "metadata": {},
   "source": [
    "## 🧂 Create an \"inline\" semantic function\n",
    "\n",
    "Semantic Kernel uses a simple templating format where variables are denoted with `{{` and `}}` and a dollar sign before the name. The default variable name is `$input`."
   ]
  },
  {
   "cell_type": "code",
   "execution_count": null,
   "metadata": {},
   "outputs": [],
   "source": [
    "sk_prompt = \"\"\"\n",
    "{{$input}}\n",
    "\n",
    "Summarize the content above in less than 140 characters.\n",
    "\"\"\"\n",
    "\n",
    "summary_function = kernel.create_semantic_function(prompt_template=sk_prompt,\n",
    "                                                    description=\"Summarizes the input to length of an old tweet.\",\n",
    "                                                    max_tokens=200,\n",
    "                                                    temperature=0.1,\n",
    "                                                    top_p=0.5)\n",
    "\n",
    "print(\"A semantic function for summarization has been registered.\");"
   ]
  },
  {
   "cell_type": "markdown",
   "metadata": {},
   "source": [
    "## 🏎️ Set the default variable $input and have the kernel run it\n",
    "\n",
    "Note that `$input` is the default variable name and it gets fed into the function from the `input_str` parameter."
   ]
  },
  {
   "cell_type": "code",
   "execution_count": null,
   "metadata": {},
   "outputs": [],
   "source": [
    "sk_input = \"\"\"\n",
    "Let me illustrate an example. Many weekends, I drive a few minutes from my house to a local pizza store to buy \n",
    "a slice of Hawaiian pizza from the gentleman that owns this pizza store. And his pizza is great, but he always \n",
    "has a lot of cold pizzas sitting around, and every weekend some different flavor of pizza is out of stock. \n",
    "But when I watch him operate his store, I get excited, because by selling pizza, he is generating data. \n",
    "And this is data that he can take advantage of if he had access to AI.\n",
    "\n",
    "AI systems are good at spotting patterns when given access to the right data, and perhaps an AI system could spot \n",
    "if Mediterranean pizzas sell really well on a Friday night, maybe it could suggest to him to make more of it on a \n",
    "Friday afternoon. Now you might say to me, \"Hey, Andrew, this is a small pizza store. What's the big deal?\" And I \n",
    "say, to the gentleman that owns this pizza store, something that could help him improve his revenues by a few \n",
    "thousand dollars a year, that will be a huge deal to him.\n",
    "\"\"\";\n",
    "# Text source: https://www.ted.com/talks/andrew_ng_how_ai_could_empower_any_business/transcript\n",
    "\n",
    "summary_result = await kernel.run_async(summary_function, input_str=sk_input) \n",
    "\n",
    "display(Markdown(\"### ✨ \" + str(summary_result)))"
   ]
  },
  {
   "cell_type": "markdown",
   "metadata": {},
   "source": [
    "There's a simpler way to run the function that involves just calling it directly:"
   ]
  },
  {
   "cell_type": "code",
   "execution_count": null,
   "metadata": {},
   "outputs": [],
   "source": [
    "summary_result = summary_function(sk_input)\n",
    "\n",
    "display(Markdown(\"### ✨ \" + str(summary_result)))"
   ]
  },
  {
   "cell_type": "markdown",
   "metadata": {},
   "source": [
    "## 🧂 Create an 'inline' native function\n",
    "\n",
    "It's also possible to create functions that the kernel can use that do not use LLM prompts and can instead use good ole fashion code. Native code isn't as fancy as semantic code — so the best we will try to do here is turn an input text into ... pig latin."
   ]
  },
  {
   "cell_type": "code",
   "execution_count": null,
   "metadata": {},
   "outputs": [],
   "source": [
    "from semantic_kernel.skill_definition import (\n",
    "    sk_function,\n",
    "    sk_function_context_parameter,\n",
    ")\n",
    "from semantic_kernel.orchestration.sk_context import SKContext\n",
    "\n",
    "class ExoticLanguagePlugin:\n",
    "    def word_to_pig_latin(self, word):\n",
    "        vowels = \"AEIOUaeiou\"\n",
    "        if word[0] in vowels:\n",
    "            return word + \"way\"\n",
    "        for idx, letter in enumerate(word):\n",
    "            if letter in vowels:\n",
    "                break\n",
    "        else:\n",
    "            return word + \"ay\"\n",
    "        return word[idx:] + word[:idx] + \"ay\"\n",
    "    @sk_function(\n",
    "        description=\"Takes text and converts it to pig latin\",\n",
    "        name=\"pig_latin\",\n",
    "        input_description=\"The text to convert to pig latin\",\n",
    "    )\n",
    "    def pig_latin(self, sentence:str) -> str:\n",
    "        words = sentence.split()\n",
    "        pig_latin_words = []\n",
    "        for word in words:\n",
    "            pig_latin_words.append(self.word_to_pig_latin(word))\n",
    "        return ' '.join(pig_latin_words)\n",
    "\n",
    "exotic_language_plugin = kernel.import_skill(ExoticLanguagePlugin(), skill_name=\"exotic_language_plugin\")\n",
    "pig_latin_function = exotic_language_plugin[\"pig_latin\"]\n"
   ]
  },
  {
   "cell_type": "markdown",
   "metadata": {},
   "source": [
    "## 🏎️ Run the semantic function's output through the native function's input\n",
    "\n",
    "To chain two functions together we simply add the function appropriately. And we unfortunately butcher the output."
   ]
  },
  {
   "cell_type": "code",
   "execution_count": null,
   "metadata": {},
   "outputs": [],
   "source": [
    "final_result = await kernel.run_async(summary_function, pig_latin_function, input_str=sk_input) \n",
    "\n",
    "display(Markdown(\"### ✨ \" + str(final_result)))"
   ]
  },
  {
   "cell_type": "markdown",
   "metadata": {},
   "source": [
    "## 📈 Let's get down to business\n",
    "\n",
    "[![](assets/andrew_ng.jpg)](assets/thepizzastore720.mp4)\n",
    "\n",
    "In his TED 2022 talk, Andrew Ng describes \"How AI could empower any business ([TED 2022](https://www.ted.com/talks/andrew_ng_how_ai_could_empower_any_business))\" as  means to help us all understand that the new kind of AI technology could be put into service for anybody — including Andrew's favorite pizza shop.\n",
    "\n",
    "There are a variety of business strategy questions that can be asked with LLMs, and so we'll use Semantic Kernel to work our way towards repeatable processes that can be used for other businesses in the future. We want to get a sense of the challenges of the pizza shop owner, so we take the time to interview them to best understand their Strengths, Weaknesses, Opportunities, and Threats -- so-called \"SWOT Analysis.\" \n",
    "\n",
    "By having a few interview questions to get going, there's the potential to understand the pizza shop owner's business better.\n",
    "\n",
    "1. **Strengths**\n",
    "    - What unique recipes or ingredients does the pizza shop use?\n",
    "    - What are the skills and experience of the staff?\n",
    "    - Does the pizza shop have a strong reputation in the local area?\n",
    "    - Are there any unique features of the shop or its location that attract customers?\n",
    "2. **Weaknesses**\n",
    "    - What are the operational challenges of the pizza shop? (e.g., slow service, high staff turnover)\n",
    "    - Are there financial constraints that limit growth or improvements?\n",
    "    - Are there any gaps in the product offering?\n",
    "    - Are there customer complaints or negative reviews that need to be addressed?\n",
    "3. **Opportunities**\n",
    "    - Is there potential for new products or services (e.g., catering, delivery)?\n",
    "    - Are there under-served customer segments or market areas?\n",
    "    - Can new technologies or systems enhance the business operations?\n",
    "    - Are there partnerships or local events that can be leveraged for marketing?\n",
    "4. **Threats**\n",
    "    - Who are the major competitors and what are they offering?\n",
    "    - Are there potential negative impacts due to changes in the local area (e.g., construction, closure of nearby businesses)?\n",
    "    - Are there economic or industry trends that could impact the business negatively (e.g., increased ingredient costs)?\n",
    "    - Is there any risk due to changes in regulations or legislation (e.g., health and safety, employment)?\n",
    " \n",
    "The answers that came back are organized in a so-called \"SWOT\" matrix.\n",
    "\n",
    "### 🔖 Strengths and Weaknesses\n",
    "\n",
    "There's a lot for the pizza shop owner to build upon (their strengths) and there are some ongoing concerns (their weaknesses) that may slow the pizza shop owner's business over time. \n",
    "\n",
    "| **Strengths**                                     | **Weaknesses**                                               |\n",
    "| --- | --- |\n",
    "| Unique garlic pizza recipe that wins top awards  | High staff turnover                                          |\n",
    "| Owner trained in Sicily at some of the best pizzerias                          | Floods in the area damaged the seating areas that are in need of repair  |\n",
    "| Strong local reputation                           | Absence of popular calzones from menu                        |\n",
    "| Prime location on university campus               | Negative reviews from younger demographic for lack of hip ingredients |\n",
    "\n",
    "Meanwhile there's money being left on the table (their opportunities) with calamities (their threats) waiting in the wings to possibly happen and may knock their pizza shop out cold.\n",
    "\n",
    "### 🔖 Opportunities and Threats\n",
    "\n",
    "| **Opportunities**                                 | **Threats**                                                  |\n",
    "| --- | ---|\n",
    "| Untapped catering potential                       | Rising competition from cheaper pizza businesses nearby |\n",
    "| Growing local tech startup community              | There's nearby street construction that will impact foot traffic |\n",
    "| Unexplored online presence and order capabilities | Rising cost of cheese                                        |\n",
    "| Upcoming annual food fair                         | No immediate local regulatory changes but it's election season |"
   ]
  },
  {
   "cell_type": "markdown",
   "metadata": {},
   "source": [
    "## 🤷 What does this have to do with LLMs and Semantic Kernel?\n",
    "\n",
    "It's no secret that one prompt isn't as good as chaining multiple prompts together. Let's do that in Semantic Kernel to illustrate this commonly used technical concept while also demonstrating how a business strategist might play with the building blocks of this new kind of AI by: 1/ reusing past work, and 2/ adapting it to a different audience. \n",
    "\n",
    "Let's begin with a simple prompt, and then show you how to add another. And note that we're expanding the number of context variables to use in the template with this example."
   ]
  },
  {
   "cell_type": "code",
   "execution_count": null,
   "metadata": {},
   "outputs": [],
   "source": [
    "import semantic_kernel as sk\n",
    "from semantic_kernel.connectors.ai.open_ai import AzureChatCompletion, OpenAIChatCompletion\n",
    "from IPython.display import display, Markdown\n",
    "\n",
    "kernel = sk.Kernel()\n",
    "\n",
    "useAzureOpenAI = False\n",
    "\n",
    "if useAzureOpenAI:\n",
    "    deployment, api_key, endpoint = sk.azure_openai_settings_from_dot_env()\n",
    "    kernel.add_text_completion_service(\"azureopenai\", AzureChatCompletion(deployment, endpoint, api_key))\n",
    "else:\n",
    "    api_key, org_id = sk.openai_settings_from_dot_env()\n",
    "    kernel.add_text_completion_service(\"openai\", OpenAIChatCompletion(\"gpt-3.5-turbo-0301\", api_key, org_id))\n",
    "\n",
    "swot_interview= \"\"\"\n",
    "1. **Strengths**\n",
    "    - What unique recipes or ingredients does the pizza shop use?\n",
    "    - What are the skills and experience of the staff?\n",
    "    - Does the pizza shop have a strong reputation in the local area?\n",
    "    - Are there any unique features of the shop or its location that attract customers?\n",
    "2. **Weaknesses**\n",
    "    - What are the operational challenges of the pizza shop? (e.g., slow service, high staff turnover)\n",
    "    - Are there financial constraints that limit growth or improvements?\n",
    "    - Are there any gaps in the product offering?\n",
    "    - Are there customer complaints or negative reviews that need to be addressed?\n",
    "3. **Opportunities**\n",
    "    - Is there potential for new products or services (e.g., catering, delivery)?\n",
    "    - Are there under-served customer segments or market areas?\n",
    "    - Can new technologies or systems enhance the business operations?\n",
    "    - Are there partnerships or local events that can be leveraged for marketing?\n",
    "4. **Threats**\n",
    "    - Who are the major competitors and what are they offering?\n",
    "    - Are there potential negative impacts due to changes in the local area (e.g., construction, closure of nearby businesses)?\n",
    "    - Are there economic or industry trends that could impact the business negatively (e.g., increased ingredient costs)?\n",
    "    - Is there any risk due to changes in regulations or legislation (e.g., health and safety, employment)?\"\"\"\n",
    "\n",
    "\n",
    "sk_prompt = \"\"\"\n",
    "{{$input}}\n",
    "\n",
    "Convert the analysis provided above to the business domain of {{$domain}}.\n",
    "\"\"\"\n",
    "shift_domain_function = kernel.create_semantic_function(prompt_template=sk_prompt,\n",
    "                                                    description=\"Translate an idea to another domain.\",\n",
    "                                                    max_tokens=1000,\n",
    "                                                    temperature=0.1,\n",
    "                                                    top_p=0.5)\n",
    "my_context = kernel.create_new_context()\n",
    "\n",
    "my_context['input'] = swot_interview\n",
    "my_context['domain'] = \"construction management\"\n",
    "\n",
    "result = await kernel.run_async(shift_domain_function, input_context=my_context)\n",
    "\n",
    "display(Markdown(f\"### ✨ Shift the SWOT interview questions to the world of {my_context['domain']}\\n\"+ str(result)))\n"
   ]
  },
  {
   "cell_type": "markdown",
   "metadata": {},
   "source": [
    "With another semantic function that will convert whatever it receives into the reading level of `level` the first result can get chained into the second result."
   ]
  },
  {
   "cell_type": "code",
   "execution_count": null,
   "metadata": {},
   "outputs": [],
   "source": [
    "sk_prompt = \"\"\"\n",
    "{{$input}}\n",
    "\n",
    "Rewrite the text above to be understood by a {{$level}}.\n",
    "\"\"\"\n",
    "shift_reading_level_function = kernel.create_semantic_function(prompt_template=sk_prompt,\n",
    "                                                    description=\"Change the reading level of a given text.\",\n",
    "                                                    max_tokens=1000,\n",
    "                                                    temperature=0.1,\n",
    "                                                    top_p=0.5)\n",
    "\n",
    "my_context['input'] = swot_interview\n",
    "my_context['domain'] = \"construction management\"\n",
    "my_context[\"level\"] = \"child\"\n",
    "\n",
    "result = await kernel.run_async(shift_domain_function, shift_reading_level_function, input_context=my_context)\n",
    "\n",
    "display(Markdown(f\"### ✨ Shift the SWOT interview questions to the world of {my_context['domain']} at the level of {my_context['level']}\\n\"+ str(result)))"
   ]
  },
  {
   "cell_type": "markdown",
   "metadata": {},
   "source": [
    "I think that covers enough to get us going for now. Are you ready?\n",
    "\n",
    "## 🍕 Let's get our mind back in the pizza shop owner's mindset\n",
    "\n",
    "We can choose to build on a few of the pizza shop owner's existing strengths to grow their business. This is generally the most prudent course of action because it's what's typically considered \"a good offensive maneuver\" — because after all, you're more likely to win where you're winning the most. \n",
    "\n",
    "| SAMPLE STRENGTH 1 | SAMPLE STRENGTH 2 |\n",
    "|---|---|\n",
    "| The best garlic pizza in the business | The store owner was trained in Sicily |\n",
    "| ![](assets/garlicpizza.png) | ![](assets/measuring.png) |\n",
    "\n",
    "We can also help make the business more efficient by addressing a few of their weaknesses. This is more of a defensive approach which plays well when a business has a working offense. Starting with one's strengths and then addressing a weakness tends to be a better tactic — but then again, sometimes a business' weakness can kill it so quickly that its strengths never get dialed up in time. Keep in mind that the circumstances are always fluid, and so being *agile* will always matter.\n",
    "\n",
    "| SAMPLE WEAKNESS 1 | SAMPLE WEAKNESS 2 |\n",
    "|---|---|\n",
    "| High turnover in under-skilled employees | Calzones are trending but not on the menu | \n",
    "| ![](assets/workersleaving.png) | ![](assets/calzones.png) |\n",
    "\n",
    "Lastly, with the right balance of leveraging strengths and addressing weaknesses, there may be room for the business to investigate opportunities to grow the business by reaching into new markets with product modifications and/or by launching entirely new products. And as the business attempts to take on more uncertainty and risk, it's prudent for the business to imagine and prepare for how to make itself more resilient. By being more resilient, it becomes possible to take on more risk to reap more rewards. In absence of designing itself for resilience, the business can take on too much risk and fold when an unexpected failure occurs.\n",
    "\n",
    "| SAMPLE OPPORTUNITY 1 | SAMPLE THREAT 1 |\n",
    "|---|---|\n",
    "| The spring neighborhood fair is coming | Cheese prices are skyrocketing in price |\n",
    "| ![](assets/townfair.png) | ![](assets/cheese.png) |"
   ]
  },
  {
   "cell_type": "markdown",
   "metadata": {},
   "source": [
    "Are you getting a good feel for the business of the pizza owner? And are you also feeling confident that you could easily shift into a different business vertical with the unusual cognitive elasticity afforded to you by LLMs? If not, change the interview responses or the industry vertical.\n",
    "\n",
    "## 🔖 Reminder: All ✨ generative responses result from having the model fill in the _____.\n",
    "\n",
    "![](assets/completion.png)"
   ]
  }
 ],
 "metadata": {
  "kernelspec": {
   "display_name": ".venv",
   "language": "python",
   "name": "python3"
  },
  "language_info": {
   "codemirror_mode": {
    "name": "ipython",
    "version": 3
   },
   "file_extension": ".py",
   "mimetype": "text/x-python",
   "name": "python",
   "nbconvert_exporter": "python",
   "pygments_lexer": "ipython3",
   "version": "3.9.6"
  },
  "orig_nbformat": 4
 },
 "nbformat": 4,
 "nbformat_minor": 2
}
