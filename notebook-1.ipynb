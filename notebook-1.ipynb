{
 "cells": [
  {
   "cell_type": "markdown",
   "metadata": {},
   "source": [
    "# 🧑‍🍳 Semantic Kernel is like\u000byour AI cooking kitchen\n",
    "\n",
    "First off you need to copy `env.example` to `.env` so that you can add your credentials. Be sure to always keep them safe. After you've done that, you can proceed to bringing the Semantic Kernel Python package over to your machine with the following command. This should stay persistent across you other workshop sessions, but if it doesn't then remember to re-do this within every notebook where you want to use Semantic Kernel."
   ]
  },
  {
   "cell_type": "code",
   "execution_count": 1,
   "metadata": {},
   "outputs": [
    {
     "name": "stdout",
     "output_type": "stream",
     "text": [
      "Requirement already satisfied: semantic-kernel==0.3.8.dev0 in ./.venv/lib/python3.9/site-packages (0.3.8.dev0)\n",
      "Requirement already satisfied: aiofiles<24.0.0,>=23.1.0 in ./.venv/lib/python3.9/site-packages (from semantic-kernel==0.3.8.dev0) (23.1.0)\n",
      "Requirement already satisfied: numpy<2.0.0,>=1.24.2 in ./.venv/lib/python3.9/site-packages (from semantic-kernel==0.3.8.dev0) (1.25.2)\n",
      "Requirement already satisfied: openai<0.28.0,>=0.27.0 in ./.venv/lib/python3.9/site-packages (from semantic-kernel==0.3.8.dev0) (0.27.8)\n",
      "Requirement already satisfied: openapi_core<0.19.0,>=0.18.0 in ./.venv/lib/python3.9/site-packages (from semantic-kernel==0.3.8.dev0) (0.18.0)\n",
      "Requirement already satisfied: prance<24.0.0.0,>=23.6.21.0 in ./.venv/lib/python3.9/site-packages (from semantic-kernel==0.3.8.dev0) (23.6.21.0)\n",
      "Requirement already satisfied: pydantic<2 in ./.venv/lib/python3.9/site-packages (from semantic-kernel==0.3.8.dev0) (1.10.12)\n",
      "Requirement already satisfied: python-dotenv==1.0.0 in ./.venv/lib/python3.9/site-packages (from semantic-kernel==0.3.8.dev0) (1.0.0)\n",
      "Requirement already satisfied: regex<2024.0.0,>=2023.6.3 in ./.venv/lib/python3.9/site-packages (from semantic-kernel==0.3.8.dev0) (2023.6.3)\n",
      "Requirement already satisfied: requests>=2.20 in ./.venv/lib/python3.9/site-packages (from openai<0.28.0,>=0.27.0->semantic-kernel==0.3.8.dev0) (2.31.0)\n",
      "Requirement already satisfied: tqdm in ./.venv/lib/python3.9/site-packages (from openai<0.28.0,>=0.27.0->semantic-kernel==0.3.8.dev0) (4.65.0)\n",
      "Requirement already satisfied: aiohttp in ./.venv/lib/python3.9/site-packages (from openai<0.28.0,>=0.27.0->semantic-kernel==0.3.8.dev0) (3.8.5)\n",
      "Requirement already satisfied: asgiref<4.0.0,>=3.6.0 in ./.venv/lib/python3.9/site-packages (from openapi_core<0.19.0,>=0.18.0->semantic-kernel==0.3.8.dev0) (3.7.2)\n",
      "Requirement already satisfied: isodate in ./.venv/lib/python3.9/site-packages (from openapi_core<0.19.0,>=0.18.0->semantic-kernel==0.3.8.dev0) (0.6.1)\n",
      "Requirement already satisfied: jsonschema<5.0.0,>=4.18.0 in ./.venv/lib/python3.9/site-packages (from openapi_core<0.19.0,>=0.18.0->semantic-kernel==0.3.8.dev0) (4.19.0)\n",
      "Requirement already satisfied: jsonschema-spec<0.3.0,>=0.2.3 in ./.venv/lib/python3.9/site-packages (from openapi_core<0.19.0,>=0.18.0->semantic-kernel==0.3.8.dev0) (0.2.3)\n",
      "Requirement already satisfied: more-itertools in ./.venv/lib/python3.9/site-packages (from openapi_core<0.19.0,>=0.18.0->semantic-kernel==0.3.8.dev0) (10.1.0)\n",
      "Requirement already satisfied: openapi-schema-validator<0.7.0,>=0.6.0 in ./.venv/lib/python3.9/site-packages (from openapi_core<0.19.0,>=0.18.0->semantic-kernel==0.3.8.dev0) (0.6.0)\n",
      "Requirement already satisfied: openapi-spec-validator<0.7.0,>=0.6.0 in ./.venv/lib/python3.9/site-packages (from openapi_core<0.19.0,>=0.18.0->semantic-kernel==0.3.8.dev0) (0.6.0)\n",
      "Requirement already satisfied: parse in ./.venv/lib/python3.9/site-packages (from openapi_core<0.19.0,>=0.18.0->semantic-kernel==0.3.8.dev0) (1.19.1)\n",
      "Requirement already satisfied: werkzeug in ./.venv/lib/python3.9/site-packages (from openapi_core<0.19.0,>=0.18.0->semantic-kernel==0.3.8.dev0) (2.3.6)\n",
      "Requirement already satisfied: chardet>=3.0 in ./.venv/lib/python3.9/site-packages (from prance<24.0.0.0,>=23.6.21.0->semantic-kernel==0.3.8.dev0) (5.2.0)\n",
      "Requirement already satisfied: ruamel.yaml>=0.17.10 in ./.venv/lib/python3.9/site-packages (from prance<24.0.0.0,>=23.6.21.0->semantic-kernel==0.3.8.dev0) (0.17.32)\n",
      "Requirement already satisfied: six~=1.15 in ./.venv/lib/python3.9/site-packages (from prance<24.0.0.0,>=23.6.21.0->semantic-kernel==0.3.8.dev0) (1.16.0)\n",
      "Requirement already satisfied: packaging>=21.3 in ./.venv/lib/python3.9/site-packages (from prance<24.0.0.0,>=23.6.21.0->semantic-kernel==0.3.8.dev0) (23.1)\n",
      "Requirement already satisfied: typing-extensions>=4.2.0 in ./.venv/lib/python3.9/site-packages (from pydantic<2->semantic-kernel==0.3.8.dev0) (4.7.1)\n",
      "Requirement already satisfied: attrs>=22.2.0 in ./.venv/lib/python3.9/site-packages (from jsonschema<5.0.0,>=4.18.0->openapi_core<0.19.0,>=0.18.0->semantic-kernel==0.3.8.dev0) (23.1.0)\n",
      "Requirement already satisfied: jsonschema-specifications>=2023.03.6 in ./.venv/lib/python3.9/site-packages (from jsonschema<5.0.0,>=4.18.0->openapi_core<0.19.0,>=0.18.0->semantic-kernel==0.3.8.dev0) (2023.7.1)\n",
      "Requirement already satisfied: referencing>=0.28.4 in ./.venv/lib/python3.9/site-packages (from jsonschema<5.0.0,>=4.18.0->openapi_core<0.19.0,>=0.18.0->semantic-kernel==0.3.8.dev0) (0.29.3)\n",
      "Requirement already satisfied: rpds-py>=0.7.1 in ./.venv/lib/python3.9/site-packages (from jsonschema<5.0.0,>=4.18.0->openapi_core<0.19.0,>=0.18.0->semantic-kernel==0.3.8.dev0) (0.9.2)\n",
      "Requirement already satisfied: PyYAML>=5.1 in ./.venv/lib/python3.9/site-packages (from jsonschema-spec<0.3.0,>=0.2.3->openapi_core<0.19.0,>=0.18.0->semantic-kernel==0.3.8.dev0) (6.0.1)\n",
      "Requirement already satisfied: pathable<0.5.0,>=0.4.1 in ./.venv/lib/python3.9/site-packages (from jsonschema-spec<0.3.0,>=0.2.3->openapi_core<0.19.0,>=0.18.0->semantic-kernel==0.3.8.dev0) (0.4.3)\n",
      "Requirement already satisfied: rfc3339-validator in ./.venv/lib/python3.9/site-packages (from openapi-schema-validator<0.7.0,>=0.6.0->openapi_core<0.19.0,>=0.18.0->semantic-kernel==0.3.8.dev0) (0.1.4)\n",
      "Requirement already satisfied: lazy-object-proxy<2.0.0,>=1.7.1 in ./.venv/lib/python3.9/site-packages (from openapi-spec-validator<0.7.0,>=0.6.0->openapi_core<0.19.0,>=0.18.0->semantic-kernel==0.3.8.dev0) (1.9.0)\n",
      "Requirement already satisfied: charset-normalizer<4,>=2 in ./.venv/lib/python3.9/site-packages (from requests>=2.20->openai<0.28.0,>=0.27.0->semantic-kernel==0.3.8.dev0) (3.2.0)\n",
      "Requirement already satisfied: idna<4,>=2.5 in ./.venv/lib/python3.9/site-packages (from requests>=2.20->openai<0.28.0,>=0.27.0->semantic-kernel==0.3.8.dev0) (3.4)\n",
      "Requirement already satisfied: urllib3<3,>=1.21.1 in ./.venv/lib/python3.9/site-packages (from requests>=2.20->openai<0.28.0,>=0.27.0->semantic-kernel==0.3.8.dev0) (2.0.4)\n",
      "Requirement already satisfied: certifi>=2017.4.17 in ./.venv/lib/python3.9/site-packages (from requests>=2.20->openai<0.28.0,>=0.27.0->semantic-kernel==0.3.8.dev0) (2023.7.22)\n",
      "Requirement already satisfied: ruamel.yaml.clib>=0.2.7 in ./.venv/lib/python3.9/site-packages (from ruamel.yaml>=0.17.10->prance<24.0.0.0,>=23.6.21.0->semantic-kernel==0.3.8.dev0) (0.2.7)\n",
      "Requirement already satisfied: multidict<7.0,>=4.5 in ./.venv/lib/python3.9/site-packages (from aiohttp->openai<0.28.0,>=0.27.0->semantic-kernel==0.3.8.dev0) (6.0.4)\n",
      "Requirement already satisfied: async-timeout<5.0,>=4.0.0a3 in ./.venv/lib/python3.9/site-packages (from aiohttp->openai<0.28.0,>=0.27.0->semantic-kernel==0.3.8.dev0) (4.0.2)\n",
      "Requirement already satisfied: yarl<2.0,>=1.0 in ./.venv/lib/python3.9/site-packages (from aiohttp->openai<0.28.0,>=0.27.0->semantic-kernel==0.3.8.dev0) (1.9.2)\n",
      "Requirement already satisfied: frozenlist>=1.1.1 in ./.venv/lib/python3.9/site-packages (from aiohttp->openai<0.28.0,>=0.27.0->semantic-kernel==0.3.8.dev0) (1.4.0)\n",
      "Requirement already satisfied: aiosignal>=1.1.2 in ./.venv/lib/python3.9/site-packages (from aiohttp->openai<0.28.0,>=0.27.0->semantic-kernel==0.3.8.dev0) (1.3.1)\n",
      "Requirement already satisfied: MarkupSafe>=2.1.1 in ./.venv/lib/python3.9/site-packages (from werkzeug->openapi_core<0.19.0,>=0.18.0->semantic-kernel==0.3.8.dev0) (2.1.3)\n",
      "Requirement already satisfied: chromadb in ./.venv/lib/python3.9/site-packages (0.4.5)\n",
      "Requirement already satisfied: requests>=2.28 in ./.venv/lib/python3.9/site-packages (from chromadb) (2.31.0)\n",
      "Requirement already satisfied: pydantic<2.0,>=1.9 in ./.venv/lib/python3.9/site-packages (from chromadb) (1.10.12)\n",
      "Requirement already satisfied: chroma-hnswlib==0.7.2 in ./.venv/lib/python3.9/site-packages (from chromadb) (0.7.2)\n",
      "Requirement already satisfied: fastapi<0.100.0,>=0.95.2 in ./.venv/lib/python3.9/site-packages (from chromadb) (0.99.1)\n",
      "Requirement already satisfied: uvicorn[standard]>=0.18.3 in ./.venv/lib/python3.9/site-packages (from chromadb) (0.23.2)\n",
      "Requirement already satisfied: numpy>=1.21.6 in ./.venv/lib/python3.9/site-packages (from chromadb) (1.25.2)\n",
      "Requirement already satisfied: posthog>=2.4.0 in ./.venv/lib/python3.9/site-packages (from chromadb) (3.0.1)\n",
      "Requirement already satisfied: typing-extensions>=4.5.0 in ./.venv/lib/python3.9/site-packages (from chromadb) (4.7.1)\n",
      "Requirement already satisfied: pulsar-client>=3.1.0 in ./.venv/lib/python3.9/site-packages (from chromadb) (3.2.0)\n",
      "Requirement already satisfied: onnxruntime>=1.14.1 in ./.venv/lib/python3.9/site-packages (from chromadb) (1.15.1)\n",
      "Requirement already satisfied: tokenizers>=0.13.2 in ./.venv/lib/python3.9/site-packages (from chromadb) (0.13.3)\n",
      "Requirement already satisfied: pypika>=0.48.9 in ./.venv/lib/python3.9/site-packages (from chromadb) (0.48.9)\n",
      "Requirement already satisfied: tqdm>=4.65.0 in ./.venv/lib/python3.9/site-packages (from chromadb) (4.65.0)\n",
      "Requirement already satisfied: overrides>=7.3.1 in ./.venv/lib/python3.9/site-packages (from chromadb) (7.4.0)\n",
      "Requirement already satisfied: importlib-resources in ./.venv/lib/python3.9/site-packages (from chromadb) (6.0.1)\n",
      "Requirement already satisfied: starlette<0.28.0,>=0.27.0 in ./.venv/lib/python3.9/site-packages (from fastapi<0.100.0,>=0.95.2->chromadb) (0.27.0)\n",
      "Requirement already satisfied: coloredlogs in ./.venv/lib/python3.9/site-packages (from onnxruntime>=1.14.1->chromadb) (15.0.1)\n",
      "Requirement already satisfied: flatbuffers in ./.venv/lib/python3.9/site-packages (from onnxruntime>=1.14.1->chromadb) (23.5.26)\n",
      "Requirement already satisfied: packaging in ./.venv/lib/python3.9/site-packages (from onnxruntime>=1.14.1->chromadb) (23.1)\n",
      "Requirement already satisfied: protobuf in ./.venv/lib/python3.9/site-packages (from onnxruntime>=1.14.1->chromadb) (4.24.0)\n",
      "Requirement already satisfied: sympy in ./.venv/lib/python3.9/site-packages (from onnxruntime>=1.14.1->chromadb) (1.12)\n",
      "Requirement already satisfied: six>=1.5 in ./.venv/lib/python3.9/site-packages (from posthog>=2.4.0->chromadb) (1.16.0)\n",
      "Requirement already satisfied: monotonic>=1.5 in ./.venv/lib/python3.9/site-packages (from posthog>=2.4.0->chromadb) (1.6)\n",
      "Requirement already satisfied: backoff>=1.10.0 in ./.venv/lib/python3.9/site-packages (from posthog>=2.4.0->chromadb) (2.2.1)\n",
      "Requirement already satisfied: python-dateutil>2.1 in ./.venv/lib/python3.9/site-packages (from posthog>=2.4.0->chromadb) (2.8.2)\n",
      "Requirement already satisfied: certifi in ./.venv/lib/python3.9/site-packages (from pulsar-client>=3.1.0->chromadb) (2023.7.22)\n",
      "Requirement already satisfied: charset-normalizer<4,>=2 in ./.venv/lib/python3.9/site-packages (from requests>=2.28->chromadb) (3.2.0)\n",
      "Requirement already satisfied: idna<4,>=2.5 in ./.venv/lib/python3.9/site-packages (from requests>=2.28->chromadb) (3.4)\n",
      "Requirement already satisfied: urllib3<3,>=1.21.1 in ./.venv/lib/python3.9/site-packages (from requests>=2.28->chromadb) (2.0.4)\n",
      "Requirement already satisfied: click>=7.0 in ./.venv/lib/python3.9/site-packages (from uvicorn[standard]>=0.18.3->chromadb) (8.1.6)\n",
      "Requirement already satisfied: h11>=0.8 in ./.venv/lib/python3.9/site-packages (from uvicorn[standard]>=0.18.3->chromadb) (0.14.0)\n",
      "Requirement already satisfied: httptools>=0.5.0 in ./.venv/lib/python3.9/site-packages (from uvicorn[standard]>=0.18.3->chromadb) (0.6.0)\n",
      "Requirement already satisfied: python-dotenv>=0.13 in ./.venv/lib/python3.9/site-packages (from uvicorn[standard]>=0.18.3->chromadb) (1.0.0)\n",
      "Requirement already satisfied: pyyaml>=5.1 in ./.venv/lib/python3.9/site-packages (from uvicorn[standard]>=0.18.3->chromadb) (6.0.1)\n",
      "Requirement already satisfied: uvloop!=0.15.0,!=0.15.1,>=0.14.0 in ./.venv/lib/python3.9/site-packages (from uvicorn[standard]>=0.18.3->chromadb) (0.17.0)\n",
      "Requirement already satisfied: watchfiles>=0.13 in ./.venv/lib/python3.9/site-packages (from uvicorn[standard]>=0.18.3->chromadb) (0.19.0)\n",
      "Requirement already satisfied: websockets>=10.4 in ./.venv/lib/python3.9/site-packages (from uvicorn[standard]>=0.18.3->chromadb) (11.0.3)\n",
      "Requirement already satisfied: zipp>=3.1.0 in ./.venv/lib/python3.9/site-packages (from importlib-resources->chromadb) (3.16.2)\n",
      "Requirement already satisfied: anyio<5,>=3.4.0 in ./.venv/lib/python3.9/site-packages (from starlette<0.28.0,>=0.27.0->fastapi<0.100.0,>=0.95.2->chromadb) (3.7.1)\n",
      "Requirement already satisfied: humanfriendly>=9.1 in ./.venv/lib/python3.9/site-packages (from coloredlogs->onnxruntime>=1.14.1->chromadb) (10.0)\n",
      "Requirement already satisfied: mpmath>=0.19 in ./.venv/lib/python3.9/site-packages (from sympy->onnxruntime>=1.14.1->chromadb) (1.3.0)\n",
      "Requirement already satisfied: sniffio>=1.1 in ./.venv/lib/python3.9/site-packages (from anyio<5,>=3.4.0->starlette<0.28.0,>=0.27.0->fastapi<0.100.0,>=0.95.2->chromadb) (1.3.0)\n",
      "Requirement already satisfied: exceptiongroup in ./.venv/lib/python3.9/site-packages (from anyio<5,>=3.4.0->starlette<0.28.0,>=0.27.0->fastapi<0.100.0,>=0.95.2->chromadb) (1.1.2)\n"
     ]
    }
   ],
   "source": [
    "!python -m pip install semantic-kernel==0.3.10.dev0\n",
    "!python -m pip install chromadb"
   ]
  },
  {
   "cell_type": "markdown",
   "metadata": {},
   "source": [
    "Did that work out okay? Great! Now, assuming that you added the key information to your `.env` file, the following should verify that you're ready to go."
   ]
  },
  {
   "cell_type": "markdown",
   "metadata": {},
   "source": [
    "## 🔥 Get a kernel ready\n",
    "\n",
    "Semantic Kernel requires a \"kernel\" object to process requests that are packaged as functions. There are either \"native\" functions written in regular computer code, or else there are \"semantic\" functions that are written as templated prompts. You fire up a kernel with a specific preference of model as usually an OpenAI or Azure OpenAI model, but Hugging Face models are also available to use."
   ]
  },
  {
   "cell_type": "code",
   "execution_count": 2,
   "metadata": {},
   "outputs": [
    {
     "name": "stderr",
     "output_type": "stream",
     "text": [
      "/Users/johnmaeda/Documents/GitHub/pizzashop-and-ai/.venv/lib/python3.9/site-packages/urllib3/__init__.py:34: NotOpenSSLWarning: urllib3 v2.0 only supports OpenSSL 1.1.1+, currently the 'ssl' module is compiled with 'LibreSSL 2.8.3'. See: https://github.com/urllib3/urllib3/issues/3020\n",
      "  warnings.warn(\n"
     ]
    }
   ],
   "source": [
    "import semantic_kernel as sk\n",
    "from semantic_kernel.connectors.ai.open_ai import AzureChatCompletion, OpenAIChatCompletion\n",
    "\n",
    "kernel = sk.Kernel()\n",
    "\n",
    "useAzureOpenAI = False\n",
    "\n",
    "if useAzureOpenAI:\n",
    "    deployment, api_key, endpoint = sk.azure_openai_settings_from_dot_env()\n",
    "    kernel.add_text_completion_service(\"azureopenai\", AzureChatCompletion(deployment, endpoint, api_key))\n",
    "else:\n",
    "    api_key, org_id = sk.openai_settings_from_dot_env()\n",
    "    kernel.add_text_completion_service(\"openai\", OpenAIChatCompletion(\"gpt-3.5-turbo-0301\", api_key, org_id))"
   ]
  },
  {
   "cell_type": "markdown",
   "metadata": {},
   "source": [
    "In the event you want to use an open-source Hugging Face model, it would look like the following — which will require installation of related packages and a bit of time for the models to download and get stored locally."
   ]
  },
  {
   "cell_type": "code",
   "execution_count": null,
   "metadata": {},
   "outputs": [],
   "source": [
    "import semantic_kernel as sk\n",
    "from semantic_kernel.connectors.ai.hugging_face import HuggingFaceTextCompletion\n",
    "\n",
    "kernel = sk.Kernel()\n",
    "\n",
    "kernel.add_text_completion_service(\"huggingface\", HuggingFaceTextCompletion(\"gpt2\", task=\"text-generation\"))"
   ]
  },
  {
   "cell_type": "markdown",
   "metadata": {},
   "source": [
    "## 🔖 Reminder: A kernel is like the stove in a kitchen. It doesn't do anything unless you start to cook with it. Let's proceed to get it a few functions to 🔥 cook up for us."
   ]
  }
 ],
 "metadata": {
  "kernelspec": {
   "display_name": ".venv",
   "language": "python",
   "name": "python3"
  },
  "language_info": {
   "codemirror_mode": {
    "name": "ipython",
    "version": 3
   },
   "file_extension": ".py",
   "mimetype": "text/x-python",
   "name": "python",
   "nbconvert_exporter": "python",
   "pygments_lexer": "ipython3",
   "version": "3.9.6"
  },
  "orig_nbformat": 4
 },
 "nbformat": 4,
 "nbformat_minor": 2
}
