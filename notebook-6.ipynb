{
 "cells": [
  {
   "cell_type": "markdown",
   "metadata": {},
   "source": [
    "# 🧑‍🍳 A kitchen that responds to your “I’m hungry” is more than feasible"
   ]
  },
  {
   "cell_type": "markdown",
   "metadata": {},
   "source": [
    "# 🔥 Get a kernel ready"
   ]
  },
  {
   "cell_type": "markdown",
   "metadata": {},
   "source": [
    "This is second nature to you now."
   ]
  },
  {
   "cell_type": "code",
   "execution_count": 4,
   "metadata": {},
   "outputs": [],
   "source": [
    "import semantic_kernel as sk\n",
    "from semantic_kernel.connectors.ai.open_ai import OpenAIChatCompletion, OpenAITextEmbedding\n",
    "from semantic_kernel.connectors.ai.open_ai import AzureChatCompletion, AzureTextEmbedding\n",
    "from IPython.display import display, Markdown\n",
    "\n",
    "kernel = sk.Kernel()\n",
    "\n",
    "useAzureOpenAI = False\n",
    "\n",
    "if useAzureOpenAI:\n",
    "    deployment, api_key, endpoint = sk.azure_openai_settings_from_dot_env()\n",
    "    kernel.add_text_completion_service(\"azureopenaicompletion\", AzureChatCompletion(deployment, endpoint, api_key))\n",
    "    kernel.add_text_embedding_generation_service(\"azureopenaiembedding\", AzureTextEmbedding(\"text-embedding-ada-002\", api_key, endpoint))\n",
    "else:\n",
    "    api_key, org_id = sk.openai_settings_from_dot_env()\n",
    "    kernel.add_text_completion_service(\"openaicompletion\", OpenAIChatCompletion(\"gpt-3.5-turbo-0301\", api_key, org_id))\n",
    "    kernel.add_text_embedding_generation_service(\"openaiembedding\", OpenAITextEmbedding(\"text-embedding-ada-002\", api_key, org_id))"
   ]
  },
  {
   "cell_type": "markdown",
   "metadata": {},
   "source": [
    "## 🦄 Find the right function for me, and then use it"
   ]
  },
  {
   "cell_type": "markdown",
   "metadata": {},
   "source": [
    "We're going to be doing two things:\n",
    "\n",
    "1. Let the `ActionPlanner` know what skills are available to it.\n",
    "2. Give it a goal formed as an `ask`.\n",
    "3. Have it find the most similar function that can get the job done.\n",
    "4. Make it so."
   ]
  },
  {
   "cell_type": "code",
   "execution_count": 5,
   "metadata": {},
   "outputs": [
    {
     "name": "stdout",
     "output_type": "stream",
     "text": [
      "🧲 Finding the most similar function available to get that done...\n",
      "🧲 The best single function to use is `math.Add`\n"
     ]
    },
    {
     "data": {
      "text/markdown": [
       "## ✨ For the ask 'What is the sum of 110 and 990?'"
      ],
      "text/plain": [
       "<IPython.core.display.Markdown object>"
      ]
     },
     "metadata": {},
     "output_type": "display_data"
    },
    {
     "name": "stdout",
     "output_type": "stream",
     "text": [
      "✨ The generated result is: 1100\n"
     ]
    }
   ],
   "source": [
    "from semantic_kernel.planning import ActionPlanner\n",
    "\n",
    "planner = ActionPlanner(kernel)\n",
    "\n",
    "from semantic_kernel.core_skills import FileIOSkill, MathSkill, TextSkill, TimeSkill\n",
    "kernel.import_skill(MathSkill(), \"math\")\n",
    "kernel.import_skill(FileIOSkill(), \"fileIO\")\n",
    "kernel.import_skill(TimeSkill(), \"time\")\n",
    "kernel.import_skill(TextSkill(), \"text\")\n",
    "\n",
    "ask = \"What is the sum of 110 and 990?\"\n",
    "\n",
    "print(f\"🧲 Finding the most similar function available to get that done...\")\n",
    "plan = await planner.create_plan_async(goal=ask)\n",
    "print(f\"🧲 The best single function to use is `{plan._skill_name}.{plan._function.name}`\")\n",
    "\n",
    "result = await plan.invoke_async()\n",
    "display(Markdown(f\"## ✨ For the ask '{ask}'\"))\n",
    "print(f\"✨ The generated result is: {result}\")"
   ]
  },
  {
   "cell_type": "markdown",
   "metadata": {},
   "source": [
    "Note that the `ActionPlanner` isn't much of a planner — it's more of an automatic function selector. If you want to imagine a plan as a sequence of steps, and at each step using a different automatically selected function, let's keep going."
   ]
  },
  {
   "cell_type": "markdown",
   "metadata": {},
   "source": [
    "## 🦄 Generate a multi-step plan and execute it\n",
    "\n",
    "Let's show you the `SequentialPlanner` which generates a plan more like you expect. As of August 2023 our most advanced C#-based `StepwisePlanner` is not available in our Python package, but it soon will be. How's it different? Well, it's a lot more sophisticated — and more importantly, it is more clever at giving you what you have `ask`-ed for :+).\n",
    "\n",
    "You can trace the steps of the `SequentialPlanner` by setting `trace_resultsp` to `True`."
   ]
  },
  {
   "cell_type": "code",
   "execution_count": 13,
   "metadata": {},
   "outputs": [
    {
     "name": "stdout",
     "output_type": "stream",
     "text": [
      "✅ Step 1 used function `ShortPoem`\n",
      "✅ Step 2 used function `Translate`\n"
     ]
    },
    {
     "data": {
      "text/markdown": [
       "## ✨ Generated result from the ask: \n",
       "Tomorrow is Valentine's day. I need to come up with a poem. Translate the poem to French.\n",
       "\n",
       "---\n",
       "Les roses sont rouges, les violettes sont bleues,\n",
       "La Saint-Valentin est là, que feras-tu ?\n",
       "Achèteras-tu des chocolats et des fleurs, ou écriras-tu une lettre d'amour,\n",
       "N'oublie pas de tout rendre meilleur.\n",
       "\n",
       "Si tu es célibataire, ne t'inquiète pas,\n",
       "Fais-toi plaisir, à toi-même."
      ],
      "text/plain": [
       "<IPython.core.display.Markdown object>"
      ]
     },
     "metadata": {},
     "output_type": "display_data"
    }
   ],
   "source": [
    "import time\n",
    "\n",
    "# For ensuring that a function gets retried a few times before giving up\n",
    "async def retry(func, retries=3):\n",
    "    delay = 5\n",
    "    for i in range(retries):\n",
    "        try:\n",
    "            result = await func()\n",
    "            return result\n",
    "        except Exception:\n",
    "            if i == retries - 1:  # Last retry\n",
    "                raise\n",
    "            time.sleep(delay)\n",
    "\n",
    "from semantic_kernel.planning import SequentialPlanner\n",
    "from semantic_kernel.core_skills.text_skill import TextSkill\n",
    "\n",
    "plugins_directory = \"./plugins-sk\"\n",
    "writer_skill = kernel.import_semantic_skill_from_directory(plugins_directory, \"LiterateFriend\")\n",
    "\n",
    "# create an instance of sequential planner.\n",
    "planner = SequentialPlanner(kernel)\n",
    "\n",
    "# the ask for which the sequential planner is going to find a relevant function.\n",
    "ask = \"\"\"\n",
    "Tomorrow is Valentine's day. I need to come up with a poem. Translate the poem to French.\"\"\"\n",
    "\n",
    "# ask the sequential planner to identify a suitable function from the list of functions available.\n",
    "plan = await retry(lambda: planner.create_plan_async(goal=ask))\n",
    "\n",
    "# ask the sequential planner to execute the identified function.\n",
    "result = await plan.invoke_async()\n",
    "\n",
    "for index, step in enumerate(plan._steps):\n",
    "    print(f\"✅ Step {index+1} used function `{step._function.name}`\")\n",
    "\n",
    "trace_resultp = False\n",
    "\n",
    "if trace_resultp:\n",
    "    print(\"Longform trace:\\n\")\n",
    "    for index, step in enumerate(plan._steps):\n",
    "        print(\"Step:\", index)\n",
    "        print(\"Description:\",step.description)\n",
    "        print(\"Function:\", step.skill_name + \".\" + step._function.name)\n",
    "        print(\"Input vars:\", step._parameters._variables)\n",
    "        print(\"Output vars:\", step._outputs)\n",
    "        if len(step._outputs) > 0:\n",
    "            print( \"  Output:\\n\", str.replace(result[step._outputs[0]],\"\\n\", \"\\n  \"))\n",
    "\n",
    "display(Markdown(f\"## ✨ Generated result from the ask: {ask}\\n\\n---\\n\" + str(result)))"
   ]
  },
  {
   "cell_type": "markdown",
   "metadata": {},
   "source": [
    "In the event that the above example fails for you, it could be for one of two reasons:\n",
    "\n",
    "1. There's been a hallucination in sourcing imagined functions\n",
    "2. There's been an inconsistent XML output from the planner"
   ]
  },
  {
   "cell_type": "markdown",
   "metadata": {},
   "source": [
    "## 🦄 Generate a plan in realtime with StepwisePlanner\n",
    "\n",
    "`SequentialPlanner` was built with more advanced models in mind like GPT4. The `StepwisePlanner` works with models that are less advanced but uses more tokens to get to an outcome. In case the example above didn't work for you, try this one!"
   ]
  },
  {
   "cell_type": "code",
   "execution_count": 17,
   "metadata": {},
   "outputs": [
    {
     "name": "stdout",
     "output_type": "stream",
     "text": [
      "✅ Scratchpad: (True, 'This was my previous work (but they haven\\'t seen any of it! They only see what I return as final answer):\\n[THOUGHT]\\nFirst, we need to come up with a short poem for Valentine\\'s day. We can use the LiterateFriend.ShortPoem function for this. Then, we need to translate the poem to French using the LiterateFriend.Translate function.\\n[ACTION]\\n{\"action\": \"LiterateFriend.ShortPoem\", \"action_variables\": {\"topic\": \"Valentine\\'s day\"}}\\n[OBSERVATION]\\nRoses are red, violets are blue,\\nValentine\\'s Day is here, what will you do?\\nBuy chocolates and flowers, or write a love letter,\\nJust don\\'t forget, to make it all better.\\n\\nIf you\\'re single, don\\'t you fret,\\nTreat yourself, to\\n[THOUGHT]\\nsomething you won\\'t regret.\\nLove yourself, and be your own Valentine,\\nYou deserve it, all the time.\\n\\nNow, let\\'s translate this poem to French using the LiterateFriend.Translate function.\\n[THOUGHT]\\n[ACTION]\\n{\"action\": \"LiterateFriend.Translate\", \"action_variables\": {\"input\": \"Roses are red, violets are blue,\\\\nValentine\\'s Day is here, what will you do?\\\\nBuy chocolates and flowers, or write a love letter,\\\\nJust don\\'t forget, to make it all better.\\\\n\\\\nIf you\\'re single, don\\'t you fret,\\\\nTreat yourself, to something you won\\'t regret.\\\\nLove yourself, and be your own Valentine,\\\\nYou deserve it, all the time.\", \"language\": \"French\"}}\\n[ACTION]\\n{\"action\": \"LiterateFriend.Translate\", \"action_variables\": {\"input\": \"Roses are red, violets are blue,\\\\nValentine\\'s Day is here, what will you do?\\\\nBuy chocolates and flowers, or write a love letter,\\\\nJust don\\'t forget, to make it all better.\\\\n\\\\nIf you\\'re single, don\\'t you fret,\\\\nTreat yourself, to something you won\\'t regret.\\\\nLove yourself, and be your own Valentine,\\\\nYou deserve it, all the time.\", \"language\": \"French\"}}\\n[OBSERVATION]\\nLes roses sont rouges, les violettes sont bleues,\\nLa Saint-Valentin est là, que feras-tu ?\\nAchèteras-tu des chocolats et des fleurs, ou écriras-tu une lettre d\\'amour,\\nN\\'oublie pas, juste pour rendre tout meilleur.\\n\\nSi tu es célibataire, ne t\\'inquiète pas,\\nFais-toi plaisir avec quelque chose que tu ne regretteras pas.\\nAime-toi toi-même, et sois ton propre Valentin,\\nTu le mérites, tout le temps.\\n[THOUGHT]\\nNone')\n",
      "✅ Thinking out loud: (True, '[\\n    {\\n        \"thought\": \"First, we need to come up with a short poem for Valentine\\'s day. We can use the LiterateFriend.ShortPoem function for this. Then, we need to translate the poem to French using the LiterateFriend.Translate function.\",\\n        \"action\": \"LiterateFriend.ShortPoem\",\\n        \"action_variables\": {\\n            \"topic\": \"Valentine\\'s day\"\\n        },\\n        \"observation\": \"Roses are red, violets are blue,\\\\nValentine\\'s Day is here, what will you do?\\\\nBuy chocolates and flowers, or write a love letter,\\\\nJust don\\'t forget, to make it all better.\\\\n\\\\nIf you\\'re single, don\\'t you fret,\\\\nTreat yourself, to\",\\n        \"final_answer\": null,\\n        \"original_response\": \"[THOUGHT]\\\\nFirst, we need to come up with a short poem for Valentine\\'s day. We can use the LiterateFriend.ShortPoem function for this. Then, we need to translate the poem to French using the LiterateFriend.Translate function.\\\\n\\\\n[ACTION]\\\\n{\\\\n  \\\\\"action\\\\\": \\\\\"LiterateFriend.ShortPoem\\\\\",\\\\n  \\\\\"action_variables\\\\\": {\\\\\"topic\\\\\": \\\\\"Valentine\\'s day\\\\\"}\\\\n}\"\\n    },\\n    {\\n        \"thought\": \"something you won\\'t regret.\\\\nLove yourself, and be your own Valentine,\\\\nYou deserve it, all the time.\\\\n\\\\nNow, let\\'s translate this poem to French using the LiterateFriend.Translate function.\",\\n        \"action\": null,\\n        \"action_variables\": {},\\n        \"observation\": null,\\n        \"final_answer\": null,\\n        \"original_response\": \"something you won\\'t regret.\\\\nLove yourself, and be your own Valentine,\\\\nYou deserve it, all the time.\\\\n\\\\nNow, let\\'s translate this poem to French using the LiterateFriend.Translate function.\"\\n    },\\n    {\\n        \"thought\": \"[ACTION]\\\\n{\\\\\"action\\\\\": \\\\\"LiterateFriend.Translate\\\\\", \\\\\"action_variables\\\\\": {\\\\\"input\\\\\": \\\\\"Roses are red, violets are blue,\\\\\\\\nValentine\\'s Day is here, what will you do?\\\\\\\\nBuy chocolates and flowers, or write a love letter,\\\\\\\\nJust don\\'t forget, to make it all better.\\\\\\\\n\\\\\\\\nIf you\\'re single, don\\'t you fret,\\\\\\\\nTreat yourself, to something you won\\'t regret.\\\\\\\\nLove yourself, and be your own Valentine,\\\\\\\\nYou deserve it, all the time.\\\\\", \\\\\"language\\\\\": \\\\\"French\\\\\"}}\",\\n        \"action\": \"LiterateFriend.Translate\",\\n        \"action_variables\": {\\n            \"input\": \"Roses are red, violets are blue,\\\\nValentine\\'s Day is here, what will you do?\\\\nBuy chocolates and flowers, or write a love letter,\\\\nJust don\\'t forget, to make it all better.\\\\n\\\\nIf you\\'re single, don\\'t you fret,\\\\nTreat yourself, to something you won\\'t regret.\\\\nLove yourself, and be your own Valentine,\\\\nYou deserve it, all the time.\",\\n            \"language\": \"French\"\\n        },\\n        \"observation\": \"Les roses sont rouges, les violettes sont bleues,\\\\nLa Saint-Valentin est l\\\\u00e0, que feras-tu ?\\\\nAch\\\\u00e8teras-tu des chocolats et des fleurs, ou \\\\u00e9criras-tu une lettre d\\'amour,\\\\nN\\'oublie pas, juste pour rendre tout meilleur.\\\\n\\\\nSi tu es c\\\\u00e9libataire, ne t\\'inqui\\\\u00e8te pas,\\\\nFais-toi plaisir avec quelque chose que tu ne regretteras pas.\\\\nAime-toi toi-m\\\\u00eame, et sois ton propre Valentin,\\\\nTu le m\\\\u00e9rites, tout le temps.\",\\n        \"final_answer\": null,\\n        \"original_response\": \"[ACTION]\\\\n{\\\\\"action\\\\\": \\\\\"LiterateFriend.Translate\\\\\", \\\\\"action_variables\\\\\": {\\\\\"input\\\\\": \\\\\"Roses are red, violets are blue,\\\\\\\\nValentine\\'s Day is here, what will you do?\\\\\\\\nBuy chocolates and flowers, or write a love letter,\\\\\\\\nJust don\\'t forget, to make it all better.\\\\\\\\n\\\\\\\\nIf you\\'re single, don\\'t you fret,\\\\\\\\nTreat yourself, to something you won\\'t regret.\\\\\\\\nLove yourself, and be your own Valentine,\\\\\\\\nYou deserve it, all the time.\\\\\", \\\\\"language\\\\\": \\\\\"French\\\\\"}}\"\\n    },\\n    {\\n        \"thought\": null,\\n        \"action\": null,\\n        \"action_variables\": {},\\n        \"observation\": null,\\n        \"final_answer\": \"The short poem for Valentine\\'s day is:\\\\n\\\\nRoses are red, violets are blue,\\\\nValentine\\'s Day is here, what will you do?\\\\nBuy chocolates and flowers, or write a love letter,\\\\nJust don\\'t forget, to make it all better.\\\\n\\\\nIf you\\'re single, don\\'t you fret,\\\\nTreat yourself, to something you won\\'t regret.\\\\nLove yourself, and be your own Valentine,\\\\nYou deserve it, all the time.\\\\n\\\\nAnd the translated version in French is:\\\\n\\\\nLes roses sont rouges, les violettes sont bleues,\\\\nLa Saint-Valentin est l\\\\u00e0, que feras-tu ?\\\\nAch\\\\u00e8teras-tu des chocolats et des fleurs, ou \\\\u00e9criras-tu une lettre d\\'amour,\\\\nN\\'oublie pas, juste pour rendre tout meilleur.\\\\n\\\\nSi tu es c\\\\u00e9libataire, ne t\\'inqui\\\\u00e8te pas,\\\\nFais-toi plaisir avec quelque chose que tu ne regretteras pas.\\\\nAime-toi toi-m\\\\u00eame, et sois ton propre Valentin,\\\\nTu le m\\\\u00e9rites, tout le temps.\",\\n        \"original_response\": \"[FINAL ANSWER]\\\\nThe short poem for Valentine\\'s day is:\\\\n\\\\nRoses are red, violets are blue,\\\\nValentine\\'s Day is here, what will you do?\\\\nBuy chocolates and flowers, or write a love letter,\\\\nJust don\\'t forget, to make it all better.\\\\n\\\\nIf you\\'re single, don\\'t you fret,\\\\nTreat yourself, to something you won\\'t regret.\\\\nLove yourself, and be your own Valentine,\\\\nYou deserve it, all the time.\\\\n\\\\nAnd the translated version in French is:\\\\n\\\\nLes roses sont rouges, les violettes sont bleues,\\\\nLa Saint-Valentin est l\\\\u00e0, que feras-tu ?\\\\nAch\\\\u00e8teras-tu des chocolats et des fleurs, ou \\\\u00e9criras-tu une lettre d\\'amour,\\\\nN\\'oublie pas, juste pour rendre tout meilleur.\\\\n\\\\nSi tu es c\\\\u00e9libataire, ne t\\'inqui\\\\u00e8te pas,\\\\nFais-toi plaisir avec quelque chose que tu ne regretteras pas.\\\\nAime-toi toi-m\\\\u00eame, et sois ton propre Valentin,\\\\nTu le m\\\\u00e9rites, tout le temps.\"\\n    }\\n]')\n",
      "✅ Skills used: 2 (LiterateFriend.ShortPoem(1), LiterateFriend.Translate(1))\n"
     ]
    },
    {
     "data": {
      "text/markdown": [
       "## ✨ Generated result from the ask: \n",
       "Tomorrow is Valentine's day. I need to come up with a poem. Translate the poem to French.\n",
       "\n",
       "---\n",
       "The short poem for Valentine's day is:\n",
       "\n",
       "Roses are red, violets are blue,\n",
       "Valentine's Day is here, what will you do?\n",
       "Buy chocolates and flowers, or write a love letter,\n",
       "Just don't forget, to make it all better.\n",
       "\n",
       "If you're single, don't you fret,\n",
       "Treat yourself, to something you won't regret.\n",
       "Love yourself, and be your own Valentine,\n",
       "You deserve it, all the time.\n",
       "\n",
       "And the translated version in French is:\n",
       "\n",
       "Les roses sont rouges, les violettes sont bleues,\n",
       "La Saint-Valentin est là, que feras-tu ?\n",
       "Achèteras-tu des chocolats et des fleurs, ou écriras-tu une lettre d'amour,\n",
       "N'oublie pas, juste pour rendre tout meilleur.\n",
       "\n",
       "Si tu es célibataire, ne t'inquiète pas,\n",
       "Fais-toi plaisir avec quelque chose que tu ne regretteras pas.\n",
       "Aime-toi toi-même, et sois ton propre Valentin,\n",
       "Tu le mérites, tout le temps."
      ],
      "text/plain": [
       "<IPython.core.display.Markdown object>"
      ]
     },
     "metadata": {},
     "output_type": "display_data"
    }
   ],
   "source": [
    "from semantic_kernel.planning import StepwisePlanner\n",
    "from semantic_kernel.core_skills.text_skill import TextSkill\n",
    "\n",
    "plugins_directory = \"./plugins-sk\"\n",
    "writer_skill = kernel.import_semantic_skill_from_directory(plugins_directory, \"LiterateFriend\")\n",
    "\n",
    "# create an instance of sequential planner.\n",
    "planner = StepwisePlanner(kernel)\n",
    "\n",
    "# the ask for which the sequential planner is going to find a relevant function.\n",
    "ask = \"\"\"\n",
    "Tomorrow is Valentine's day. I need to come up with a poem. Translate the poem to French.\"\"\"\n",
    "\n",
    "# ask the sequential planner to identify a suitable function from the list of functions available.\n",
    "plan = planner.create_plan(goal=ask)\n",
    "\n",
    "# ask the sequential planner to execute the identified function.\n",
    "result = await plan.invoke_async()\n",
    "\n",
    "trace_resultp = True\n",
    "\n",
    "if trace_resultp:\n",
    "    print(\"✅ Scratchpad: \" + str(result.variables.get(\"agent_scratch_pad\")))\n",
    "    print(\"✅ Thinking out loud: \" + str(result.variables.get(\"steps_taken\")))\n",
    "    print(\"✅ Skills used: \" + str(result.variables.get(\"skill_count\")[1]))\n",
    "\n",
    "display(Markdown(f\"## ✨ Generated result from the ask: {ask}\\n\\n---\\n\" + str(result)))"
   ]
  },
  {
   "cell_type": "markdown",
   "metadata": {},
   "source": [
    "# 🔖 There are a variety of limitations to using the planner in August of 2023 in terms of number of tokens required and model preference that we can expect to slowly vanish over time. For simple tasks, this Planner-based approach is unusually powerful. It takes full advantage of both COMPLETION and SIMILARITY in a truly magical way.\n",
    "\n",
    "![](assets/twodimensions.png)"
   ]
  }
 ],
 "metadata": {
  "kernelspec": {
   "display_name": ".venv",
   "language": "python",
   "name": "python3"
  },
  "language_info": {
   "codemirror_mode": {
    "name": "ipython",
    "version": 3
   },
   "file_extension": ".py",
   "mimetype": "text/x-python",
   "name": "python",
   "nbconvert_exporter": "python",
   "pygments_lexer": "ipython3",
   "version": "3.9.6"
  },
  "orig_nbformat": 4
 },
 "nbformat": 4,
 "nbformat_minor": 2
}
