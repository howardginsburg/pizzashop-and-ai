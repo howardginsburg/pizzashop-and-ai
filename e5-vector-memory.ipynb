{
 "cells": [
  {
   "cell_type": "markdown",
   "metadata": {},
   "source": [
    "# E5 Gathering all the context pieces into a vector memory store"
   ]
  },
  {
   "cell_type": "markdown",
   "metadata": {},
   "source": [
    "## Get a 🔥 kernel ready with a vector memory store\n",
    "\n",
    "We're going to create a kernel that includes an embedding generation service — so that we can best construct the context that will be used."
   ]
  },
  {
   "cell_type": "code",
   "execution_count": 1,
   "metadata": {},
   "outputs": [
    {
     "name": "stdout",
     "output_type": "stream",
     "text": [
      "Requirement already satisfied: semantic-kernel==0.3.4.dev0 in ./.venv/lib/python3.9/site-packages (0.3.4.dev0)\n",
      "Requirement already satisfied: aiofiles<24.0.0,>=23.1.0 in ./.venv/lib/python3.9/site-packages (from semantic-kernel==0.3.4.dev0) (23.1.0)\n",
      "Requirement already satisfied: numpy<2.0.0,>=1.24.2 in ./.venv/lib/python3.9/site-packages (from semantic-kernel==0.3.4.dev0) (1.25.2)\n",
      "Requirement already satisfied: openai<0.28.0,>=0.27.0 in ./.venv/lib/python3.9/site-packages (from semantic-kernel==0.3.4.dev0) (0.27.8)\n",
      "Requirement already satisfied: python-dotenv==1.0.0 in ./.venv/lib/python3.9/site-packages (from semantic-kernel==0.3.4.dev0) (1.0.0)\n",
      "Requirement already satisfied: regex<2024.0.0,>=2023.6.3 in ./.venv/lib/python3.9/site-packages (from semantic-kernel==0.3.4.dev0) (2023.6.3)\n",
      "Requirement already satisfied: requests>=2.20 in ./.venv/lib/python3.9/site-packages (from openai<0.28.0,>=0.27.0->semantic-kernel==0.3.4.dev0) (2.31.0)\n",
      "Requirement already satisfied: tqdm in ./.venv/lib/python3.9/site-packages (from openai<0.28.0,>=0.27.0->semantic-kernel==0.3.4.dev0) (4.65.0)\n",
      "Requirement already satisfied: aiohttp in ./.venv/lib/python3.9/site-packages (from openai<0.28.0,>=0.27.0->semantic-kernel==0.3.4.dev0) (3.8.5)\n",
      "Requirement already satisfied: charset-normalizer<4,>=2 in ./.venv/lib/python3.9/site-packages (from requests>=2.20->openai<0.28.0,>=0.27.0->semantic-kernel==0.3.4.dev0) (3.2.0)\n",
      "Requirement already satisfied: idna<4,>=2.5 in ./.venv/lib/python3.9/site-packages (from requests>=2.20->openai<0.28.0,>=0.27.0->semantic-kernel==0.3.4.dev0) (3.4)\n",
      "Requirement already satisfied: urllib3<3,>=1.21.1 in ./.venv/lib/python3.9/site-packages (from requests>=2.20->openai<0.28.0,>=0.27.0->semantic-kernel==0.3.4.dev0) (2.0.4)\n",
      "Requirement already satisfied: certifi>=2017.4.17 in ./.venv/lib/python3.9/site-packages (from requests>=2.20->openai<0.28.0,>=0.27.0->semantic-kernel==0.3.4.dev0) (2023.7.22)\n",
      "Requirement already satisfied: attrs>=17.3.0 in ./.venv/lib/python3.9/site-packages (from aiohttp->openai<0.28.0,>=0.27.0->semantic-kernel==0.3.4.dev0) (23.1.0)\n",
      "Requirement already satisfied: multidict<7.0,>=4.5 in ./.venv/lib/python3.9/site-packages (from aiohttp->openai<0.28.0,>=0.27.0->semantic-kernel==0.3.4.dev0) (6.0.4)\n",
      "Requirement already satisfied: async-timeout<5.0,>=4.0.0a3 in ./.venv/lib/python3.9/site-packages (from aiohttp->openai<0.28.0,>=0.27.0->semantic-kernel==0.3.4.dev0) (4.0.2)\n",
      "Requirement already satisfied: yarl<2.0,>=1.0 in ./.venv/lib/python3.9/site-packages (from aiohttp->openai<0.28.0,>=0.27.0->semantic-kernel==0.3.4.dev0) (1.9.2)\n",
      "Requirement already satisfied: frozenlist>=1.1.1 in ./.venv/lib/python3.9/site-packages (from aiohttp->openai<0.28.0,>=0.27.0->semantic-kernel==0.3.4.dev0) (1.4.0)\n",
      "Requirement already satisfied: aiosignal>=1.1.2 in ./.venv/lib/python3.9/site-packages (from aiohttp->openai<0.28.0,>=0.27.0->semantic-kernel==0.3.4.dev0) (1.3.1)\n"
     ]
    }
   ],
   "source": [
    "!python -m pip install semantic-kernel==0.3.4.dev0"
   ]
  },
  {
   "cell_type": "code",
   "execution_count": 4,
   "metadata": {},
   "outputs": [
    {
     "name": "stderr",
     "output_type": "stream",
     "text": [
      "/Users/johnmaeda/Documents/GitHub/pizzashop-and-ai/.venv/lib/python3.9/site-packages/urllib3/__init__.py:34: NotOpenSSLWarning: urllib3 v2.0 only supports OpenSSL 1.1.1+, currently the 'ssl' module is compiled with 'LibreSSL 2.8.3'. See: https://github.com/urllib3/urllib3/issues/3020\n",
      "  warnings.warn(\n"
     ]
    },
    {
     "data": {
      "text/plain": [
       "{'recall': <semantic_kernel.orchestration.sk_function.SKFunction at 0x10b94fac0>,\n",
       " 'save': <semantic_kernel.orchestration.sk_function.SKFunction at 0x10b94fcd0>}"
      ]
     },
     "execution_count": 4,
     "metadata": {},
     "output_type": "execute_result"
    }
   ],
   "source": [
    "import semantic_kernel as sk\n",
    "from semantic_kernel.connectors.ai.open_ai import OpenAIChatCompletion, OpenAITextEmbedding\n",
    "from semantic_kernel.connectors.ai.open_ai import AzureChatCompletion, AzureTextEmbedding\n",
    "\n",
    "kernel = sk.Kernel()\n",
    "\n",
    "useAzureOpenAI = False\n",
    "\n",
    "# Configure AI services used by the kernel\n",
    "if useAzureOpenAI:\n",
    "    deployment, api_key, endpoint = sk.azure_openai_settings_from_dot_env()\n",
    "    kernel.add_text_completion_service(\"dv\", AzureChatCompletion(deployment, endpoint, api_key))\n",
    "    kernel.add_text_embedding_generation_service(\"ada\", AzureTextEmbedding(\"text-embedding-ada-002\", api_key, endpoint))\n",
    "else:\n",
    "    api_key, org_id = sk.openai_settings_from_dot_env()\n",
    "    kernel.add_text_completion_service(\"dv\", OpenAIChatCompletion(\"gpt-3.5-turbo\", api_key, org_id))\n",
    "    kernel.add_text_embedding_generation_service(\"ada\", OpenAITextEmbedding(\"text-embedding-ada-002\", api_key, org_id))\n",
    "\n",
    "kernel.register_memory_store(memory_store=sk.memory.VolatileMemoryStore())\n",
    "kernel.import_skill(sk.core_skills.TextMemorySkill())"
   ]
  },
  {
   "cell_type": "markdown",
   "metadata": {},
   "source": [
    "## Prepare a \"semantic\" 🧐 memory bank to be used by the AI\n",
    "\n",
    "We store the SWOT information in \"conventional\" arrays in Python that are not \"semantic\" in nature. That said, they're still eminently useful for the kind of computations we'll play with."
   ]
  },
  {
   "cell_type": "code",
   "execution_count": 5,
   "metadata": {},
   "outputs": [],
   "source": [
    "strength_questions = [\"What unique recipes or ingredients does the pizza shop use?\",\"What are the skills and experience of the staff?\",\"Does the pizza shop have a strong reputation in the local area?\",\"Are there any unique features of the shop or its location that attract customers?\", \"Does the pizza shop have a strong reputation in the local area?\", \"Are there any unique features of the shop or its location that attract customers?\"]\n",
    "weakness_questions = [\"What are the operational challenges of the pizza shop? (e.g., slow service, high staff turnover)\",\"Are there financial constraints that limit growth or improvements?\",\"Are there any gaps in the product offering?\",\"Are there customer complaints or negative reviews that need to be addressed?\"]\n",
    "opportunities_questions = [\"Is there potential for new products or services (e.g., catering, delivery)?\",\"Are there under-served customer segments or market areas?\",\"Can new technologies or systems enhance the business operations?\",\"Are there partnerships or local events that can be leveraged for marketing?\"]\n",
    "threats_questions = [\"Who are the major competitors and what are they offering?\",\"Are there potential negative impacts due to changes in the local area (e.g., construction, closure of nearby businesses)?\",\"Are there economic or industry trends that could impact the business negatively (e.g., increased ingredient costs)?\",\"Is there any risk due to changes in regulations or legislation (e.g., health and safety, employment)?\"]\n",
    "\n",
    "strengths = [ \"Unique garlic pizza recipe that wins top awards\",\"Owner trained in Sicily at some of the best pizzerias\",\"Strong local reputation\",\"Prime location on university campus\" ]\n",
    "weaknesses = [ \"High staff turnover\",\"Floods in the area damaged the seating areas that are in need of repair\",\"Absence of popular calzones from menu\",\"Negative reviews from younger demographic for lack of hip ingredients\" ]\n",
    "opportunities = [ \"Untapped catering potential\",\"Growing local tech startup community\",\"Unexplored online presence and order capabilities\",\"Upcoming annual food fair\" ]\n",
    "threats = [ \"Competition from cheaper pizza businesses nearby\",\"There's nearby street construction that will impact foot traffic\",\"Rising cost of cheese will increase the cost of pizzas\",\"No immediate local regulatory changes but it's election season\" ]"
   ]
  },
  {
   "cell_type": "markdown",
   "metadata": {},
   "source": [
    "And to store the information semantically, we use the text embedding model added to the kernel to convert text into long vectors of numbers. We only need to do this once. But note that unless we have a \"vector database\" wired into the kernel, the embedding calculations do not last beyond this notebook. That's why it's called a \"volatile\" memory store."
   ]
  },
  {
   "cell_type": "code",
   "execution_count": 6,
   "metadata": {},
   "outputs": [
    {
     "name": "stdout",
     "output_type": "stream",
     "text": [
      "Embeddings for SWOT have been generated\n"
     ]
    }
   ],
   "source": [
    "memoryCollectionName = \"SWOT\"\n",
    "\n",
    "for i in range(len(strengths)):\n",
    "    await kernel.memory.save_information_async(memoryCollectionName, id=f\"strength-{i}\", text=f\"Internal business strength (S in SWOT) that makes customers happy and satisfied Q&A: Q: {strength_questions[i]} A: {strengths[i]}\")\n",
    "for i in range(len(weaknesses)):\n",
    "    await kernel.memory.save_information_async(memoryCollectionName, id=f\"weakness-{i}\", text=f\"Internal business weakness (W in SWOT) that makes customers unhappy and dissatisfied Q&A: Q: {weakness_questions[i]} A: {weaknesses[i]}\")\n",
    "for i in range(len(opportunities)):\n",
    "    await kernel.memory.save_information_async(memoryCollectionName, id=f\"opportunity-{i}\", text=f\"External opportunity (O in SWOT) for the business to gain entirely new customers Q&A: Q: {opportunities_questions[i]} A: {opportunities[i]}\")\n",
    "for i in range(len(threats)):\n",
    "    await kernel.memory.save_information_async(memoryCollectionName, id=f\"threat-{i}\", text=f\"External threat (T in SWOT) to the business that impacts its survival Q&A: Q: {threats_questions[i]} A: {threats[i]}\")\n",
    "\n",
    "print(\"Embeddings for SWOT have been generated\")"
   ]
  },
  {
   "cell_type": "markdown",
   "metadata": {},
   "source": [
    "Keep in mind that weaknesses and threats are v similar but strengths and weaknesses usually pertain to internal factors; whereas opportunities and threats pertain to external factors. Play around with the `ask` variable below to get a sense of how the embedding model does with comparing your `ask` to the vectors that have been computed and stored in the step above."
   ]
  },
  {
   "cell_type": "code",
   "execution_count": 7,
   "metadata": {},
   "outputs": [
    {
     "name": "stdout",
     "output_type": "stream",
     "text": [
      "Similarity result 1:\n",
      "  >> ID: threat-2\n",
      "  Text: External threat (T in SWOT) to the business that impacts its survival Q&A: Q: Are there economic or industry trends that could impact the business negatively (e.g., increased ingredient costs)? A: Rising cost of cheese will increase the cost of pizzas  Relevance: 0.8115734986603766\n",
      "\n",
      "Similarity result 2:\n",
      "  >> ID: weakness-1\n",
      "  Text: Internal business weakness (W in SWOT) that makes customers unhappy and dissatisfied Q&A: Q: Are there financial constraints that limit growth or improvements? A: Floods in the area damaged the seating areas that are in need of repair  Relevance: 0.793127063303838\n",
      "\n",
      "Similarity result 3:\n",
      "  >> ID: opportunity-2\n",
      "  Text: External opportunity (O in SWOT) for the business to gain entirely new customers Q&A: Q: Can new technologies or systems enhance the business operations? A: Unexplored online presence and order capabilities  Relevance: 0.7845129507724604\n",
      "\n",
      "Similarity result 4:\n",
      "  >> ID: opportunity-0\n",
      "  Text: External opportunity (O in SWOT) for the business to gain entirely new customers Q&A: Q: Is there potential for new products or services (e.g., catering, delivery)? A: Untapped catering potential  Relevance: 0.7844659023101431\n",
      "\n",
      "Similarity result 5:\n",
      "  >> ID: threat-1\n",
      "  Text: External threat (T in SWOT) to the business that impacts its survival Q&A: Q: Are there potential negative impacts due to changes in the local area (e.g., construction, closure of nearby businesses)? A: There's nearby street construction that will impact foot traffic  Relevance: 0.7834069299330598\n",
      "\n"
     ]
    }
   ],
   "source": [
    "from IPython.display import display, Markdown\n",
    "\n",
    "ask = \"rising costs for the business\"\n",
    "counter = 0\n",
    "\n",
    "memories = await kernel.memory.search_async(memoryCollectionName, ask, limit=5, min_relevance_score=0.77)\n",
    "\n",
    "for memory in memories:\n",
    "    if counter == 0:\n",
    "        related_memory = memory.text\n",
    "    counter += 1\n",
    "    print(f\"Similarity result {counter}:\\n  >> ID: {memory.id}\\n  Text: {memory.text}  Relevance: {memory.relevance}\\n\")"
   ]
  },
  {
   "cell_type": "markdown",
   "metadata": {},
   "source": [
    "The idea of having a semantic memory bank like this available is when new information can get thrown into the bank, and relevant information can be easily pulled out on-demand."
   ]
  },
  {
   "cell_type": "markdown",
   "metadata": {},
   "source": [
    "## Storing all the Business Thinking and Design Thinking into semantic memory\n",
    "\n",
    "Let's take everything we have gathered thus far and put it into the semantic memory bank"
   ]
  },
  {
   "cell_type": "code",
   "execution_count": 5,
   "metadata": {},
   "outputs": [
    {
     "name": "stdout",
     "output_type": "stream",
     "text": [
      "Computing cost efficiency...\n",
      "Computing time efficiency...\n",
      "Computing biz 101 overview...\n",
      "Computing design thinking interim results from customer comments ...\n",
      "Memory is flush with information :+)\n"
     ]
    }
   ],
   "source": [
    "skillsDirectory = \"./plugins-sk\"\n",
    "\n",
    "pluginBT = kernel.import_semantic_skill_from_directory(skillsDirectory, \"BusinessThinking\");\n",
    "\n",
    "my_context = kernel.create_new_context()\n",
    "my_context['business'] = 'makes pizzas'\n",
    "my_context['strengths'] = \", \".join(strengths)\n",
    "my_context['weaknesses'] = \", \".join(weaknesses)\n",
    "my_context['opportunities'] = \", \".join(opportunities)\n",
    "my_context['threats'] = \", \".join(threats)\n",
    "\n",
    "print(\"Computing cost efficiency...\")\n",
    "costefficiency_result = await kernel.run_async(pluginBT[\"SeekCostEfficiency\"], input_context=my_context)\n",
    "costefficiency_str = str(\"## Suggestions for how to gain cost efficiencies\\n\" + str(costefficiency_result))\n",
    "await kernel.memory.save_information_async(memoryCollectionName, id=\"costefficiency\", text=costefficiency_str)\n",
    "\n",
    "print(\"Computing time efficiency...\")\n",
    "timeefficiency_result = await kernel.run_async(pluginBT[\"SeekTimeEfficiency\"], input_context=my_context)\n",
    "timeefficiency_str = \"## Suggestions for how to gain time efficiencies\\n\"+str(timeefficiency_result)\n",
    "await kernel.memory.save_information_async(memoryCollectionName, id=\"timeefficiency\", text=timeefficiency_str)\n",
    "\n",
    "print(\"Computing biz 101 overview...\")\n",
    "biz101_result = await kernel.run_async(pluginBT[\"Biz101Overview\"], input_context=my_context)\n",
    "biz101_str = \"# Biz 101 thinking based on SWOT analysis\\n\"+str(biz101_result)\n",
    "await kernel.memory.save_information_async(memoryCollectionName, id=\"biz101\", text=biz101_str)\n",
    "\n",
    "customer_comments = \"\"\"\n",
    "Customer 1: The seats look really raggedy.\n",
    "Customer 2: The garlic pizza is the best on this earth.\n",
    "Customer 3: I've noticed that there's a new server every time I visit, and they're clueless.\n",
    "Customer 4: Why aren't there calzones?\n",
    "Customer 5: I love the garlic pizza and can't get it anywhere else.\n",
    "Customer 6: The garlic pizza is exceptional.\n",
    "Customer 7: Pizza can get a little messy so I prefer a calzone's neatness.\n",
    "Customer 8: Why is the pizza so expensive?\n",
    "Customer 9: There's no way to do online ordering.\n",
    "Customer 10: Why is the seating so uncomfortable and dirty?\n",
    "\"\"\"\n",
    "\n",
    "print(\"Computing design thinking interim results from customer comments ...\")\n",
    "pluginDT = kernel.import_semantic_skill_from_directory(skillsDirectory, \"DesignThinking\");\n",
    "my_result = await kernel.run_async(pluginDT[\"Empathize\"], pluginDT[\"Define\"], input_str=customer_comments)\n",
    "designthinking_str = \"# Categorized observations\\n\"+str(my_result)\n",
    "await kernel.memory.save_information_async(memoryCollectionName, id=\"designthinking\", text=designthinking_str)\n",
    "\n",
    "print(\"Memory is flush with information :+)\")"
   ]
  },
  {
   "cell_type": "markdown",
   "metadata": {},
   "source": [
    "## Put the accumulated memory to good use"
   ]
  },
  {
   "cell_type": "code",
   "execution_count": 38,
   "metadata": {},
   "outputs": [
    {
     "name": "stdout",
     "output_type": "stream",
     "text": [
      "Similarity result 1:\n",
      "  >> ID: opportunity-0\n",
      "  Text: External opportunity (O in SWOT) for the business to gain entirely new customers Q&A: Q: Is there potential for new products or services (e.g., catering, delivery)? A: Untapped catering potential  Relevance: 0.7859603751036197\n",
      "\n",
      "Similarity result 2:\n",
      "  >> ID: opportunity-2\n",
      "  Text: External opportunity (O in SWOT) for the business to gain entirely new customers Q&A: Q: Can new technologies or systems enhance the business operations? A: Unexplored online presence and order capabilities  Relevance: 0.7858114919880576\n",
      "\n",
      "Similarity result 3:\n",
      "  >> ID: opportunity-1\n",
      "  Text: External opportunity (O in SWOT) for the business to gain entirely new customers Q&A: Q: Are there under-served customer segments or market areas? A: Growing local tech startup community  Relevance: 0.7801646402457444\n",
      "\n",
      "Similarity result 4:\n",
      "  >> ID: opportunity-3\n",
      "  Text: External opportunity (O in SWOT) for the business to gain entirely new customers Q&A: Q: Are there partnerships or local events that can be leveraged for marketing? A: Upcoming annual food fair  Relevance: 0.7794708861776537\n",
      "\n",
      "Similarity result 5:\n",
      "  >> ID: threat-0\n",
      "  Text: External threat (T in SWOT) to the business that impacts its survival Q&A: Q: Who are the major competitors and what are they offering? A: Competition from cheaper pizza businesses nearby  Relevance: 0.7762509507017342\n",
      "\n"
     ]
    }
   ],
   "source": [
    "ask = \"How can the business make more money built upon its core strengths quickly?\"\n",
    "counter = 0\n",
    "\n",
    "gathered_context = []\n",
    "\n",
    "memories = await kernel.memory.search_async(memoryCollectionName, ask, limit=5, min_relevance_score=0.77)\n",
    "\n",
    "for memory in memories:\n",
    "    if counter == 0:\n",
    "        related_memory = memory.text\n",
    "    counter += 1\n",
    "    gathered_context.append(memory.text + \"\\n\")\n",
    "    print(f\"Similarity result {counter}:\\n  >> ID: {memory.id}\\n  Text: {memory.text}  Relevance: {memory.relevance}\\n\")\n",
    "\n"
   ]
  },
  {
   "cell_type": "markdown",
   "metadata": {},
   "source": [
    "Now that we have some useful context scraped from our available memories, we can now ask a question and hope to get a useful answer back. If more context to give to the session is desired, just change the parameter `limit` in the previous code block to integrate more of the knowledge that has been accumulated."
   ]
  },
  {
   "cell_type": "code",
   "execution_count": 28,
   "metadata": {},
   "outputs": [
    {
     "data": {
      "text/markdown": [
       "### Helpful advice for you in response to ...\n",
       ">How can the business make more money built upon its core strengths quickly?\n",
       "\n",
       "- To make more money built upon its core strengths quickly, the business can consider the following strategies:\n",
       "- Explore online presence and order capabilities to attract new customers who prefer online shopping and delivery options.\n",
       "- Tap into the catering potential by offering catering services to attract new customers and increase revenue.\n",
       "- Leverage the prime location on the university campus to attract more customers, especially students and faculty members.\n",
       "- Target the growing local tech startup community by understanding their needs and offering tailored products or services.\n",
       "- Utilize the owner's skills and experience in Sicilian pizza-making to create a unique selling point and attract customers who appreciate authentic and high-quality pizza."
      ],
      "text/plain": [
       "<IPython.core.display.Markdown object>"
      ]
     },
     "metadata": {},
     "output_type": "display_data"
    }
   ],
   "source": [
    "ask = \"How can the business make more money built upon its core strengths quickly?\"\n",
    "qna_function_inline = kernel.create_semantic_function(\"\"\"\n",
    "The following is a conversation with an AI assistant. The assistant uses simple vocabulary and sentence structures ool audience\n",
    "AI: Sure, I can help. What's your question?\n",
    "User: {{$input}}\n",
    "AI: Let me respond as markdown bullets.\"\"\",\n",
    "                                                    max_tokens=2000,\n",
    "                                                    temperature=0.1,\n",
    "                                                    top_p=0.5)\n",
    "\n",
    "\n",
    "output = qna_function_inline(ask + \"This is what I know so far and the response should be grounded in this information \" + \" \".join(gathered_context))\n",
    "\n",
    "display(Markdown(f\"### Helpful advice for you in response to ...\\n>{ask}\\n\\n\" + str(output)))"
   ]
  },
  {
   "cell_type": "markdown",
   "metadata": {},
   "source": [
    "## A simpler, compact, and less powerful way to do the same thing\n",
    "\n",
    "You can also create a PLUGIN in SK that can `recall` the single most-similar memory from the vector store. It doesn't include as much context as used in the previous example, but it shows how a complex idea can be expressed simply with the primitives within SK."
   ]
  },
  {
   "cell_type": "code",
   "execution_count": 43,
   "metadata": {},
   "outputs": [
    {
     "data": {
      "text/markdown": [
       "### Compact advice for you in response to ...\n",
       ">How can the business make more money built upon its core strengths quickly?\n",
       "\n",
       "Context: External opportunity (O in SWOT) for the business to gain entirely new customers\n",
       "\n",
       "- Utilize new technologies and systems to enhance the business operations\n",
       "- Develop and establish an online presence to reach a wider customer base\n",
       "- Implement online order capabilities to provide convenience and attract more customers\n",
       "- Invest in digital marketing strategies to promote the business and attract new customers\n",
       "- Offer exclusive online promotions or discounts to incentivize customers to make purchases\n",
       "- Collaborate with influencers or online platforms to increase brand visibility and attract new customers\n",
       "- Conduct market research to identify the target audience and tailor marketing efforts accordingly\n",
       "- Continuously monitor and analyze online customer feedback to improve products and services\n",
       "- Provide exceptional customer service through online channels to build customer loyalty and attract new customers."
      ],
      "text/plain": [
       "<IPython.core.display.Markdown object>"
      ]
     },
     "metadata": {},
     "output_type": "display_data"
    }
   ],
   "source": [
    "ask = \"How can the business make more money built upon its core strengths quickly?\"\n",
    "compact_asker_inline = kernel.create_semantic_function(\"\"\"\n",
    "Q: \"{{$user_input}} Be sure to only source the response from the following context information.\" \n",
    "Context: {{recall $user_input}}\n",
    "A: My response as markdown bullets:\"\"\",\n",
    "    max_tokens=2000,temperature=0.1,top_p=0.5)\n",
    "my_context = kernel.create_new_context()\n",
    "my_context['user_input'] = ask\n",
    "my_context[sk.core_skills.TextMemorySkill.COLLECTION_PARAM] = memoryCollectionName\n",
    "my_context[sk.core_skills.TextMemorySkill.RELEVANCE_PARAM] = 0.8\n",
    "output = compact_asker_inline(context=my_context)\n",
    "\n",
    "display(Markdown(f\"### Compact advice for you in response to ...\\n>{ask}\\n\\n\" + str(output)))"
   ]
  },
  {
   "cell_type": "markdown",
   "metadata": {},
   "source": [
    "## Quick business review\n",
    "\n",
    "Every business benefits from four courses of action to be used together or in combination:\n",
    "\n",
    "1. Grow the existing business\n",
    "2. Save money and time\n",
    "3. Add completely new business\n",
    "4. Prepare for the unknown\n",
    "\n",
    "![](assets/shopkeeper.png)\n",
    "\n",
    "The business owner is always leaking time and money from their valuable buckets of time and money. Let's help them succeed!"
   ]
  },
  {
   "cell_type": "markdown",
   "metadata": {},
   "source": [
    "## Quick tech review\n",
    "\n",
    "1. AI PLUGINs in SK enable encapsulating complex AI computations to be used on their own or to feed their results into other AI PLUGIN. \n",
    "2. AI memories, often called \"vector databases,\" can be used to hold information that is semantically searchable and can be leveraged as data to get fed into an AI PLUGIN.\n",
    "3. So-called \"hallucinations\" are reduced by building AI PLUGINs to process prompts, and also by managing banks of semantic information to assemble and deepen contexts to feed into AI computations.\n",
    "4. AI PLUGINs and vector databases are used most effectively with AI PLANNERs. What's a PLANNER? We'll jump into that next."
   ]
  }
 ],
 "metadata": {
  "kernelspec": {
   "display_name": ".venv",
   "language": "python",
   "name": "python3"
  },
  "language_info": {
   "codemirror_mode": {
    "name": "ipython",
    "version": 3
   },
   "file_extension": ".py",
   "mimetype": "text/x-python",
   "name": "python",
   "nbconvert_exporter": "python",
   "pygments_lexer": "ipython3",
   "version": "3.9.6"
  },
  "orig_nbformat": 4
 },
 "nbformat": 4,
 "nbformat_minor": 2
}
